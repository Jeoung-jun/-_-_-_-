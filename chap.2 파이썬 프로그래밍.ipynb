{
 "cells": [
  {
   "cell_type": "markdown",
   "id": "03dd6903",
   "metadata": {},
   "source": [
    "# 가상환경 설정 및 설치\n",
    "---\n",
    "- conda 명령어를 사용해서 새로운 가상환경을 설치한다.\n",
    "- 새로운 가상환경 설치\n",
    "    conda create --name 'python_stock'\n",
    "- 가상환경 사용\n",
    "    ```conda activate python_stock\n",
    "        (base) ~/python_stock_data_analysis % conda activate python_stock\n",
    "        (python_stock) ~/python_stock_data_analysis % \n",
    "    ```\n",
    "    - base -> python_stock 으로 변경된 것을 확인\n",
    "    \n",
    "- pip을 이용한 패키지 설치\n",
    "    - 본 책에서 사용하는 실습용 패키지를 한번에 설치하도록 [깃허브 홈페이지](www.github.com/investar/StockAnalysisInPython) 으로 이동해서 설치한다. \n",
    "    - pip install -r requirements.txt 명렁어를 통해서 필요한 라이브러리를 모두 설치한다. \n",
    "    - 판다스만 설치시에 오류가 생겨서 pip install pandas로 따로 설치해주었다."
   ]
  },
  {
   "cell_type": "markdown",
   "id": "9c59ffb7",
   "metadata": {},
   "source": [
    "# 파이썬 기본 문법들\n",
    "---\n",
    "\n",
    "- 기존에 알고 있던 내용들은 제외하고 조금이라도 헷갈리는 개념들만 모아서 정리한다. \n"
   ]
  },
  {
   "cell_type": "code",
   "execution_count": 5,
   "id": "0207bdc3",
   "metadata": {},
   "outputs": [
    {
     "name": "stdout",
     "output_type": "stream",
     "text": [
      "Exception occured : division by zero\n"
     ]
    }
   ],
   "source": [
    "# 예외처리\n",
    "# 일반적으로 프로그램 수행 도중에 예외가 발생하면 예외 메시지를 표시하고 자동으로 종료된다. \n",
    "# 종료되면 안 되는 프로그램의 경우 예외처리로 종료를 막을 수 있다. \n",
    "# 아래와 같이 Exception클래스를 문자열로 출력하면 예외명을 보고 디버깅할 때 도움이 된다. \n",
    "try:\n",
    "    1/0\n",
    "except Exception as e:\n",
    "    print(\"Exception occured :\", str(e))"
   ]
  },
  {
   "cell_type": "code",
   "execution_count": 12,
   "id": "f9b5d4a0",
   "metadata": {},
   "outputs": [
    {
     "name": "stdout",
     "output_type": "stream",
     "text": [
      "1 : 3 3 : 4 2 : 2 4 : 0 0 : 1 \n",
      "1 : 3 3 : 4 2 : 2 4 : 0 0 : 1 \n",
      "1 : 3 3 : 4 2 : 2 4 : 0 0 : 1 "
     ]
    }
   ],
   "source": [
    "#문자열 포맷 출력\n",
    "x = [1,3,2,4,0]\n",
    "\n",
    "# 1. %기호 방식\n",
    "for num in x:\n",
    "    print('%d : %d' %(num, x[num]), end = ' ')\n",
    "print()    \n",
    "\n",
    "# 2. {}기호 방식\n",
    "for num in x:\n",
    "    print('{} : {}'.format(num, x[num]), end  =' ')\n",
    "print()    \n",
    "\n",
    "# 3. f-strings 방식\n",
    "for num in x:\n",
    "    print(f'{num} : {x[num]}', end = ' ')\n",
    "    "
   ]
  },
  {
   "cell_type": "code",
   "execution_count": 15,
   "id": "27d4f513",
   "metadata": {},
   "outputs": [
    {
     "name": "stdout",
     "output_type": "stream",
     "text": [
      "0.0901010130000941\n",
      "0.07443769000019529\n",
      "0.09664344399971014\n"
     ]
    }
   ],
   "source": [
    "#타임잇으로 성능 측정하기\n",
    "#timeit(테스트 구문, setup = 테스트 준비 구문, number=테스트 반복 횟수)\n",
    "import timeit\n",
    "iteration_test = '''\n",
    "for i in itr:\n",
    "    pass\n",
    "'''\n",
    "print(timeit.timeit(iteration_test, setup = 'itr = list(range(10000))', number = 1000))\n",
    "print(timeit.timeit(iteration_test, setup = 'itr = tuple(range(10000))', number = 1000))\n",
    "print(timeit.timeit(iteration_test, setup = 'itr = set(range(10000))', number = 1000))"
   ]
  },
  {
   "cell_type": "code",
   "execution_count": 21,
   "id": "7e37658a",
   "metadata": {},
   "outputs": [
    {
     "name": "stdout",
     "output_type": "stream",
     "text": [
      "0.0559175630005484\n",
      "0.046166504999746394\n",
      "0.0010548440004640725\n"
     ]
    }
   ],
   "source": [
    "import timeit\n",
    "search_test = '''\n",
    "import random\n",
    "x = random.randint(0,len(itr)-1)\n",
    "if x in itr:\n",
    "    pass\n",
    "'''\n",
    "print(timeit.timeit(search_test, setup = 'itr = list(range(10000))', number = 1000))\n",
    "print(timeit.timeit(search_test, setup = 'itr = tuple(range(10000))', number = 1000))\n",
    "print(timeit.timeit(search_test, setup = 'itr = set(range(10000))', number = 1000))"
   ]
  },
  {
   "cell_type": "markdown",
   "id": "7ac606a7",
   "metadata": {},
   "source": [
    "# 파일 처리 및 외부 라이브러리 활용\n",
    "---\n",
    "- 리퀘스트로 인터넷에서 이미지 파일 가져오기\n",
    "- 파일 객체를 이용해서 일정 크기로 읽고 쓰면서 파일 복사하기\n",
    "- SHA-256 해시값으로 두 파일의 동일 여부 확인하기\n",
    "- matplotlib으로 이미지를 가공해서 비교하기"
   ]
  },
  {
   "cell_type": "code",
   "execution_count": 23,
   "id": "2ebe4fd8",
   "metadata": {},
   "outputs": [],
   "source": [
    "# request 패키지에서 제공하는 Get함수와 post함수를 사용하면 자유자재로 HTTP패킷을 주고받을 수 있다. \n",
    "# 아래처럼 호출해서 간단하게 이미지 파일을 get할 수 있다. \n",
    "import requests\n",
    "url = 'https://ssl.nexon.com/s2/game/fo4/obt/banner/main/0111_23toty/banner_big_20230111_23TOTY_image.jpg'\n",
    "r = requests.get(url, stream =True).raw"
   ]
  },
  {
   "cell_type": "code",
   "execution_count": 24,
   "id": "b3e01543",
   "metadata": {},
   "outputs": [],
   "source": [
    "# 이미지 처리 패키지인 필로를 사용한다. \n",
    "# open으로 열고, show로 사진을 보여주고 save로 저장해준다. \n",
    "from PIL import Image\n",
    "img = Image.open(r)\n",
    "img.show()\n",
    "img.save('src.png')"
   ]
  },
  {
   "cell_type": "code",
   "execution_count": 26,
   "id": "0db3b2a2",
   "metadata": {},
   "outputs": [
    {
     "name": "stdout",
     "output_type": "stream",
     "text": [
      "<bound method ImageFile.get_format_mimetype of <PIL.JpegImagePlugin.JpegImageFile image mode=RGB size=2000x640 at 0x7FA0E8DA3730>>\n"
     ]
    }
   ],
   "source": [
    "#JPG, RGB, 2000x640 등의 정보들을 알 수 있다. \n",
    "print(img.get_format_mimetype)"
   ]
  },
  {
   "cell_type": "code",
   "execution_count": 28,
   "id": "c12624f9",
   "metadata": {},
   "outputs": [],
   "source": [
    "#\"with ~ as 객체\"를 사용하면 close()를 할 필요가 없기 떄문에 편하다.\n",
    "#src 파일을 열어서 sf 파일 객체를 생성하고, dst파일을 쓰기 모드로 열어서 df 파일 객체를 생성한다. \n",
    "#BUF_SIZE는 한번에 읽는 데이터의 크기이다. \n",
    "BUF_SIZE = 1024\n",
    "with open('src.png','rb') as sf, open('dst.png', 'wb') as df:\n",
    "    while True:\n",
    "        data = sf.read(BUF_SIZE)\n",
    "        if not data:\n",
    "            break\n",
    "        df.write(data)"
   ]
  },
  {
   "cell_type": "code",
   "execution_count": 31,
   "id": "c20842a2",
   "metadata": {},
   "outputs": [
    {
     "name": "stdout",
     "output_type": "stream",
     "text": [
      "src.png's hash : f26d5c0ff8f175ff323a6552988fd3a37c861bfc9d8f35d65eb3c140aa0178a3\n",
      "dst.png's hash : f26d5c0ff8f175ff323a6552988fd3a37c861bfc9d8f35d65eb3c140aa0178a3\n"
     ]
    }
   ],
   "source": [
    "#sha-2는 미국 국가안보국이 설계한 해시 함수들의 집합으로 SHA-256은 256비트, 즉 64바이트의 해시값을 반환한다. \n",
    "#두개의 해시값이 같은 것을 확인할 수 있다. \n",
    "import hashlib\n",
    "\n",
    "sha_src = hashlib.sha256()\n",
    "sha_dst = hashlib.sha256()\n",
    "\n",
    "with open('src.png','rb') as sf, open('dst.png','rb') as df:\n",
    "    sha_src.update(sf.read())\n",
    "    sha_dst.update(df.read())\n",
    "    \n",
    "print(\"src.png's hash : {}\".format(sha_src.hexdigest()))\n",
    "print(\"dst.png's hash : {}\".format(sha_dst.hexdigest()))"
   ]
  },
  {
   "cell_type": "code",
   "execution_count": 32,
   "id": "896fb7eb",
   "metadata": {},
   "outputs": [],
   "source": [
    "#맷플롯립으로 이미지를 가공한다. \n",
    "import matplotlib.pyplot as plt\n",
    "import matplotlib.image as mpimg\n",
    "dst_img = mpimg.imread('dst.png')"
   ]
  },
  {
   "cell_type": "code",
   "execution_count": 35,
   "id": "8032dc67",
   "metadata": {},
   "outputs": [
    {
     "name": "stdout",
     "output_type": "stream",
     "text": [
      "[[0.41960785 0.39607844 0.3647059  ... 0.04705882 0.04705882 0.04313726]\n",
      " [0.42352942 0.41568628 0.39215687 ... 0.05098039 0.04705882 0.04313726]\n",
      " [0.4117647  0.42745098 0.41960785 ... 0.05098039 0.04705882 0.04313726]\n",
      " ...\n",
      " [0.18039216 0.16470589 0.15294118 ... 0.08627451 0.01176471 0.07843138]\n",
      " [0.16862746 0.15294118 0.15686275 ... 0.         0.02745098 0.        ]\n",
      " [0.15686275 0.14509805 0.16078432 ... 0.00784314 0.02745098 0.05098039]]\n"
     ]
    }
   ],
   "source": [
    "#pseudo 이미지는 파일을 슬라이싱해서 구했음으로 파일의 차원이 2차원이다. \n",
    "# print(dst_img)\n",
    "pseudo_img = dst_img[:, :, 0]\n",
    "# print(pseudo_img)"
   ]
  },
  {
   "cell_type": "code",
   "execution_count": 36,
   "id": "d6c80b97",
   "metadata": {},
   "outputs": [
    {
     "data": {
      "image/png": "[encoded data removed]",
      "text/plain": [
       "<Figure size 432x288 with 2 Axes>"
      ]
     },
     "metadata": {
      "needs_background": "light"
     },
     "output_type": "display_data"
    }
   ],
   "source": [
    "plt.suptitle('Image Processing', fontsize = 18)\n",
    "plt.subplot(1,2,1)\n",
    "plt.title('Original Image')\n",
    "plt.imshow(mpimg.imread('src.png'))\n",
    "\n",
    "plt.subplot(122)\n",
    "plt.title('pseudocolor Image')\n",
    "dst_img = mpimg.imread('dst.png')\n",
    "pseudo_img = dst_img[:,:,0]\n",
    "plt.imshow(pseudo_img)\n",
    "plt.show()"
   ]
  }
 ],
 "metadata": {
  "kernelspec": {
   "display_name": "Python 3 (ipykernel)",
   "language": "python",
   "name": "python3"
  },
  "language_info": {
   "codemirror_mode": {
    "name": "ipython",
    "version": 3
   },
   "file_extension": ".py",
   "mimetype": "text/x-python",
   "name": "python",
   "nbconvert_exporter": "python",
   "pygments_lexer": "ipython3",
   "version": "3.9.7"
  }
 },
 "nbformat": 4,
 "nbformat_minor": 5
}
