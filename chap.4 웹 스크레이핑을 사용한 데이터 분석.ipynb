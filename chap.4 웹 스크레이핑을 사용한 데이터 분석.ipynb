{
 "cells": [
  {
   "cell_type": "code",
   "execution_count": 3,
   "id": "5798db3f",
   "metadata": {
    "scrolled": true
   },
   "outputs": [
    {
     "data": {
      "text/html": [
       "<div>\n",
       "<style scoped>\n",
       "    .dataframe tbody tr th:only-of-type {\n",
       "        vertical-align: middle;\n",
       "    }\n",
       "\n",
       "    .dataframe tbody tr th {\n",
       "        vertical-align: top;\n",
       "    }\n",
       "\n",
       "    .dataframe thead th {\n",
       "        text-align: right;\n",
       "    }\n",
       "</style>\n",
       "<table border=\"1\" class=\"dataframe\">\n",
       "  <thead>\n",
       "    <tr style=\"text-align: right;\">\n",
       "      <th></th>\n",
       "      <th>회사명</th>\n",
       "      <th>종목코드</th>\n",
       "      <th>업종</th>\n",
       "      <th>주요제품</th>\n",
       "      <th>상장일</th>\n",
       "      <th>결산월</th>\n",
       "      <th>대표자명</th>\n",
       "      <th>홈페이지</th>\n",
       "      <th>지역</th>\n",
       "    </tr>\n",
       "  </thead>\n",
       "  <tbody>\n",
       "    <tr>\n",
       "      <th>0</th>\n",
       "      <td>티이엠씨</td>\n",
       "      <td>425040</td>\n",
       "      <td>기초 화학물질 제조업</td>\n",
       "      <td>반도체용 특수가스</td>\n",
       "      <td>2023-01-19</td>\n",
       "      <td>12월</td>\n",
       "      <td>유원양</td>\n",
       "      <td>http://temc.co.kr/</td>\n",
       "      <td>충청북도</td>\n",
       "    </tr>\n",
       "    <tr>\n",
       "      <th>1</th>\n",
       "      <td>한주라이트메탈</td>\n",
       "      <td>198940</td>\n",
       "      <td>1차 비철금속 제조업</td>\n",
       "      <td>알루미늄 기반 경량화 자동차 부품</td>\n",
       "      <td>2023-01-19</td>\n",
       "      <td>12월</td>\n",
       "      <td>정삼순, 이용진</td>\n",
       "      <td>http://www.hanjoolightmetal.com</td>\n",
       "      <td>울산광역시</td>\n",
       "    </tr>\n",
       "    <tr>\n",
       "      <th>2</th>\n",
       "      <td>옵티코어</td>\n",
       "      <td>380540</td>\n",
       "      <td>마그네틱 및 광학 매체 제조업</td>\n",
       "      <td>광트랜시버, 광다중화장치 등</td>\n",
       "      <td>2022-12-29</td>\n",
       "      <td>12월</td>\n",
       "      <td>진재현</td>\n",
       "      <td>http://www.opticore.co.kr/</td>\n",
       "      <td>경기도</td>\n",
       "    </tr>\n",
       "    <tr>\n",
       "      <th>3</th>\n",
       "      <td>아이오바이오</td>\n",
       "      <td>447690</td>\n",
       "      <td>의료용 기기 제조업</td>\n",
       "      <td>정량광형광기술을 활용한 구강질환 진단검사 의료기기</td>\n",
       "      <td>2022-12-28</td>\n",
       "      <td>12월</td>\n",
       "      <td>윤홍철</td>\n",
       "      <td>http://www.aiobio.co.kr/</td>\n",
       "      <td>서울특별시</td>\n",
       "    </tr>\n",
       "    <tr>\n",
       "      <th>4</th>\n",
       "      <td>타이드</td>\n",
       "      <td>346010</td>\n",
       "      <td>전자부품 제조업</td>\n",
       "      <td>PLC모뎀, DCU</td>\n",
       "      <td>2022-12-28</td>\n",
       "      <td>12월</td>\n",
       "      <td>조경종</td>\n",
       "      <td>http://www.tidekorea.com/kr/</td>\n",
       "      <td>서울특별시</td>\n",
       "    </tr>\n",
       "    <tr>\n",
       "      <th>...</th>\n",
       "      <td>...</td>\n",
       "      <td>...</td>\n",
       "      <td>...</td>\n",
       "      <td>...</td>\n",
       "      <td>...</td>\n",
       "      <td>...</td>\n",
       "      <td>...</td>\n",
       "      <td>...</td>\n",
       "      <td>...</td>\n",
       "    </tr>\n",
       "    <tr>\n",
       "      <th>2565</th>\n",
       "      <td>CJ대한통운</td>\n",
       "      <td>120</td>\n",
       "      <td>도로 화물 운송업</td>\n",
       "      <td>Contract Logistics, 포워딩, 항만하역, 해운, 택배국제특송, SCM...</td>\n",
       "      <td>1956-07-02</td>\n",
       "      <td>12월</td>\n",
       "      <td>강신호,민영학(각자대표)</td>\n",
       "      <td>http://www.cjlogistics.com</td>\n",
       "      <td>서울특별시</td>\n",
       "    </tr>\n",
       "    <tr>\n",
       "      <th>2566</th>\n",
       "      <td>메리츠화재</td>\n",
       "      <td>60</td>\n",
       "      <td>보험업</td>\n",
       "      <td>손해보험(화재,해상,운송보험)</td>\n",
       "      <td>1956-07-02</td>\n",
       "      <td>12월</td>\n",
       "      <td>김용범</td>\n",
       "      <td>http://www.meritzfire.com</td>\n",
       "      <td>서울특별시</td>\n",
       "    </tr>\n",
       "    <tr>\n",
       "      <th>2567</th>\n",
       "      <td>경방</td>\n",
       "      <td>50</td>\n",
       "      <td>종합 소매업</td>\n",
       "      <td>섬유류(면사,면혼방사,면직물,면혼방직물,화섬사,화섬직물) 제조,도매,수출입</td>\n",
       "      <td>1956-03-03</td>\n",
       "      <td>12월</td>\n",
       "      <td>김준, 김담</td>\n",
       "      <td>http://www.kyungbang.co.kr</td>\n",
       "      <td>서울특별시</td>\n",
       "    </tr>\n",
       "    <tr>\n",
       "      <th>2568</th>\n",
       "      <td>유수홀딩스</td>\n",
       "      <td>700</td>\n",
       "      <td>회사 본부 및 경영 컨설팅 서비스업</td>\n",
       "      <td>지주사업</td>\n",
       "      <td>1956-03-03</td>\n",
       "      <td>12월</td>\n",
       "      <td>송영규</td>\n",
       "      <td>http://www.eusu-holdings.com</td>\n",
       "      <td>서울특별시</td>\n",
       "    </tr>\n",
       "    <tr>\n",
       "      <th>2569</th>\n",
       "      <td>한진중공업홀딩스</td>\n",
       "      <td>3480</td>\n",
       "      <td>연료용 가스 제조 및 배관공급업</td>\n",
       "      <td>지주회사</td>\n",
       "      <td>1956-03-03</td>\n",
       "      <td>12월</td>\n",
       "      <td>조남호, 조원국</td>\n",
       "      <td>http://www.hhic-holdings.com</td>\n",
       "      <td>경기도</td>\n",
       "    </tr>\n",
       "  </tbody>\n",
       "</table>\n",
       "<p>2570 rows × 9 columns</p>\n",
       "</div>"
      ],
      "text/plain": [
       "           회사명    종목코드                   업종  \\\n",
       "0         티이엠씨  425040          기초 화학물질 제조업   \n",
       "1      한주라이트메탈  198940          1차 비철금속 제조업   \n",
       "2         옵티코어  380540     마그네틱 및 광학 매체 제조업   \n",
       "3       아이오바이오  447690           의료용 기기 제조업   \n",
       "4          타이드  346010             전자부품 제조업   \n",
       "...        ...     ...                  ...   \n",
       "2565    CJ대한통운     120            도로 화물 운송업   \n",
       "2566     메리츠화재      60                  보험업   \n",
       "2567        경방      50               종합 소매업   \n",
       "2568     유수홀딩스     700  회사 본부 및 경영 컨설팅 서비스업   \n",
       "2569  한진중공업홀딩스    3480    연료용 가스 제조 및 배관공급업   \n",
       "\n",
       "                                                   주요제품         상장일  결산월  \\\n",
       "0                                             반도체용 특수가스  2023-01-19  12월   \n",
       "1                                    알루미늄 기반 경량화 자동차 부품  2023-01-19  12월   \n",
       "2                                       광트랜시버, 광다중화장치 등  2022-12-29  12월   \n",
       "3                           정량광형광기술을 활용한 구강질환 진단검사 의료기기  2022-12-28  12월   \n",
       "4                                            PLC모뎀, DCU  2022-12-28  12월   \n",
       "...                                                 ...         ...  ...   \n",
       "2565  Contract Logistics, 포워딩, 항만하역, 해운, 택배국제특송, SCM...  1956-07-02  12월   \n",
       "2566                                   손해보험(화재,해상,운송보험)  1956-07-02  12월   \n",
       "2567          섬유류(면사,면혼방사,면직물,면혼방직물,화섬사,화섬직물) 제조,도매,수출입  1956-03-03  12월   \n",
       "2568                                               지주사업  1956-03-03  12월   \n",
       "2569                                               지주회사  1956-03-03  12월   \n",
       "\n",
       "               대표자명                             홈페이지     지역  \n",
       "0               유원양               http://temc.co.kr/   충청북도  \n",
       "1          정삼순, 이용진  http://www.hanjoolightmetal.com  울산광역시  \n",
       "2               진재현       http://www.opticore.co.kr/    경기도  \n",
       "3               윤홍철         http://www.aiobio.co.kr/  서울특별시  \n",
       "4               조경종     http://www.tidekorea.com/kr/  서울특별시  \n",
       "...             ...                              ...    ...  \n",
       "2565  강신호,민영학(각자대표)       http://www.cjlogistics.com  서울특별시  \n",
       "2566            김용범        http://www.meritzfire.com  서울특별시  \n",
       "2567         김준, 김담       http://www.kyungbang.co.kr  서울특별시  \n",
       "2568            송영규     http://www.eusu-holdings.com  서울특별시  \n",
       "2569       조남호, 조원국     http://www.hhic-holdings.com    경기도  \n",
       "\n",
       "[2570 rows x 9 columns]"
      ]
     },
     "execution_count": 3,
     "metadata": {},
     "output_type": "execute_result"
    }
   ],
   "source": [
    "#엑셀 파일은 xlsx확장자를 가지고 xls인 현재 파일은 html 파일이기에 두개의 차이가 존재한다.\n",
    "#만약 read_html() 명령어에 문제가 있다면 html5lib, lxml 두가지 라이브러리를 설치해주면 된다. \n",
    "import pandas as pd\n",
    "krx_list = pd.read_html('/Users/austin/Desktop/folders/python_stock_data_analysis/상장법인목록.xls')\n",
    "krx_list[0]"
   ]
  },
  {
   "cell_type": "code",
   "execution_count": 4,
   "id": "0669f226",
   "metadata": {
    "scrolled": true
   },
   "outputs": [
    {
     "data": {
      "text/html": [
       "<div>\n",
       "<style scoped>\n",
       "    .dataframe tbody tr th:only-of-type {\n",
       "        vertical-align: middle;\n",
       "    }\n",
       "\n",
       "    .dataframe tbody tr th {\n",
       "        vertical-align: top;\n",
       "    }\n",
       "\n",
       "    .dataframe thead th {\n",
       "        text-align: right;\n",
       "    }\n",
       "</style>\n",
       "<table border=\"1\" class=\"dataframe\">\n",
       "  <thead>\n",
       "    <tr style=\"text-align: right;\">\n",
       "      <th></th>\n",
       "      <th>회사명</th>\n",
       "      <th>종목코드</th>\n",
       "      <th>업종</th>\n",
       "      <th>주요제품</th>\n",
       "      <th>상장일</th>\n",
       "      <th>결산월</th>\n",
       "      <th>대표자명</th>\n",
       "      <th>홈페이지</th>\n",
       "      <th>지역</th>\n",
       "    </tr>\n",
       "  </thead>\n",
       "  <tbody>\n",
       "    <tr>\n",
       "      <th>0</th>\n",
       "      <td>티이엠씨</td>\n",
       "      <td>425040</td>\n",
       "      <td>기초 화학물질 제조업</td>\n",
       "      <td>반도체용 특수가스</td>\n",
       "      <td>2023-01-19</td>\n",
       "      <td>12월</td>\n",
       "      <td>유원양</td>\n",
       "      <td>http://temc.co.kr/</td>\n",
       "      <td>충청북도</td>\n",
       "    </tr>\n",
       "    <tr>\n",
       "      <th>1</th>\n",
       "      <td>한주라이트메탈</td>\n",
       "      <td>198940</td>\n",
       "      <td>1차 비철금속 제조업</td>\n",
       "      <td>알루미늄 기반 경량화 자동차 부품</td>\n",
       "      <td>2023-01-19</td>\n",
       "      <td>12월</td>\n",
       "      <td>정삼순, 이용진</td>\n",
       "      <td>http://www.hanjoolightmetal.com</td>\n",
       "      <td>울산광역시</td>\n",
       "    </tr>\n",
       "    <tr>\n",
       "      <th>2</th>\n",
       "      <td>옵티코어</td>\n",
       "      <td>380540</td>\n",
       "      <td>마그네틱 및 광학 매체 제조업</td>\n",
       "      <td>광트랜시버, 광다중화장치 등</td>\n",
       "      <td>2022-12-29</td>\n",
       "      <td>12월</td>\n",
       "      <td>진재현</td>\n",
       "      <td>http://www.opticore.co.kr/</td>\n",
       "      <td>경기도</td>\n",
       "    </tr>\n",
       "    <tr>\n",
       "      <th>3</th>\n",
       "      <td>아이오바이오</td>\n",
       "      <td>447690</td>\n",
       "      <td>의료용 기기 제조업</td>\n",
       "      <td>정량광형광기술을 활용한 구강질환 진단검사 의료기기</td>\n",
       "      <td>2022-12-28</td>\n",
       "      <td>12월</td>\n",
       "      <td>윤홍철</td>\n",
       "      <td>http://www.aiobio.co.kr/</td>\n",
       "      <td>서울특별시</td>\n",
       "    </tr>\n",
       "    <tr>\n",
       "      <th>4</th>\n",
       "      <td>타이드</td>\n",
       "      <td>346010</td>\n",
       "      <td>전자부품 제조업</td>\n",
       "      <td>PLC모뎀, DCU</td>\n",
       "      <td>2022-12-28</td>\n",
       "      <td>12월</td>\n",
       "      <td>조경종</td>\n",
       "      <td>http://www.tidekorea.com/kr/</td>\n",
       "      <td>서울특별시</td>\n",
       "    </tr>\n",
       "    <tr>\n",
       "      <th>...</th>\n",
       "      <td>...</td>\n",
       "      <td>...</td>\n",
       "      <td>...</td>\n",
       "      <td>...</td>\n",
       "      <td>...</td>\n",
       "      <td>...</td>\n",
       "      <td>...</td>\n",
       "      <td>...</td>\n",
       "      <td>...</td>\n",
       "    </tr>\n",
       "    <tr>\n",
       "      <th>2565</th>\n",
       "      <td>CJ대한통운</td>\n",
       "      <td>000120</td>\n",
       "      <td>도로 화물 운송업</td>\n",
       "      <td>Contract Logistics, 포워딩, 항만하역, 해운, 택배국제특송, SCM...</td>\n",
       "      <td>1956-07-02</td>\n",
       "      <td>12월</td>\n",
       "      <td>강신호,민영학(각자대표)</td>\n",
       "      <td>http://www.cjlogistics.com</td>\n",
       "      <td>서울특별시</td>\n",
       "    </tr>\n",
       "    <tr>\n",
       "      <th>2566</th>\n",
       "      <td>메리츠화재</td>\n",
       "      <td>000060</td>\n",
       "      <td>보험업</td>\n",
       "      <td>손해보험(화재,해상,운송보험)</td>\n",
       "      <td>1956-07-02</td>\n",
       "      <td>12월</td>\n",
       "      <td>김용범</td>\n",
       "      <td>http://www.meritzfire.com</td>\n",
       "      <td>서울특별시</td>\n",
       "    </tr>\n",
       "    <tr>\n",
       "      <th>2567</th>\n",
       "      <td>경방</td>\n",
       "      <td>000050</td>\n",
       "      <td>종합 소매업</td>\n",
       "      <td>섬유류(면사,면혼방사,면직물,면혼방직물,화섬사,화섬직물) 제조,도매,수출입</td>\n",
       "      <td>1956-03-03</td>\n",
       "      <td>12월</td>\n",
       "      <td>김준, 김담</td>\n",
       "      <td>http://www.kyungbang.co.kr</td>\n",
       "      <td>서울특별시</td>\n",
       "    </tr>\n",
       "    <tr>\n",
       "      <th>2568</th>\n",
       "      <td>유수홀딩스</td>\n",
       "      <td>000700</td>\n",
       "      <td>회사 본부 및 경영 컨설팅 서비스업</td>\n",
       "      <td>지주사업</td>\n",
       "      <td>1956-03-03</td>\n",
       "      <td>12월</td>\n",
       "      <td>송영규</td>\n",
       "      <td>http://www.eusu-holdings.com</td>\n",
       "      <td>서울특별시</td>\n",
       "    </tr>\n",
       "    <tr>\n",
       "      <th>2569</th>\n",
       "      <td>한진중공업홀딩스</td>\n",
       "      <td>003480</td>\n",
       "      <td>연료용 가스 제조 및 배관공급업</td>\n",
       "      <td>지주회사</td>\n",
       "      <td>1956-03-03</td>\n",
       "      <td>12월</td>\n",
       "      <td>조남호, 조원국</td>\n",
       "      <td>http://www.hhic-holdings.com</td>\n",
       "      <td>경기도</td>\n",
       "    </tr>\n",
       "  </tbody>\n",
       "</table>\n",
       "<p>2570 rows × 9 columns</p>\n",
       "</div>"
      ],
      "text/plain": [
       "           회사명    종목코드                   업종  \\\n",
       "0         티이엠씨  425040          기초 화학물질 제조업   \n",
       "1      한주라이트메탈  198940          1차 비철금속 제조업   \n",
       "2         옵티코어  380540     마그네틱 및 광학 매체 제조업   \n",
       "3       아이오바이오  447690           의료용 기기 제조업   \n",
       "4          타이드  346010             전자부품 제조업   \n",
       "...        ...     ...                  ...   \n",
       "2565    CJ대한통운  000120            도로 화물 운송업   \n",
       "2566     메리츠화재  000060                  보험업   \n",
       "2567        경방  000050               종합 소매업   \n",
       "2568     유수홀딩스  000700  회사 본부 및 경영 컨설팅 서비스업   \n",
       "2569  한진중공업홀딩스  003480    연료용 가스 제조 및 배관공급업   \n",
       "\n",
       "                                                   주요제품         상장일  결산월  \\\n",
       "0                                             반도체용 특수가스  2023-01-19  12월   \n",
       "1                                    알루미늄 기반 경량화 자동차 부품  2023-01-19  12월   \n",
       "2                                       광트랜시버, 광다중화장치 등  2022-12-29  12월   \n",
       "3                           정량광형광기술을 활용한 구강질환 진단검사 의료기기  2022-12-28  12월   \n",
       "4                                            PLC모뎀, DCU  2022-12-28  12월   \n",
       "...                                                 ...         ...  ...   \n",
       "2565  Contract Logistics, 포워딩, 항만하역, 해운, 택배국제특송, SCM...  1956-07-02  12월   \n",
       "2566                                   손해보험(화재,해상,운송보험)  1956-07-02  12월   \n",
       "2567          섬유류(면사,면혼방사,면직물,면혼방직물,화섬사,화섬직물) 제조,도매,수출입  1956-03-03  12월   \n",
       "2568                                               지주사업  1956-03-03  12월   \n",
       "2569                                               지주회사  1956-03-03  12월   \n",
       "\n",
       "               대표자명                             홈페이지     지역  \n",
       "0               유원양               http://temc.co.kr/   충청북도  \n",
       "1          정삼순, 이용진  http://www.hanjoolightmetal.com  울산광역시  \n",
       "2               진재현       http://www.opticore.co.kr/    경기도  \n",
       "3               윤홍철         http://www.aiobio.co.kr/  서울특별시  \n",
       "4               조경종     http://www.tidekorea.com/kr/  서울특별시  \n",
       "...             ...                              ...    ...  \n",
       "2565  강신호,민영학(각자대표)       http://www.cjlogistics.com  서울특별시  \n",
       "2566            김용범        http://www.meritzfire.com  서울특별시  \n",
       "2567         김준, 김담       http://www.kyungbang.co.kr  서울특별시  \n",
       "2568            송영규     http://www.eusu-holdings.com  서울특별시  \n",
       "2569       조남호, 조원국     http://www.hhic-holdings.com    경기도  \n",
       "\n",
       "[2570 rows x 9 columns]"
      ]
     },
     "execution_count": 4,
     "metadata": {},
     "output_type": "execute_result"
    }
   ],
   "source": [
    "#종목 코드를 6자리로 조정한다. \n",
    "#map 함수는 인수로 받은 함수를 이용하여 값을 변경한다. \n",
    "krx_list[0].종목코드 = krx_list[0].종목코드.map('{:06d}'.format)\n",
    "krx_list[0]"
   ]
  },
  {
   "cell_type": "code",
   "execution_count": 5,
   "id": "93afa727",
   "metadata": {},
   "outputs": [
    {
     "data": {
      "text/html": [
       "<div>\n",
       "<style scoped>\n",
       "    .dataframe tbody tr th:only-of-type {\n",
       "        vertical-align: middle;\n",
       "    }\n",
       "\n",
       "    .dataframe tbody tr th {\n",
       "        vertical-align: top;\n",
       "    }\n",
       "\n",
       "    .dataframe thead th {\n",
       "        text-align: right;\n",
       "    }\n",
       "</style>\n",
       "<table border=\"1\" class=\"dataframe\">\n",
       "  <thead>\n",
       "    <tr style=\"text-align: right;\">\n",
       "      <th></th>\n",
       "      <th>회사명</th>\n",
       "      <th>종목코드</th>\n",
       "      <th>업종</th>\n",
       "      <th>주요제품</th>\n",
       "      <th>상장일</th>\n",
       "      <th>결산월</th>\n",
       "      <th>대표자명</th>\n",
       "      <th>홈페이지</th>\n",
       "      <th>지역</th>\n",
       "    </tr>\n",
       "  </thead>\n",
       "  <tbody>\n",
       "    <tr>\n",
       "      <th>2477</th>\n",
       "      <td>동화약품</td>\n",
       "      <td>000020</td>\n",
       "      <td>의약품 제조업</td>\n",
       "      <td>의약품 제조,판매,수출입</td>\n",
       "      <td>1976-03-24</td>\n",
       "      <td>12월</td>\n",
       "      <td>유준하, 한종현(각자 대표이사)</td>\n",
       "      <td>http://www.dong-wha.co.kr</td>\n",
       "      <td>서울특별시</td>\n",
       "    </tr>\n",
       "    <tr>\n",
       "      <th>2469</th>\n",
       "      <td>KR모터스</td>\n",
       "      <td>000040</td>\n",
       "      <td>그외 기타 운송장비 제조업</td>\n",
       "      <td>이륜차(오토바이) 제조,도매</td>\n",
       "      <td>1976-05-25</td>\n",
       "      <td>12월</td>\n",
       "      <td>노성석</td>\n",
       "      <td>http://www.krmotors.com</td>\n",
       "      <td>경상남도</td>\n",
       "    </tr>\n",
       "    <tr>\n",
       "      <th>2567</th>\n",
       "      <td>경방</td>\n",
       "      <td>000050</td>\n",
       "      <td>종합 소매업</td>\n",
       "      <td>섬유류(면사,면혼방사,면직물,면혼방직물,화섬사,화섬직물) 제조,도매,수출입</td>\n",
       "      <td>1956-03-03</td>\n",
       "      <td>12월</td>\n",
       "      <td>김준, 김담</td>\n",
       "      <td>http://www.kyungbang.co.kr</td>\n",
       "      <td>서울특별시</td>\n",
       "    </tr>\n",
       "    <tr>\n",
       "      <th>2566</th>\n",
       "      <td>메리츠화재</td>\n",
       "      <td>000060</td>\n",
       "      <td>보험업</td>\n",
       "      <td>손해보험(화재,해상,운송보험)</td>\n",
       "      <td>1956-07-02</td>\n",
       "      <td>12월</td>\n",
       "      <td>김용범</td>\n",
       "      <td>http://www.meritzfire.com</td>\n",
       "      <td>서울특별시</td>\n",
       "    </tr>\n",
       "    <tr>\n",
       "      <th>2558</th>\n",
       "      <td>삼양홀딩스</td>\n",
       "      <td>000070</td>\n",
       "      <td>기타 금융업</td>\n",
       "      <td>지주회사,경영자문컨설팅</td>\n",
       "      <td>1968-12-27</td>\n",
       "      <td>12월</td>\n",
       "      <td>엄태웅, 이영준</td>\n",
       "      <td>http://www.samyang.com</td>\n",
       "      <td>서울특별시</td>\n",
       "    </tr>\n",
       "    <tr>\n",
       "      <th>...</th>\n",
       "      <td>...</td>\n",
       "      <td>...</td>\n",
       "      <td>...</td>\n",
       "      <td>...</td>\n",
       "      <td>...</td>\n",
       "      <td>...</td>\n",
       "      <td>...</td>\n",
       "      <td>...</td>\n",
       "      <td>...</td>\n",
       "    </tr>\n",
       "    <tr>\n",
       "      <th>589</th>\n",
       "      <td>JTC</td>\n",
       "      <td>950170</td>\n",
       "      <td>종합 소매업</td>\n",
       "      <td>식품류, 생활용품류, 화장품류 (사후면세업)</td>\n",
       "      <td>2018-04-06</td>\n",
       "      <td>02월</td>\n",
       "      <td>구철모</td>\n",
       "      <td>http://www.groupjtc.com/korean/</td>\n",
       "      <td>일본</td>\n",
       "    </tr>\n",
       "    <tr>\n",
       "      <th>331</th>\n",
       "      <td>미투젠</td>\n",
       "      <td>950190</td>\n",
       "      <td>소프트웨어 개발 및 공급업</td>\n",
       "      <td>캐주얼게임, 소셜카지노게임</td>\n",
       "      <td>2020-08-18</td>\n",
       "      <td>12월</td>\n",
       "      <td>손창욱 (대표이사)</td>\n",
       "      <td>http://www.me2zen.com</td>\n",
       "      <td>홍콩</td>\n",
       "    </tr>\n",
       "    <tr>\n",
       "      <th>353</th>\n",
       "      <td>소마젠</td>\n",
       "      <td>950200</td>\n",
       "      <td>그외 기타 전문, 과학 및 기술 서비스업</td>\n",
       "      <td>유전체 분석 서비스 (NGS, CES 등)</td>\n",
       "      <td>2020-07-13</td>\n",
       "      <td>12월</td>\n",
       "      <td>홍수</td>\n",
       "      <td>http://psomagen.com</td>\n",
       "      <td>미국</td>\n",
       "    </tr>\n",
       "    <tr>\n",
       "      <th>263</th>\n",
       "      <td>프레스티지바이오파마</td>\n",
       "      <td>950210</td>\n",
       "      <td>자연과학 및 공학 연구개발업</td>\n",
       "      <td>바이오시밀러 및 항체의약품 신약</td>\n",
       "      <td>2021-02-05</td>\n",
       "      <td>06월</td>\n",
       "      <td>박소연</td>\n",
       "      <td>http://www.prestigebiopharma.com</td>\n",
       "      <td>싱가포르</td>\n",
       "    </tr>\n",
       "    <tr>\n",
       "      <th>249</th>\n",
       "      <td>네오이뮨텍</td>\n",
       "      <td>950220</td>\n",
       "      <td>자연과학 및 공학 연구개발업</td>\n",
       "      <td>면역항암제</td>\n",
       "      <td>2021-03-16</td>\n",
       "      <td>12월</td>\n",
       "      <td>양세환</td>\n",
       "      <td>http://neoimmunetech.co.kr</td>\n",
       "      <td>미국</td>\n",
       "    </tr>\n",
       "  </tbody>\n",
       "</table>\n",
       "<p>2570 rows × 9 columns</p>\n",
       "</div>"
      ],
      "text/plain": [
       "             회사명    종목코드                      업종  \\\n",
       "2477        동화약품  000020                 의약품 제조업   \n",
       "2469       KR모터스  000040          그외 기타 운송장비 제조업   \n",
       "2567          경방  000050                  종합 소매업   \n",
       "2566       메리츠화재  000060                     보험업   \n",
       "2558       삼양홀딩스  000070                  기타 금융업   \n",
       "...          ...     ...                     ...   \n",
       "589          JTC  950170                  종합 소매업   \n",
       "331          미투젠  950190          소프트웨어 개발 및 공급업   \n",
       "353          소마젠  950200  그외 기타 전문, 과학 및 기술 서비스업   \n",
       "263   프레스티지바이오파마  950210         자연과학 및 공학 연구개발업   \n",
       "249        네오이뮨텍  950220         자연과학 및 공학 연구개발업   \n",
       "\n",
       "                                           주요제품         상장일  결산월  \\\n",
       "2477                              의약품 제조,판매,수출입  1976-03-24  12월   \n",
       "2469                            이륜차(오토바이) 제조,도매  1976-05-25  12월   \n",
       "2567  섬유류(면사,면혼방사,면직물,면혼방직물,화섬사,화섬직물) 제조,도매,수출입  1956-03-03  12월   \n",
       "2566                           손해보험(화재,해상,운송보험)  1956-07-02  12월   \n",
       "2558                               지주회사,경영자문컨설팅  1968-12-27  12월   \n",
       "...                                         ...         ...  ...   \n",
       "589                    식품류, 생활용품류, 화장품류 (사후면세업)  2018-04-06  02월   \n",
       "331                              캐주얼게임, 소셜카지노게임  2020-08-18  12월   \n",
       "353                     유전체 분석 서비스 (NGS, CES 등)  2020-07-13  12월   \n",
       "263                           바이오시밀러 및 항체의약품 신약  2021-02-05  06월   \n",
       "249                                       면역항암제  2021-03-16  12월   \n",
       "\n",
       "                   대표자명                              홈페이지     지역  \n",
       "2477  유준하, 한종현(각자 대표이사)         http://www.dong-wha.co.kr  서울특별시  \n",
       "2469                노성석           http://www.krmotors.com   경상남도  \n",
       "2567             김준, 김담        http://www.kyungbang.co.kr  서울특별시  \n",
       "2566                김용범         http://www.meritzfire.com  서울특별시  \n",
       "2558           엄태웅, 이영준            http://www.samyang.com  서울특별시  \n",
       "...                 ...                               ...    ...  \n",
       "589                 구철모   http://www.groupjtc.com/korean/     일본  \n",
       "331          손창욱 (대표이사)             http://www.me2zen.com     홍콩  \n",
       "353                  홍수               http://psomagen.com     미국  \n",
       "263                 박소연  http://www.prestigebiopharma.com   싱가포르  \n",
       "249                 양세환        http://neoimmunetech.co.kr     미국  \n",
       "\n",
       "[2570 rows x 9 columns]"
      ]
     },
     "execution_count": 5,
     "metadata": {},
     "output_type": "execute_result"
    }
   ],
   "source": [
    "#위의 과정을 간단하게 다시 정리하면 아래와 같이 된다. \n",
    "df = pd.read_html('/Users/austin/Desktop/folders/python_stock_data_analysis/상장법인목록.xls')[0]\n",
    "df['종목코드'] = df['종목코드'].map('{:06d}'.format)\n",
    "df = df.sort_values(by = '종목코드')\n",
    "df"
   ]
  },
  {
   "cell_type": "markdown",
   "id": "e695a475",
   "metadata": {},
   "source": [
    "# HTML 익히기\n",
    "- HTML의 기본구조\n",
    "    - HyperText Markup Language\n",
    "    - 웹 페이지는 다양한 언어로 작성할 수 있지만, 웹 브라우저에서는 최종적으로 HTMl으로 변환된 결과를 렌더링하기에 HTML을 알아둘 필요가 있다. \n",
    "    - 여는 태그와 닫는 태그로 구성된다. \n",
    "    - 각 태그는 속성이라는 추가 정보를 지닐 수 있다. \n",
    "- HTML 주요 태그 리스트\n",
    "|태그|속성|의미|\n",
    "|:---|:---|:---|\n",
    "|html| |html문서|\n",
    "|head| |문서 헤더|\n",
    "|title| |문서 제목|\n",
    "|body|text, background, bgcolor|문서 바디|\n",
    "|h1, h2, h3| |머리말|\n",
    "|p| |문단|\n",
    "|br| |줄바꿈|\n",
    "|b| |볼드|\n",
    "|i| |이탤릭|\n",
    "|s| |취소선|\n",
    "|ol, ul|type|순서 리스트, 비순서 리스트|\n",
    "|li|type|리스트 아이템|\n",
    "|table|width, border, cellpadding|테이블|\n",
    "|tr|align|테이블 행|\n",
    "|th, td|colspan|테이블 헤더, 테이블 데이터|\n",
    "|a|href, target|하이퍼링크|\n",
    "|img|src, width, height|이미지|\n",
    "|\\<!--...--\\>| |주석|"
   ]
  },
  {
   "cell_type": "markdown",
   "id": "2bf4f5ba",
   "metadata": {},
   "source": [
    "# 웹에서 일별 시세 구하기\n",
    "- 셀트리온 주식의 일별 시세 구하기\n",
    "   - 네이버 금융 홈페이지에서 셀트리온을 검색하고 일별 시세 페이지의 맨 마지막 페이지를 검색하면 아래와 같이 나온다. \n",
    "      - /item/sise_day.naver?code=068270&amp;page=434\n",
    "   - 이를 Beautiful Soup를 통해서 데이터를 추출해본다. \n",
    "- Beautiful Soup는 HTML, XML 페이지로부터 데이터를 추출하는 파이썬 라이브러리다. \n",
    "    ```\n",
    "    **중요**\n",
    "    웹 페이지를 스크레이핑할 때 적법하게 데이터를 수집하고 사용하는 것은 사용자의 몫이다. \n",
    "    저작권의 범위를 확인하기, 원저작자의 허가가 없이 게시하거나 공유하지 않기, \n",
    "    잦은 웹 스크레이핑으로 상대방 시스템 성능에 지장주지 않기 등을 늘 확인해야한다. \n",
    "    ```\n",
    "- Beautiful Soup는 HTML페이지를 분석할 때 네 가지 파서 라이브러리를 골라서 쓸 수 있다.\n",
    "    - Python's html.parser\n",
    "    - lxml's HTML parser\n",
    "    - lxml's XML parser\n",
    "    - html5lib\n",
    "    - 위의 4가지의 라이브러리를 골라서 사용할 수 있다. \n",
    "    - 본 실습에서는 속도가 빠르면서도 유연한 파싱이 가능한 lxml파서를 사용한다. "
   ]
  },
  {
   "cell_type": "code",
   "execution_count": 6,
   "id": "6757d487",
   "metadata": {},
   "outputs": [
    {
     "name": "stdout",
     "output_type": "stream",
     "text": [
      "Requirement already satisfied: lxml in /Library/Frameworks/Python.framework/Versions/3.9/lib/python3.9/site-packages (4.9.2)\n",
      "\u001b[33mWARNING: You are using pip version 21.1.2; however, version 22.3.1 is available.\n",
      "You should consider upgrading via the '/Library/Frameworks/Python.framework/Versions/3.9/bin/python3 -m pip install --upgrade pip' command.\u001b[0m\n",
      "Note: you may need to restart the kernel to use updated packages.\n"
     ]
    }
   ],
   "source": [
    "pip install lxml"
   ]
  },
  {
   "cell_type": "code",
   "execution_count": 19,
   "id": "a0e1c402",
   "metadata": {},
   "outputs": [
    {
     "name": "stdout",
     "output_type": "stream",
     "text": [
      "<td class=\"pgRR\">\n",
      " <a href=\"/item/sise_day.naver?code=068270&amp;amp;page=434&amp;page=434\">\n",
      "  맨뒤\n",
      "  <img alt=\"\" border=\"0\" height=\"5\" src=\"https://ssl.pstatic.net/static/n/cmn/bu_pgarRR.gif\" width=\"8\"/>\n",
      " </a>\n",
      "</td>\n",
      "\n"
     ]
    }
   ],
   "source": [
    "#find_all(), find()\n",
    "#find_all(['검색할 태그'][, class_='클래스 속성값'][, id = '아이디 속성값'][,limit=찾을 개수]) -> 문서 전체를 대상으로 조건에 맞는 태그를 찾음\n",
    "#find(['검색할 태그'][, class_='클래스 속성값'][, id = '아이디 속성값']) -> 문서에서 하나만 찾기\n",
    "#마지막 페이지가 어디인지 확인하기 위해서 a태그의 href속성값을 가져왔다. \n",
    "#find나 find_all을 한뒤에 나온 객체에 .prettify()를 사용하면 아래와 같이 깔끔하게 정리되어서 나온다. \n",
    "#.text를 사용해서 태그를 제외한 글들을 출력할 수 있다. \n",
    "from bs4 import BeautifulSoup\n",
    "import requests\n",
    "import pandas as pd\n",
    "url = 'https://finance.naver.com/item/sise_day.naver?code=068270&amp;page=434&page=1'\n",
    "html = requests.get(url, headers= {'User-agent': 'Mozilla/5.0'}).text\n",
    "bs= BeautifulSoup(html, 'lxml')\n",
    "pgrr = bs.find('td', class_ = 'pgRR')\n",
    "print(pgrr.prettify())"
   ]
  },
  {
   "cell_type": "code",
   "execution_count": 32,
   "id": "c2d7fe61",
   "metadata": {},
   "outputs": [
    {
     "name": "stderr",
     "output_type": "stream",
     "text": [
      "/var/folders/nh/3q0vdk7s383d4t34nv4_q89m0000gn/T/ipykernel_12753/3187933759.py:10: FutureWarning: The frame.append method is deprecated and will be removed from pandas in a future version. Use pandas.concat instead.\n",
      "  df = df.append(pd.read_html(html, header = 0)[0])\n",
      "/var/folders/nh/3q0vdk7s383d4t34nv4_q89m0000gn/T/ipykernel_12753/3187933759.py:10: FutureWarning: The frame.append method is deprecated and will be removed from pandas in a future version. Use pandas.concat instead.\n",
      "  df = df.append(pd.read_html(html, header = 0)[0])\n",
      "/var/folders/nh/3q0vdk7s383d4t34nv4_q89m0000gn/T/ipykernel_12753/3187933759.py:10: FutureWarning: The frame.append method is deprecated and will be removed from pandas in a future version. Use pandas.concat instead.\n",
      "  df = df.append(pd.read_html(html, header = 0)[0])\n",
      "/var/folders/nh/3q0vdk7s383d4t34nv4_q89m0000gn/T/ipykernel_12753/3187933759.py:10: FutureWarning: The frame.append method is deprecated and will be removed from pandas in a future version. Use pandas.concat instead.\n",
      "  df = df.append(pd.read_html(html, header = 0)[0])\n",
      "/var/folders/nh/3q0vdk7s383d4t34nv4_q89m0000gn/T/ipykernel_12753/3187933759.py:10: FutureWarning: The frame.append method is deprecated and will be removed from pandas in a future version. Use pandas.concat instead.\n",
      "  df = df.append(pd.read_html(html, header = 0)[0])\n",
      "/var/folders/nh/3q0vdk7s383d4t34nv4_q89m0000gn/T/ipykernel_12753/3187933759.py:10: FutureWarning: The frame.append method is deprecated and will be removed from pandas in a future version. Use pandas.concat instead.\n",
      "  df = df.append(pd.read_html(html, header = 0)[0])\n",
      "/var/folders/nh/3q0vdk7s383d4t34nv4_q89m0000gn/T/ipykernel_12753/3187933759.py:10: FutureWarning: The frame.append method is deprecated and will be removed from pandas in a future version. Use pandas.concat instead.\n",
      "  df = df.append(pd.read_html(html, header = 0)[0])\n",
      "/var/folders/nh/3q0vdk7s383d4t34nv4_q89m0000gn/T/ipykernel_12753/3187933759.py:10: FutureWarning: The frame.append method is deprecated and will be removed from pandas in a future version. Use pandas.concat instead.\n",
      "  df = df.append(pd.read_html(html, header = 0)[0])\n",
      "/var/folders/nh/3q0vdk7s383d4t34nv4_q89m0000gn/T/ipykernel_12753/3187933759.py:10: FutureWarning: The frame.append method is deprecated and will be removed from pandas in a future version. Use pandas.concat instead.\n",
      "  df = df.append(pd.read_html(html, header = 0)[0])\n",
      "/var/folders/nh/3q0vdk7s383d4t34nv4_q89m0000gn/T/ipykernel_12753/3187933759.py:10: FutureWarning: The frame.append method is deprecated and will be removed from pandas in a future version. Use pandas.concat instead.\n",
      "  df = df.append(pd.read_html(html, header = 0)[0])\n",
      "/var/folders/nh/3q0vdk7s383d4t34nv4_q89m0000gn/T/ipykernel_12753/3187933759.py:10: FutureWarning: The frame.append method is deprecated and will be removed from pandas in a future version. Use pandas.concat instead.\n",
      "  df = df.append(pd.read_html(html, header = 0)[0])\n",
      "/var/folders/nh/3q0vdk7s383d4t34nv4_q89m0000gn/T/ipykernel_12753/3187933759.py:10: FutureWarning: The frame.append method is deprecated and will be removed from pandas in a future version. Use pandas.concat instead.\n",
      "  df = df.append(pd.read_html(html, header = 0)[0])\n",
      "/var/folders/nh/3q0vdk7s383d4t34nv4_q89m0000gn/T/ipykernel_12753/3187933759.py:10: FutureWarning: The frame.append method is deprecated and will be removed from pandas in a future version. Use pandas.concat instead.\n",
      "  df = df.append(pd.read_html(html, header = 0)[0])\n",
      "/var/folders/nh/3q0vdk7s383d4t34nv4_q89m0000gn/T/ipykernel_12753/3187933759.py:10: FutureWarning: The frame.append method is deprecated and will be removed from pandas in a future version. Use pandas.concat instead.\n",
      "  df = df.append(pd.read_html(html, header = 0)[0])\n",
      "/var/folders/nh/3q0vdk7s383d4t34nv4_q89m0000gn/T/ipykernel_12753/3187933759.py:10: FutureWarning: The frame.append method is deprecated and will be removed from pandas in a future version. Use pandas.concat instead.\n",
      "  df = df.append(pd.read_html(html, header = 0)[0])\n",
      "/var/folders/nh/3q0vdk7s383d4t34nv4_q89m0000gn/T/ipykernel_12753/3187933759.py:10: FutureWarning: The frame.append method is deprecated and will be removed from pandas in a future version. Use pandas.concat instead.\n",
      "  df = df.append(pd.read_html(html, header = 0)[0])\n",
      "/var/folders/nh/3q0vdk7s383d4t34nv4_q89m0000gn/T/ipykernel_12753/3187933759.py:10: FutureWarning: The frame.append method is deprecated and will be removed from pandas in a future version. Use pandas.concat instead.\n",
      "  df = df.append(pd.read_html(html, header = 0)[0])\n",
      "/var/folders/nh/3q0vdk7s383d4t34nv4_q89m0000gn/T/ipykernel_12753/3187933759.py:10: FutureWarning: The frame.append method is deprecated and will be removed from pandas in a future version. Use pandas.concat instead.\n",
      "  df = df.append(pd.read_html(html, header = 0)[0])\n",
      "/var/folders/nh/3q0vdk7s383d4t34nv4_q89m0000gn/T/ipykernel_12753/3187933759.py:10: FutureWarning: The frame.append method is deprecated and will be removed from pandas in a future version. Use pandas.concat instead.\n",
      "  df = df.append(pd.read_html(html, header = 0)[0])\n",
      "/var/folders/nh/3q0vdk7s383d4t34nv4_q89m0000gn/T/ipykernel_12753/3187933759.py:10: FutureWarning: The frame.append method is deprecated and will be removed from pandas in a future version. Use pandas.concat instead.\n",
      "  df = df.append(pd.read_html(html, header = 0)[0])\n",
      "/var/folders/nh/3q0vdk7s383d4t34nv4_q89m0000gn/T/ipykernel_12753/3187933759.py:10: FutureWarning: The frame.append method is deprecated and will be removed from pandas in a future version. Use pandas.concat instead.\n",
      "  df = df.append(pd.read_html(html, header = 0)[0])\n",
      "/var/folders/nh/3q0vdk7s383d4t34nv4_q89m0000gn/T/ipykernel_12753/3187933759.py:10: FutureWarning: The frame.append method is deprecated and will be removed from pandas in a future version. Use pandas.concat instead.\n",
      "  df = df.append(pd.read_html(html, header = 0)[0])\n",
      "/var/folders/nh/3q0vdk7s383d4t34nv4_q89m0000gn/T/ipykernel_12753/3187933759.py:10: FutureWarning: The frame.append method is deprecated and will be removed from pandas in a future version. Use pandas.concat instead.\n",
      "  df = df.append(pd.read_html(html, header = 0)[0])\n",
      "/var/folders/nh/3q0vdk7s383d4t34nv4_q89m0000gn/T/ipykernel_12753/3187933759.py:10: FutureWarning: The frame.append method is deprecated and will be removed from pandas in a future version. Use pandas.concat instead.\n",
      "  df = df.append(pd.read_html(html, header = 0)[0])\n",
      "/var/folders/nh/3q0vdk7s383d4t34nv4_q89m0000gn/T/ipykernel_12753/3187933759.py:10: FutureWarning: The frame.append method is deprecated and will be removed from pandas in a future version. Use pandas.concat instead.\n",
      "  df = df.append(pd.read_html(html, header = 0)[0])\n",
      "/var/folders/nh/3q0vdk7s383d4t34nv4_q89m0000gn/T/ipykernel_12753/3187933759.py:10: FutureWarning: The frame.append method is deprecated and will be removed from pandas in a future version. Use pandas.concat instead.\n",
      "  df = df.append(pd.read_html(html, header = 0)[0])\n",
      "/var/folders/nh/3q0vdk7s383d4t34nv4_q89m0000gn/T/ipykernel_12753/3187933759.py:10: FutureWarning: The frame.append method is deprecated and will be removed from pandas in a future version. Use pandas.concat instead.\n",
      "  df = df.append(pd.read_html(html, header = 0)[0])\n",
      "/var/folders/nh/3q0vdk7s383d4t34nv4_q89m0000gn/T/ipykernel_12753/3187933759.py:10: FutureWarning: The frame.append method is deprecated and will be removed from pandas in a future version. Use pandas.concat instead.\n",
      "  df = df.append(pd.read_html(html, header = 0)[0])\n",
      "/var/folders/nh/3q0vdk7s383d4t34nv4_q89m0000gn/T/ipykernel_12753/3187933759.py:10: FutureWarning: The frame.append method is deprecated and will be removed from pandas in a future version. Use pandas.concat instead.\n",
      "  df = df.append(pd.read_html(html, header = 0)[0])\n",
      "/var/folders/nh/3q0vdk7s383d4t34nv4_q89m0000gn/T/ipykernel_12753/3187933759.py:10: FutureWarning: The frame.append method is deprecated and will be removed from pandas in a future version. Use pandas.concat instead.\n",
      "  df = df.append(pd.read_html(html, header = 0)[0])\n",
      "/var/folders/nh/3q0vdk7s383d4t34nv4_q89m0000gn/T/ipykernel_12753/3187933759.py:10: FutureWarning: The frame.append method is deprecated and will be removed from pandas in a future version. Use pandas.concat instead.\n",
      "  df = df.append(pd.read_html(html, header = 0)[0])\n",
      "/var/folders/nh/3q0vdk7s383d4t34nv4_q89m0000gn/T/ipykernel_12753/3187933759.py:10: FutureWarning: The frame.append method is deprecated and will be removed from pandas in a future version. Use pandas.concat instead.\n",
      "  df = df.append(pd.read_html(html, header = 0)[0])\n",
      "/var/folders/nh/3q0vdk7s383d4t34nv4_q89m0000gn/T/ipykernel_12753/3187933759.py:10: FutureWarning: The frame.append method is deprecated and will be removed from pandas in a future version. Use pandas.concat instead.\n",
      "  df = df.append(pd.read_html(html, header = 0)[0])\n"
     ]
    },
    {
     "name": "stderr",
     "output_type": "stream",
     "text": [
      "/var/folders/nh/3q0vdk7s383d4t34nv4_q89m0000gn/T/ipykernel_12753/3187933759.py:10: FutureWarning: The frame.append method is deprecated and will be removed from pandas in a future version. Use pandas.concat instead.\n",
      "  df = df.append(pd.read_html(html, header = 0)[0])\n",
      "/var/folders/nh/3q0vdk7s383d4t34nv4_q89m0000gn/T/ipykernel_12753/3187933759.py:10: FutureWarning: The frame.append method is deprecated and will be removed from pandas in a future version. Use pandas.concat instead.\n",
      "  df = df.append(pd.read_html(html, header = 0)[0])\n",
      "/var/folders/nh/3q0vdk7s383d4t34nv4_q89m0000gn/T/ipykernel_12753/3187933759.py:10: FutureWarning: The frame.append method is deprecated and will be removed from pandas in a future version. Use pandas.concat instead.\n",
      "  df = df.append(pd.read_html(html, header = 0)[0])\n",
      "/var/folders/nh/3q0vdk7s383d4t34nv4_q89m0000gn/T/ipykernel_12753/3187933759.py:10: FutureWarning: The frame.append method is deprecated and will be removed from pandas in a future version. Use pandas.concat instead.\n",
      "  df = df.append(pd.read_html(html, header = 0)[0])\n",
      "/var/folders/nh/3q0vdk7s383d4t34nv4_q89m0000gn/T/ipykernel_12753/3187933759.py:10: FutureWarning: The frame.append method is deprecated and will be removed from pandas in a future version. Use pandas.concat instead.\n",
      "  df = df.append(pd.read_html(html, header = 0)[0])\n",
      "/var/folders/nh/3q0vdk7s383d4t34nv4_q89m0000gn/T/ipykernel_12753/3187933759.py:10: FutureWarning: The frame.append method is deprecated and will be removed from pandas in a future version. Use pandas.concat instead.\n",
      "  df = df.append(pd.read_html(html, header = 0)[0])\n",
      "/var/folders/nh/3q0vdk7s383d4t34nv4_q89m0000gn/T/ipykernel_12753/3187933759.py:10: FutureWarning: The frame.append method is deprecated and will be removed from pandas in a future version. Use pandas.concat instead.\n",
      "  df = df.append(pd.read_html(html, header = 0)[0])\n",
      "/var/folders/nh/3q0vdk7s383d4t34nv4_q89m0000gn/T/ipykernel_12753/3187933759.py:10: FutureWarning: The frame.append method is deprecated and will be removed from pandas in a future version. Use pandas.concat instead.\n",
      "  df = df.append(pd.read_html(html, header = 0)[0])\n",
      "/var/folders/nh/3q0vdk7s383d4t34nv4_q89m0000gn/T/ipykernel_12753/3187933759.py:10: FutureWarning: The frame.append method is deprecated and will be removed from pandas in a future version. Use pandas.concat instead.\n",
      "  df = df.append(pd.read_html(html, header = 0)[0])\n",
      "/var/folders/nh/3q0vdk7s383d4t34nv4_q89m0000gn/T/ipykernel_12753/3187933759.py:10: FutureWarning: The frame.append method is deprecated and will be removed from pandas in a future version. Use pandas.concat instead.\n",
      "  df = df.append(pd.read_html(html, header = 0)[0])\n",
      "/var/folders/nh/3q0vdk7s383d4t34nv4_q89m0000gn/T/ipykernel_12753/3187933759.py:10: FutureWarning: The frame.append method is deprecated and will be removed from pandas in a future version. Use pandas.concat instead.\n",
      "  df = df.append(pd.read_html(html, header = 0)[0])\n",
      "/var/folders/nh/3q0vdk7s383d4t34nv4_q89m0000gn/T/ipykernel_12753/3187933759.py:10: FutureWarning: The frame.append method is deprecated and will be removed from pandas in a future version. Use pandas.concat instead.\n",
      "  df = df.append(pd.read_html(html, header = 0)[0])\n",
      "/var/folders/nh/3q0vdk7s383d4t34nv4_q89m0000gn/T/ipykernel_12753/3187933759.py:10: FutureWarning: The frame.append method is deprecated and will be removed from pandas in a future version. Use pandas.concat instead.\n",
      "  df = df.append(pd.read_html(html, header = 0)[0])\n",
      "/var/folders/nh/3q0vdk7s383d4t34nv4_q89m0000gn/T/ipykernel_12753/3187933759.py:10: FutureWarning: The frame.append method is deprecated and will be removed from pandas in a future version. Use pandas.concat instead.\n",
      "  df = df.append(pd.read_html(html, header = 0)[0])\n",
      "/var/folders/nh/3q0vdk7s383d4t34nv4_q89m0000gn/T/ipykernel_12753/3187933759.py:10: FutureWarning: The frame.append method is deprecated and will be removed from pandas in a future version. Use pandas.concat instead.\n",
      "  df = df.append(pd.read_html(html, header = 0)[0])\n",
      "/var/folders/nh/3q0vdk7s383d4t34nv4_q89m0000gn/T/ipykernel_12753/3187933759.py:10: FutureWarning: The frame.append method is deprecated and will be removed from pandas in a future version. Use pandas.concat instead.\n",
      "  df = df.append(pd.read_html(html, header = 0)[0])\n",
      "/var/folders/nh/3q0vdk7s383d4t34nv4_q89m0000gn/T/ipykernel_12753/3187933759.py:10: FutureWarning: The frame.append method is deprecated and will be removed from pandas in a future version. Use pandas.concat instead.\n",
      "  df = df.append(pd.read_html(html, header = 0)[0])\n",
      "/var/folders/nh/3q0vdk7s383d4t34nv4_q89m0000gn/T/ipykernel_12753/3187933759.py:10: FutureWarning: The frame.append method is deprecated and will be removed from pandas in a future version. Use pandas.concat instead.\n",
      "  df = df.append(pd.read_html(html, header = 0)[0])\n",
      "/var/folders/nh/3q0vdk7s383d4t34nv4_q89m0000gn/T/ipykernel_12753/3187933759.py:10: FutureWarning: The frame.append method is deprecated and will be removed from pandas in a future version. Use pandas.concat instead.\n",
      "  df = df.append(pd.read_html(html, header = 0)[0])\n",
      "/var/folders/nh/3q0vdk7s383d4t34nv4_q89m0000gn/T/ipykernel_12753/3187933759.py:10: FutureWarning: The frame.append method is deprecated and will be removed from pandas in a future version. Use pandas.concat instead.\n",
      "  df = df.append(pd.read_html(html, header = 0)[0])\n",
      "/var/folders/nh/3q0vdk7s383d4t34nv4_q89m0000gn/T/ipykernel_12753/3187933759.py:10: FutureWarning: The frame.append method is deprecated and will be removed from pandas in a future version. Use pandas.concat instead.\n",
      "  df = df.append(pd.read_html(html, header = 0)[0])\n",
      "/var/folders/nh/3q0vdk7s383d4t34nv4_q89m0000gn/T/ipykernel_12753/3187933759.py:10: FutureWarning: The frame.append method is deprecated and will be removed from pandas in a future version. Use pandas.concat instead.\n",
      "  df = df.append(pd.read_html(html, header = 0)[0])\n",
      "/var/folders/nh/3q0vdk7s383d4t34nv4_q89m0000gn/T/ipykernel_12753/3187933759.py:10: FutureWarning: The frame.append method is deprecated and will be removed from pandas in a future version. Use pandas.concat instead.\n",
      "  df = df.append(pd.read_html(html, header = 0)[0])\n",
      "/var/folders/nh/3q0vdk7s383d4t34nv4_q89m0000gn/T/ipykernel_12753/3187933759.py:10: FutureWarning: The frame.append method is deprecated and will be removed from pandas in a future version. Use pandas.concat instead.\n",
      "  df = df.append(pd.read_html(html, header = 0)[0])\n",
      "/var/folders/nh/3q0vdk7s383d4t34nv4_q89m0000gn/T/ipykernel_12753/3187933759.py:10: FutureWarning: The frame.append method is deprecated and will be removed from pandas in a future version. Use pandas.concat instead.\n",
      "  df = df.append(pd.read_html(html, header = 0)[0])\n",
      "/var/folders/nh/3q0vdk7s383d4t34nv4_q89m0000gn/T/ipykernel_12753/3187933759.py:10: FutureWarning: The frame.append method is deprecated and will be removed from pandas in a future version. Use pandas.concat instead.\n",
      "  df = df.append(pd.read_html(html, header = 0)[0])\n",
      "/var/folders/nh/3q0vdk7s383d4t34nv4_q89m0000gn/T/ipykernel_12753/3187933759.py:10: FutureWarning: The frame.append method is deprecated and will be removed from pandas in a future version. Use pandas.concat instead.\n",
      "  df = df.append(pd.read_html(html, header = 0)[0])\n",
      "/var/folders/nh/3q0vdk7s383d4t34nv4_q89m0000gn/T/ipykernel_12753/3187933759.py:10: FutureWarning: The frame.append method is deprecated and will be removed from pandas in a future version. Use pandas.concat instead.\n",
      "  df = df.append(pd.read_html(html, header = 0)[0])\n",
      "/var/folders/nh/3q0vdk7s383d4t34nv4_q89m0000gn/T/ipykernel_12753/3187933759.py:10: FutureWarning: The frame.append method is deprecated and will be removed from pandas in a future version. Use pandas.concat instead.\n",
      "  df = df.append(pd.read_html(html, header = 0)[0])\n",
      "/var/folders/nh/3q0vdk7s383d4t34nv4_q89m0000gn/T/ipykernel_12753/3187933759.py:10: FutureWarning: The frame.append method is deprecated and will be removed from pandas in a future version. Use pandas.concat instead.\n",
      "  df = df.append(pd.read_html(html, header = 0)[0])\n",
      "/var/folders/nh/3q0vdk7s383d4t34nv4_q89m0000gn/T/ipykernel_12753/3187933759.py:10: FutureWarning: The frame.append method is deprecated and will be removed from pandas in a future version. Use pandas.concat instead.\n",
      "  df = df.append(pd.read_html(html, header = 0)[0])\n"
     ]
    },
    {
     "name": "stderr",
     "output_type": "stream",
     "text": [
      "/var/folders/nh/3q0vdk7s383d4t34nv4_q89m0000gn/T/ipykernel_12753/3187933759.py:10: FutureWarning: The frame.append method is deprecated and will be removed from pandas in a future version. Use pandas.concat instead.\n",
      "  df = df.append(pd.read_html(html, header = 0)[0])\n",
      "/var/folders/nh/3q0vdk7s383d4t34nv4_q89m0000gn/T/ipykernel_12753/3187933759.py:10: FutureWarning: The frame.append method is deprecated and will be removed from pandas in a future version. Use pandas.concat instead.\n",
      "  df = df.append(pd.read_html(html, header = 0)[0])\n",
      "/var/folders/nh/3q0vdk7s383d4t34nv4_q89m0000gn/T/ipykernel_12753/3187933759.py:10: FutureWarning: The frame.append method is deprecated and will be removed from pandas in a future version. Use pandas.concat instead.\n",
      "  df = df.append(pd.read_html(html, header = 0)[0])\n",
      "/var/folders/nh/3q0vdk7s383d4t34nv4_q89m0000gn/T/ipykernel_12753/3187933759.py:10: FutureWarning: The frame.append method is deprecated and will be removed from pandas in a future version. Use pandas.concat instead.\n",
      "  df = df.append(pd.read_html(html, header = 0)[0])\n",
      "/var/folders/nh/3q0vdk7s383d4t34nv4_q89m0000gn/T/ipykernel_12753/3187933759.py:10: FutureWarning: The frame.append method is deprecated and will be removed from pandas in a future version. Use pandas.concat instead.\n",
      "  df = df.append(pd.read_html(html, header = 0)[0])\n",
      "/var/folders/nh/3q0vdk7s383d4t34nv4_q89m0000gn/T/ipykernel_12753/3187933759.py:10: FutureWarning: The frame.append method is deprecated and will be removed from pandas in a future version. Use pandas.concat instead.\n",
      "  df = df.append(pd.read_html(html, header = 0)[0])\n",
      "/var/folders/nh/3q0vdk7s383d4t34nv4_q89m0000gn/T/ipykernel_12753/3187933759.py:10: FutureWarning: The frame.append method is deprecated and will be removed from pandas in a future version. Use pandas.concat instead.\n",
      "  df = df.append(pd.read_html(html, header = 0)[0])\n",
      "/var/folders/nh/3q0vdk7s383d4t34nv4_q89m0000gn/T/ipykernel_12753/3187933759.py:10: FutureWarning: The frame.append method is deprecated and will be removed from pandas in a future version. Use pandas.concat instead.\n",
      "  df = df.append(pd.read_html(html, header = 0)[0])\n",
      "/var/folders/nh/3q0vdk7s383d4t34nv4_q89m0000gn/T/ipykernel_12753/3187933759.py:10: FutureWarning: The frame.append method is deprecated and will be removed from pandas in a future version. Use pandas.concat instead.\n",
      "  df = df.append(pd.read_html(html, header = 0)[0])\n",
      "/var/folders/nh/3q0vdk7s383d4t34nv4_q89m0000gn/T/ipykernel_12753/3187933759.py:10: FutureWarning: The frame.append method is deprecated and will be removed from pandas in a future version. Use pandas.concat instead.\n",
      "  df = df.append(pd.read_html(html, header = 0)[0])\n",
      "/var/folders/nh/3q0vdk7s383d4t34nv4_q89m0000gn/T/ipykernel_12753/3187933759.py:10: FutureWarning: The frame.append method is deprecated and will be removed from pandas in a future version. Use pandas.concat instead.\n",
      "  df = df.append(pd.read_html(html, header = 0)[0])\n",
      "/var/folders/nh/3q0vdk7s383d4t34nv4_q89m0000gn/T/ipykernel_12753/3187933759.py:10: FutureWarning: The frame.append method is deprecated and will be removed from pandas in a future version. Use pandas.concat instead.\n",
      "  df = df.append(pd.read_html(html, header = 0)[0])\n",
      "/var/folders/nh/3q0vdk7s383d4t34nv4_q89m0000gn/T/ipykernel_12753/3187933759.py:10: FutureWarning: The frame.append method is deprecated and will be removed from pandas in a future version. Use pandas.concat instead.\n",
      "  df = df.append(pd.read_html(html, header = 0)[0])\n",
      "/var/folders/nh/3q0vdk7s383d4t34nv4_q89m0000gn/T/ipykernel_12753/3187933759.py:10: FutureWarning: The frame.append method is deprecated and will be removed from pandas in a future version. Use pandas.concat instead.\n",
      "  df = df.append(pd.read_html(html, header = 0)[0])\n",
      "/var/folders/nh/3q0vdk7s383d4t34nv4_q89m0000gn/T/ipykernel_12753/3187933759.py:10: FutureWarning: The frame.append method is deprecated and will be removed from pandas in a future version. Use pandas.concat instead.\n",
      "  df = df.append(pd.read_html(html, header = 0)[0])\n",
      "/var/folders/nh/3q0vdk7s383d4t34nv4_q89m0000gn/T/ipykernel_12753/3187933759.py:10: FutureWarning: The frame.append method is deprecated and will be removed from pandas in a future version. Use pandas.concat instead.\n",
      "  df = df.append(pd.read_html(html, header = 0)[0])\n",
      "/var/folders/nh/3q0vdk7s383d4t34nv4_q89m0000gn/T/ipykernel_12753/3187933759.py:10: FutureWarning: The frame.append method is deprecated and will be removed from pandas in a future version. Use pandas.concat instead.\n",
      "  df = df.append(pd.read_html(html, header = 0)[0])\n",
      "/var/folders/nh/3q0vdk7s383d4t34nv4_q89m0000gn/T/ipykernel_12753/3187933759.py:10: FutureWarning: The frame.append method is deprecated and will be removed from pandas in a future version. Use pandas.concat instead.\n",
      "  df = df.append(pd.read_html(html, header = 0)[0])\n",
      "/var/folders/nh/3q0vdk7s383d4t34nv4_q89m0000gn/T/ipykernel_12753/3187933759.py:10: FutureWarning: The frame.append method is deprecated and will be removed from pandas in a future version. Use pandas.concat instead.\n",
      "  df = df.append(pd.read_html(html, header = 0)[0])\n",
      "/var/folders/nh/3q0vdk7s383d4t34nv4_q89m0000gn/T/ipykernel_12753/3187933759.py:10: FutureWarning: The frame.append method is deprecated and will be removed from pandas in a future version. Use pandas.concat instead.\n",
      "  df = df.append(pd.read_html(html, header = 0)[0])\n",
      "/var/folders/nh/3q0vdk7s383d4t34nv4_q89m0000gn/T/ipykernel_12753/3187933759.py:10: FutureWarning: The frame.append method is deprecated and will be removed from pandas in a future version. Use pandas.concat instead.\n",
      "  df = df.append(pd.read_html(html, header = 0)[0])\n",
      "/var/folders/nh/3q0vdk7s383d4t34nv4_q89m0000gn/T/ipykernel_12753/3187933759.py:10: FutureWarning: The frame.append method is deprecated and will be removed from pandas in a future version. Use pandas.concat instead.\n",
      "  df = df.append(pd.read_html(html, header = 0)[0])\n",
      "/var/folders/nh/3q0vdk7s383d4t34nv4_q89m0000gn/T/ipykernel_12753/3187933759.py:10: FutureWarning: The frame.append method is deprecated and will be removed from pandas in a future version. Use pandas.concat instead.\n",
      "  df = df.append(pd.read_html(html, header = 0)[0])\n",
      "/var/folders/nh/3q0vdk7s383d4t34nv4_q89m0000gn/T/ipykernel_12753/3187933759.py:10: FutureWarning: The frame.append method is deprecated and will be removed from pandas in a future version. Use pandas.concat instead.\n",
      "  df = df.append(pd.read_html(html, header = 0)[0])\n",
      "/var/folders/nh/3q0vdk7s383d4t34nv4_q89m0000gn/T/ipykernel_12753/3187933759.py:10: FutureWarning: The frame.append method is deprecated and will be removed from pandas in a future version. Use pandas.concat instead.\n",
      "  df = df.append(pd.read_html(html, header = 0)[0])\n",
      "/var/folders/nh/3q0vdk7s383d4t34nv4_q89m0000gn/T/ipykernel_12753/3187933759.py:10: FutureWarning: The frame.append method is deprecated and will be removed from pandas in a future version. Use pandas.concat instead.\n",
      "  df = df.append(pd.read_html(html, header = 0)[0])\n",
      "/var/folders/nh/3q0vdk7s383d4t34nv4_q89m0000gn/T/ipykernel_12753/3187933759.py:10: FutureWarning: The frame.append method is deprecated and will be removed from pandas in a future version. Use pandas.concat instead.\n",
      "  df = df.append(pd.read_html(html, header = 0)[0])\n",
      "/var/folders/nh/3q0vdk7s383d4t34nv4_q89m0000gn/T/ipykernel_12753/3187933759.py:10: FutureWarning: The frame.append method is deprecated and will be removed from pandas in a future version. Use pandas.concat instead.\n",
      "  df = df.append(pd.read_html(html, header = 0)[0])\n",
      "/var/folders/nh/3q0vdk7s383d4t34nv4_q89m0000gn/T/ipykernel_12753/3187933759.py:10: FutureWarning: The frame.append method is deprecated and will be removed from pandas in a future version. Use pandas.concat instead.\n",
      "  df = df.append(pd.read_html(html, header = 0)[0])\n",
      "/var/folders/nh/3q0vdk7s383d4t34nv4_q89m0000gn/T/ipykernel_12753/3187933759.py:10: FutureWarning: The frame.append method is deprecated and will be removed from pandas in a future version. Use pandas.concat instead.\n",
      "  df = df.append(pd.read_html(html, header = 0)[0])\n",
      "/var/folders/nh/3q0vdk7s383d4t34nv4_q89m0000gn/T/ipykernel_12753/3187933759.py:10: FutureWarning: The frame.append method is deprecated and will be removed from pandas in a future version. Use pandas.concat instead.\n",
      "  df = df.append(pd.read_html(html, header = 0)[0])\n"
     ]
    },
    {
     "name": "stderr",
     "output_type": "stream",
     "text": [
      "/var/folders/nh/3q0vdk7s383d4t34nv4_q89m0000gn/T/ipykernel_12753/3187933759.py:10: FutureWarning: The frame.append method is deprecated and will be removed from pandas in a future version. Use pandas.concat instead.\n",
      "  df = df.append(pd.read_html(html, header = 0)[0])\n",
      "/var/folders/nh/3q0vdk7s383d4t34nv4_q89m0000gn/T/ipykernel_12753/3187933759.py:10: FutureWarning: The frame.append method is deprecated and will be removed from pandas in a future version. Use pandas.concat instead.\n",
      "  df = df.append(pd.read_html(html, header = 0)[0])\n",
      "/var/folders/nh/3q0vdk7s383d4t34nv4_q89m0000gn/T/ipykernel_12753/3187933759.py:10: FutureWarning: The frame.append method is deprecated and will be removed from pandas in a future version. Use pandas.concat instead.\n",
      "  df = df.append(pd.read_html(html, header = 0)[0])\n",
      "/var/folders/nh/3q0vdk7s383d4t34nv4_q89m0000gn/T/ipykernel_12753/3187933759.py:10: FutureWarning: The frame.append method is deprecated and will be removed from pandas in a future version. Use pandas.concat instead.\n",
      "  df = df.append(pd.read_html(html, header = 0)[0])\n",
      "/var/folders/nh/3q0vdk7s383d4t34nv4_q89m0000gn/T/ipykernel_12753/3187933759.py:10: FutureWarning: The frame.append method is deprecated and will be removed from pandas in a future version. Use pandas.concat instead.\n",
      "  df = df.append(pd.read_html(html, header = 0)[0])\n",
      "/var/folders/nh/3q0vdk7s383d4t34nv4_q89m0000gn/T/ipykernel_12753/3187933759.py:10: FutureWarning: The frame.append method is deprecated and will be removed from pandas in a future version. Use pandas.concat instead.\n",
      "  df = df.append(pd.read_html(html, header = 0)[0])\n",
      "/var/folders/nh/3q0vdk7s383d4t34nv4_q89m0000gn/T/ipykernel_12753/3187933759.py:10: FutureWarning: The frame.append method is deprecated and will be removed from pandas in a future version. Use pandas.concat instead.\n",
      "  df = df.append(pd.read_html(html, header = 0)[0])\n",
      "/var/folders/nh/3q0vdk7s383d4t34nv4_q89m0000gn/T/ipykernel_12753/3187933759.py:10: FutureWarning: The frame.append method is deprecated and will be removed from pandas in a future version. Use pandas.concat instead.\n",
      "  df = df.append(pd.read_html(html, header = 0)[0])\n",
      "/var/folders/nh/3q0vdk7s383d4t34nv4_q89m0000gn/T/ipykernel_12753/3187933759.py:10: FutureWarning: The frame.append method is deprecated and will be removed from pandas in a future version. Use pandas.concat instead.\n",
      "  df = df.append(pd.read_html(html, header = 0)[0])\n",
      "/var/folders/nh/3q0vdk7s383d4t34nv4_q89m0000gn/T/ipykernel_12753/3187933759.py:10: FutureWarning: The frame.append method is deprecated and will be removed from pandas in a future version. Use pandas.concat instead.\n",
      "  df = df.append(pd.read_html(html, header = 0)[0])\n",
      "/var/folders/nh/3q0vdk7s383d4t34nv4_q89m0000gn/T/ipykernel_12753/3187933759.py:10: FutureWarning: The frame.append method is deprecated and will be removed from pandas in a future version. Use pandas.concat instead.\n",
      "  df = df.append(pd.read_html(html, header = 0)[0])\n",
      "/var/folders/nh/3q0vdk7s383d4t34nv4_q89m0000gn/T/ipykernel_12753/3187933759.py:10: FutureWarning: The frame.append method is deprecated and will be removed from pandas in a future version. Use pandas.concat instead.\n",
      "  df = df.append(pd.read_html(html, header = 0)[0])\n",
      "/var/folders/nh/3q0vdk7s383d4t34nv4_q89m0000gn/T/ipykernel_12753/3187933759.py:10: FutureWarning: The frame.append method is deprecated and will be removed from pandas in a future version. Use pandas.concat instead.\n",
      "  df = df.append(pd.read_html(html, header = 0)[0])\n",
      "/var/folders/nh/3q0vdk7s383d4t34nv4_q89m0000gn/T/ipykernel_12753/3187933759.py:10: FutureWarning: The frame.append method is deprecated and will be removed from pandas in a future version. Use pandas.concat instead.\n",
      "  df = df.append(pd.read_html(html, header = 0)[0])\n",
      "/var/folders/nh/3q0vdk7s383d4t34nv4_q89m0000gn/T/ipykernel_12753/3187933759.py:10: FutureWarning: The frame.append method is deprecated and will be removed from pandas in a future version. Use pandas.concat instead.\n",
      "  df = df.append(pd.read_html(html, header = 0)[0])\n",
      "/var/folders/nh/3q0vdk7s383d4t34nv4_q89m0000gn/T/ipykernel_12753/3187933759.py:10: FutureWarning: The frame.append method is deprecated and will be removed from pandas in a future version. Use pandas.concat instead.\n",
      "  df = df.append(pd.read_html(html, header = 0)[0])\n",
      "/var/folders/nh/3q0vdk7s383d4t34nv4_q89m0000gn/T/ipykernel_12753/3187933759.py:10: FutureWarning: The frame.append method is deprecated and will be removed from pandas in a future version. Use pandas.concat instead.\n",
      "  df = df.append(pd.read_html(html, header = 0)[0])\n",
      "/var/folders/nh/3q0vdk7s383d4t34nv4_q89m0000gn/T/ipykernel_12753/3187933759.py:10: FutureWarning: The frame.append method is deprecated and will be removed from pandas in a future version. Use pandas.concat instead.\n",
      "  df = df.append(pd.read_html(html, header = 0)[0])\n",
      "/var/folders/nh/3q0vdk7s383d4t34nv4_q89m0000gn/T/ipykernel_12753/3187933759.py:10: FutureWarning: The frame.append method is deprecated and will be removed from pandas in a future version. Use pandas.concat instead.\n",
      "  df = df.append(pd.read_html(html, header = 0)[0])\n",
      "/var/folders/nh/3q0vdk7s383d4t34nv4_q89m0000gn/T/ipykernel_12753/3187933759.py:10: FutureWarning: The frame.append method is deprecated and will be removed from pandas in a future version. Use pandas.concat instead.\n",
      "  df = df.append(pd.read_html(html, header = 0)[0])\n",
      "/var/folders/nh/3q0vdk7s383d4t34nv4_q89m0000gn/T/ipykernel_12753/3187933759.py:10: FutureWarning: The frame.append method is deprecated and will be removed from pandas in a future version. Use pandas.concat instead.\n",
      "  df = df.append(pd.read_html(html, header = 0)[0])\n",
      "/var/folders/nh/3q0vdk7s383d4t34nv4_q89m0000gn/T/ipykernel_12753/3187933759.py:10: FutureWarning: The frame.append method is deprecated and will be removed from pandas in a future version. Use pandas.concat instead.\n",
      "  df = df.append(pd.read_html(html, header = 0)[0])\n",
      "/var/folders/nh/3q0vdk7s383d4t34nv4_q89m0000gn/T/ipykernel_12753/3187933759.py:10: FutureWarning: The frame.append method is deprecated and will be removed from pandas in a future version. Use pandas.concat instead.\n",
      "  df = df.append(pd.read_html(html, header = 0)[0])\n",
      "/var/folders/nh/3q0vdk7s383d4t34nv4_q89m0000gn/T/ipykernel_12753/3187933759.py:10: FutureWarning: The frame.append method is deprecated and will be removed from pandas in a future version. Use pandas.concat instead.\n",
      "  df = df.append(pd.read_html(html, header = 0)[0])\n",
      "/var/folders/nh/3q0vdk7s383d4t34nv4_q89m0000gn/T/ipykernel_12753/3187933759.py:10: FutureWarning: The frame.append method is deprecated and will be removed from pandas in a future version. Use pandas.concat instead.\n",
      "  df = df.append(pd.read_html(html, header = 0)[0])\n",
      "/var/folders/nh/3q0vdk7s383d4t34nv4_q89m0000gn/T/ipykernel_12753/3187933759.py:10: FutureWarning: The frame.append method is deprecated and will be removed from pandas in a future version. Use pandas.concat instead.\n",
      "  df = df.append(pd.read_html(html, header = 0)[0])\n",
      "/var/folders/nh/3q0vdk7s383d4t34nv4_q89m0000gn/T/ipykernel_12753/3187933759.py:10: FutureWarning: The frame.append method is deprecated and will be removed from pandas in a future version. Use pandas.concat instead.\n",
      "  df = df.append(pd.read_html(html, header = 0)[0])\n",
      "/var/folders/nh/3q0vdk7s383d4t34nv4_q89m0000gn/T/ipykernel_12753/3187933759.py:10: FutureWarning: The frame.append method is deprecated and will be removed from pandas in a future version. Use pandas.concat instead.\n",
      "  df = df.append(pd.read_html(html, header = 0)[0])\n",
      "/var/folders/nh/3q0vdk7s383d4t34nv4_q89m0000gn/T/ipykernel_12753/3187933759.py:10: FutureWarning: The frame.append method is deprecated and will be removed from pandas in a future version. Use pandas.concat instead.\n",
      "  df = df.append(pd.read_html(html, header = 0)[0])\n",
      "/var/folders/nh/3q0vdk7s383d4t34nv4_q89m0000gn/T/ipykernel_12753/3187933759.py:10: FutureWarning: The frame.append method is deprecated and will be removed from pandas in a future version. Use pandas.concat instead.\n",
      "  df = df.append(pd.read_html(html, header = 0)[0])\n",
      "/var/folders/nh/3q0vdk7s383d4t34nv4_q89m0000gn/T/ipykernel_12753/3187933759.py:10: FutureWarning: The frame.append method is deprecated and will be removed from pandas in a future version. Use pandas.concat instead.\n",
      "  df = df.append(pd.read_html(html, header = 0)[0])\n",
      "/var/folders/nh/3q0vdk7s383d4t34nv4_q89m0000gn/T/ipykernel_12753/3187933759.py:10: FutureWarning: The frame.append method is deprecated and will be removed from pandas in a future version. Use pandas.concat instead.\n",
      "  df = df.append(pd.read_html(html, header = 0)[0])\n",
      "/var/folders/nh/3q0vdk7s383d4t34nv4_q89m0000gn/T/ipykernel_12753/3187933759.py:10: FutureWarning: The frame.append method is deprecated and will be removed from pandas in a future version. Use pandas.concat instead.\n",
      "  df = df.append(pd.read_html(html, header = 0)[0])\n"
     ]
    },
    {
     "name": "stderr",
     "output_type": "stream",
     "text": [
      "/var/folders/nh/3q0vdk7s383d4t34nv4_q89m0000gn/T/ipykernel_12753/3187933759.py:10: FutureWarning: The frame.append method is deprecated and will be removed from pandas in a future version. Use pandas.concat instead.\n",
      "  df = df.append(pd.read_html(html, header = 0)[0])\n",
      "/var/folders/nh/3q0vdk7s383d4t34nv4_q89m0000gn/T/ipykernel_12753/3187933759.py:10: FutureWarning: The frame.append method is deprecated and will be removed from pandas in a future version. Use pandas.concat instead.\n",
      "  df = df.append(pd.read_html(html, header = 0)[0])\n",
      "/var/folders/nh/3q0vdk7s383d4t34nv4_q89m0000gn/T/ipykernel_12753/3187933759.py:10: FutureWarning: The frame.append method is deprecated and will be removed from pandas in a future version. Use pandas.concat instead.\n",
      "  df = df.append(pd.read_html(html, header = 0)[0])\n",
      "/var/folders/nh/3q0vdk7s383d4t34nv4_q89m0000gn/T/ipykernel_12753/3187933759.py:10: FutureWarning: The frame.append method is deprecated and will be removed from pandas in a future version. Use pandas.concat instead.\n",
      "  df = df.append(pd.read_html(html, header = 0)[0])\n",
      "/var/folders/nh/3q0vdk7s383d4t34nv4_q89m0000gn/T/ipykernel_12753/3187933759.py:10: FutureWarning: The frame.append method is deprecated and will be removed from pandas in a future version. Use pandas.concat instead.\n",
      "  df = df.append(pd.read_html(html, header = 0)[0])\n",
      "/var/folders/nh/3q0vdk7s383d4t34nv4_q89m0000gn/T/ipykernel_12753/3187933759.py:10: FutureWarning: The frame.append method is deprecated and will be removed from pandas in a future version. Use pandas.concat instead.\n",
      "  df = df.append(pd.read_html(html, header = 0)[0])\n",
      "/var/folders/nh/3q0vdk7s383d4t34nv4_q89m0000gn/T/ipykernel_12753/3187933759.py:10: FutureWarning: The frame.append method is deprecated and will be removed from pandas in a future version. Use pandas.concat instead.\n",
      "  df = df.append(pd.read_html(html, header = 0)[0])\n",
      "/var/folders/nh/3q0vdk7s383d4t34nv4_q89m0000gn/T/ipykernel_12753/3187933759.py:10: FutureWarning: The frame.append method is deprecated and will be removed from pandas in a future version. Use pandas.concat instead.\n",
      "  df = df.append(pd.read_html(html, header = 0)[0])\n",
      "/var/folders/nh/3q0vdk7s383d4t34nv4_q89m0000gn/T/ipykernel_12753/3187933759.py:10: FutureWarning: The frame.append method is deprecated and will be removed from pandas in a future version. Use pandas.concat instead.\n",
      "  df = df.append(pd.read_html(html, header = 0)[0])\n",
      "/var/folders/nh/3q0vdk7s383d4t34nv4_q89m0000gn/T/ipykernel_12753/3187933759.py:10: FutureWarning: The frame.append method is deprecated and will be removed from pandas in a future version. Use pandas.concat instead.\n",
      "  df = df.append(pd.read_html(html, header = 0)[0])\n",
      "/var/folders/nh/3q0vdk7s383d4t34nv4_q89m0000gn/T/ipykernel_12753/3187933759.py:10: FutureWarning: The frame.append method is deprecated and will be removed from pandas in a future version. Use pandas.concat instead.\n",
      "  df = df.append(pd.read_html(html, header = 0)[0])\n",
      "/var/folders/nh/3q0vdk7s383d4t34nv4_q89m0000gn/T/ipykernel_12753/3187933759.py:10: FutureWarning: The frame.append method is deprecated and will be removed from pandas in a future version. Use pandas.concat instead.\n",
      "  df = df.append(pd.read_html(html, header = 0)[0])\n",
      "/var/folders/nh/3q0vdk7s383d4t34nv4_q89m0000gn/T/ipykernel_12753/3187933759.py:10: FutureWarning: The frame.append method is deprecated and will be removed from pandas in a future version. Use pandas.concat instead.\n",
      "  df = df.append(pd.read_html(html, header = 0)[0])\n",
      "/var/folders/nh/3q0vdk7s383d4t34nv4_q89m0000gn/T/ipykernel_12753/3187933759.py:10: FutureWarning: The frame.append method is deprecated and will be removed from pandas in a future version. Use pandas.concat instead.\n",
      "  df = df.append(pd.read_html(html, header = 0)[0])\n",
      "/var/folders/nh/3q0vdk7s383d4t34nv4_q89m0000gn/T/ipykernel_12753/3187933759.py:10: FutureWarning: The frame.append method is deprecated and will be removed from pandas in a future version. Use pandas.concat instead.\n",
      "  df = df.append(pd.read_html(html, header = 0)[0])\n",
      "/var/folders/nh/3q0vdk7s383d4t34nv4_q89m0000gn/T/ipykernel_12753/3187933759.py:10: FutureWarning: The frame.append method is deprecated and will be removed from pandas in a future version. Use pandas.concat instead.\n",
      "  df = df.append(pd.read_html(html, header = 0)[0])\n",
      "/var/folders/nh/3q0vdk7s383d4t34nv4_q89m0000gn/T/ipykernel_12753/3187933759.py:10: FutureWarning: The frame.append method is deprecated and will be removed from pandas in a future version. Use pandas.concat instead.\n",
      "  df = df.append(pd.read_html(html, header = 0)[0])\n",
      "/var/folders/nh/3q0vdk7s383d4t34nv4_q89m0000gn/T/ipykernel_12753/3187933759.py:10: FutureWarning: The frame.append method is deprecated and will be removed from pandas in a future version. Use pandas.concat instead.\n",
      "  df = df.append(pd.read_html(html, header = 0)[0])\n",
      "/var/folders/nh/3q0vdk7s383d4t34nv4_q89m0000gn/T/ipykernel_12753/3187933759.py:10: FutureWarning: The frame.append method is deprecated and will be removed from pandas in a future version. Use pandas.concat instead.\n",
      "  df = df.append(pd.read_html(html, header = 0)[0])\n",
      "/var/folders/nh/3q0vdk7s383d4t34nv4_q89m0000gn/T/ipykernel_12753/3187933759.py:10: FutureWarning: The frame.append method is deprecated and will be removed from pandas in a future version. Use pandas.concat instead.\n",
      "  df = df.append(pd.read_html(html, header = 0)[0])\n",
      "/var/folders/nh/3q0vdk7s383d4t34nv4_q89m0000gn/T/ipykernel_12753/3187933759.py:10: FutureWarning: The frame.append method is deprecated and will be removed from pandas in a future version. Use pandas.concat instead.\n",
      "  df = df.append(pd.read_html(html, header = 0)[0])\n",
      "/var/folders/nh/3q0vdk7s383d4t34nv4_q89m0000gn/T/ipykernel_12753/3187933759.py:10: FutureWarning: The frame.append method is deprecated and will be removed from pandas in a future version. Use pandas.concat instead.\n",
      "  df = df.append(pd.read_html(html, header = 0)[0])\n",
      "/var/folders/nh/3q0vdk7s383d4t34nv4_q89m0000gn/T/ipykernel_12753/3187933759.py:10: FutureWarning: The frame.append method is deprecated and will be removed from pandas in a future version. Use pandas.concat instead.\n",
      "  df = df.append(pd.read_html(html, header = 0)[0])\n",
      "/var/folders/nh/3q0vdk7s383d4t34nv4_q89m0000gn/T/ipykernel_12753/3187933759.py:10: FutureWarning: The frame.append method is deprecated and will be removed from pandas in a future version. Use pandas.concat instead.\n",
      "  df = df.append(pd.read_html(html, header = 0)[0])\n",
      "/var/folders/nh/3q0vdk7s383d4t34nv4_q89m0000gn/T/ipykernel_12753/3187933759.py:10: FutureWarning: The frame.append method is deprecated and will be removed from pandas in a future version. Use pandas.concat instead.\n",
      "  df = df.append(pd.read_html(html, header = 0)[0])\n",
      "/var/folders/nh/3q0vdk7s383d4t34nv4_q89m0000gn/T/ipykernel_12753/3187933759.py:10: FutureWarning: The frame.append method is deprecated and will be removed from pandas in a future version. Use pandas.concat instead.\n",
      "  df = df.append(pd.read_html(html, header = 0)[0])\n",
      "/var/folders/nh/3q0vdk7s383d4t34nv4_q89m0000gn/T/ipykernel_12753/3187933759.py:10: FutureWarning: The frame.append method is deprecated and will be removed from pandas in a future version. Use pandas.concat instead.\n",
      "  df = df.append(pd.read_html(html, header = 0)[0])\n",
      "/var/folders/nh/3q0vdk7s383d4t34nv4_q89m0000gn/T/ipykernel_12753/3187933759.py:10: FutureWarning: The frame.append method is deprecated and will be removed from pandas in a future version. Use pandas.concat instead.\n",
      "  df = df.append(pd.read_html(html, header = 0)[0])\n",
      "/var/folders/nh/3q0vdk7s383d4t34nv4_q89m0000gn/T/ipykernel_12753/3187933759.py:10: FutureWarning: The frame.append method is deprecated and will be removed from pandas in a future version. Use pandas.concat instead.\n",
      "  df = df.append(pd.read_html(html, header = 0)[0])\n",
      "/var/folders/nh/3q0vdk7s383d4t34nv4_q89m0000gn/T/ipykernel_12753/3187933759.py:10: FutureWarning: The frame.append method is deprecated and will be removed from pandas in a future version. Use pandas.concat instead.\n",
      "  df = df.append(pd.read_html(html, header = 0)[0])\n",
      "/var/folders/nh/3q0vdk7s383d4t34nv4_q89m0000gn/T/ipykernel_12753/3187933759.py:10: FutureWarning: The frame.append method is deprecated and will be removed from pandas in a future version. Use pandas.concat instead.\n",
      "  df = df.append(pd.read_html(html, header = 0)[0])\n"
     ]
    },
    {
     "name": "stderr",
     "output_type": "stream",
     "text": [
      "/var/folders/nh/3q0vdk7s383d4t34nv4_q89m0000gn/T/ipykernel_12753/3187933759.py:10: FutureWarning: The frame.append method is deprecated and will be removed from pandas in a future version. Use pandas.concat instead.\n",
      "  df = df.append(pd.read_html(html, header = 0)[0])\n",
      "/var/folders/nh/3q0vdk7s383d4t34nv4_q89m0000gn/T/ipykernel_12753/3187933759.py:10: FutureWarning: The frame.append method is deprecated and will be removed from pandas in a future version. Use pandas.concat instead.\n",
      "  df = df.append(pd.read_html(html, header = 0)[0])\n",
      "/var/folders/nh/3q0vdk7s383d4t34nv4_q89m0000gn/T/ipykernel_12753/3187933759.py:10: FutureWarning: The frame.append method is deprecated and will be removed from pandas in a future version. Use pandas.concat instead.\n",
      "  df = df.append(pd.read_html(html, header = 0)[0])\n",
      "/var/folders/nh/3q0vdk7s383d4t34nv4_q89m0000gn/T/ipykernel_12753/3187933759.py:10: FutureWarning: The frame.append method is deprecated and will be removed from pandas in a future version. Use pandas.concat instead.\n",
      "  df = df.append(pd.read_html(html, header = 0)[0])\n",
      "/var/folders/nh/3q0vdk7s383d4t34nv4_q89m0000gn/T/ipykernel_12753/3187933759.py:10: FutureWarning: The frame.append method is deprecated and will be removed from pandas in a future version. Use pandas.concat instead.\n",
      "  df = df.append(pd.read_html(html, header = 0)[0])\n",
      "/var/folders/nh/3q0vdk7s383d4t34nv4_q89m0000gn/T/ipykernel_12753/3187933759.py:10: FutureWarning: The frame.append method is deprecated and will be removed from pandas in a future version. Use pandas.concat instead.\n",
      "  df = df.append(pd.read_html(html, header = 0)[0])\n",
      "/var/folders/nh/3q0vdk7s383d4t34nv4_q89m0000gn/T/ipykernel_12753/3187933759.py:10: FutureWarning: The frame.append method is deprecated and will be removed from pandas in a future version. Use pandas.concat instead.\n",
      "  df = df.append(pd.read_html(html, header = 0)[0])\n",
      "/var/folders/nh/3q0vdk7s383d4t34nv4_q89m0000gn/T/ipykernel_12753/3187933759.py:10: FutureWarning: The frame.append method is deprecated and will be removed from pandas in a future version. Use pandas.concat instead.\n",
      "  df = df.append(pd.read_html(html, header = 0)[0])\n",
      "/var/folders/nh/3q0vdk7s383d4t34nv4_q89m0000gn/T/ipykernel_12753/3187933759.py:10: FutureWarning: The frame.append method is deprecated and will be removed from pandas in a future version. Use pandas.concat instead.\n",
      "  df = df.append(pd.read_html(html, header = 0)[0])\n",
      "/var/folders/nh/3q0vdk7s383d4t34nv4_q89m0000gn/T/ipykernel_12753/3187933759.py:10: FutureWarning: The frame.append method is deprecated and will be removed from pandas in a future version. Use pandas.concat instead.\n",
      "  df = df.append(pd.read_html(html, header = 0)[0])\n",
      "/var/folders/nh/3q0vdk7s383d4t34nv4_q89m0000gn/T/ipykernel_12753/3187933759.py:10: FutureWarning: The frame.append method is deprecated and will be removed from pandas in a future version. Use pandas.concat instead.\n",
      "  df = df.append(pd.read_html(html, header = 0)[0])\n",
      "/var/folders/nh/3q0vdk7s383d4t34nv4_q89m0000gn/T/ipykernel_12753/3187933759.py:10: FutureWarning: The frame.append method is deprecated and will be removed from pandas in a future version. Use pandas.concat instead.\n",
      "  df = df.append(pd.read_html(html, header = 0)[0])\n",
      "/var/folders/nh/3q0vdk7s383d4t34nv4_q89m0000gn/T/ipykernel_12753/3187933759.py:10: FutureWarning: The frame.append method is deprecated and will be removed from pandas in a future version. Use pandas.concat instead.\n",
      "  df = df.append(pd.read_html(html, header = 0)[0])\n",
      "/var/folders/nh/3q0vdk7s383d4t34nv4_q89m0000gn/T/ipykernel_12753/3187933759.py:10: FutureWarning: The frame.append method is deprecated and will be removed from pandas in a future version. Use pandas.concat instead.\n",
      "  df = df.append(pd.read_html(html, header = 0)[0])\n",
      "/var/folders/nh/3q0vdk7s383d4t34nv4_q89m0000gn/T/ipykernel_12753/3187933759.py:10: FutureWarning: The frame.append method is deprecated and will be removed from pandas in a future version. Use pandas.concat instead.\n",
      "  df = df.append(pd.read_html(html, header = 0)[0])\n",
      "/var/folders/nh/3q0vdk7s383d4t34nv4_q89m0000gn/T/ipykernel_12753/3187933759.py:10: FutureWarning: The frame.append method is deprecated and will be removed from pandas in a future version. Use pandas.concat instead.\n",
      "  df = df.append(pd.read_html(html, header = 0)[0])\n",
      "/var/folders/nh/3q0vdk7s383d4t34nv4_q89m0000gn/T/ipykernel_12753/3187933759.py:10: FutureWarning: The frame.append method is deprecated and will be removed from pandas in a future version. Use pandas.concat instead.\n",
      "  df = df.append(pd.read_html(html, header = 0)[0])\n",
      "/var/folders/nh/3q0vdk7s383d4t34nv4_q89m0000gn/T/ipykernel_12753/3187933759.py:10: FutureWarning: The frame.append method is deprecated and will be removed from pandas in a future version. Use pandas.concat instead.\n",
      "  df = df.append(pd.read_html(html, header = 0)[0])\n",
      "/var/folders/nh/3q0vdk7s383d4t34nv4_q89m0000gn/T/ipykernel_12753/3187933759.py:10: FutureWarning: The frame.append method is deprecated and will be removed from pandas in a future version. Use pandas.concat instead.\n",
      "  df = df.append(pd.read_html(html, header = 0)[0])\n",
      "/var/folders/nh/3q0vdk7s383d4t34nv4_q89m0000gn/T/ipykernel_12753/3187933759.py:10: FutureWarning: The frame.append method is deprecated and will be removed from pandas in a future version. Use pandas.concat instead.\n",
      "  df = df.append(pd.read_html(html, header = 0)[0])\n",
      "/var/folders/nh/3q0vdk7s383d4t34nv4_q89m0000gn/T/ipykernel_12753/3187933759.py:10: FutureWarning: The frame.append method is deprecated and will be removed from pandas in a future version. Use pandas.concat instead.\n",
      "  df = df.append(pd.read_html(html, header = 0)[0])\n",
      "/var/folders/nh/3q0vdk7s383d4t34nv4_q89m0000gn/T/ipykernel_12753/3187933759.py:10: FutureWarning: The frame.append method is deprecated and will be removed from pandas in a future version. Use pandas.concat instead.\n",
      "  df = df.append(pd.read_html(html, header = 0)[0])\n",
      "/var/folders/nh/3q0vdk7s383d4t34nv4_q89m0000gn/T/ipykernel_12753/3187933759.py:10: FutureWarning: The frame.append method is deprecated and will be removed from pandas in a future version. Use pandas.concat instead.\n",
      "  df = df.append(pd.read_html(html, header = 0)[0])\n",
      "/var/folders/nh/3q0vdk7s383d4t34nv4_q89m0000gn/T/ipykernel_12753/3187933759.py:10: FutureWarning: The frame.append method is deprecated and will be removed from pandas in a future version. Use pandas.concat instead.\n",
      "  df = df.append(pd.read_html(html, header = 0)[0])\n",
      "/var/folders/nh/3q0vdk7s383d4t34nv4_q89m0000gn/T/ipykernel_12753/3187933759.py:10: FutureWarning: The frame.append method is deprecated and will be removed from pandas in a future version. Use pandas.concat instead.\n",
      "  df = df.append(pd.read_html(html, header = 0)[0])\n",
      "/var/folders/nh/3q0vdk7s383d4t34nv4_q89m0000gn/T/ipykernel_12753/3187933759.py:10: FutureWarning: The frame.append method is deprecated and will be removed from pandas in a future version. Use pandas.concat instead.\n",
      "  df = df.append(pd.read_html(html, header = 0)[0])\n",
      "/var/folders/nh/3q0vdk7s383d4t34nv4_q89m0000gn/T/ipykernel_12753/3187933759.py:10: FutureWarning: The frame.append method is deprecated and will be removed from pandas in a future version. Use pandas.concat instead.\n",
      "  df = df.append(pd.read_html(html, header = 0)[0])\n",
      "/var/folders/nh/3q0vdk7s383d4t34nv4_q89m0000gn/T/ipykernel_12753/3187933759.py:10: FutureWarning: The frame.append method is deprecated and will be removed from pandas in a future version. Use pandas.concat instead.\n",
      "  df = df.append(pd.read_html(html, header = 0)[0])\n",
      "/var/folders/nh/3q0vdk7s383d4t34nv4_q89m0000gn/T/ipykernel_12753/3187933759.py:10: FutureWarning: The frame.append method is deprecated and will be removed from pandas in a future version. Use pandas.concat instead.\n",
      "  df = df.append(pd.read_html(html, header = 0)[0])\n",
      "/var/folders/nh/3q0vdk7s383d4t34nv4_q89m0000gn/T/ipykernel_12753/3187933759.py:10: FutureWarning: The frame.append method is deprecated and will be removed from pandas in a future version. Use pandas.concat instead.\n",
      "  df = df.append(pd.read_html(html, header = 0)[0])\n",
      "/var/folders/nh/3q0vdk7s383d4t34nv4_q89m0000gn/T/ipykernel_12753/3187933759.py:10: FutureWarning: The frame.append method is deprecated and will be removed from pandas in a future version. Use pandas.concat instead.\n",
      "  df = df.append(pd.read_html(html, header = 0)[0])\n",
      "/var/folders/nh/3q0vdk7s383d4t34nv4_q89m0000gn/T/ipykernel_12753/3187933759.py:10: FutureWarning: The frame.append method is deprecated and will be removed from pandas in a future version. Use pandas.concat instead.\n",
      "  df = df.append(pd.read_html(html, header = 0)[0])\n",
      "/var/folders/nh/3q0vdk7s383d4t34nv4_q89m0000gn/T/ipykernel_12753/3187933759.py:10: FutureWarning: The frame.append method is deprecated and will be removed from pandas in a future version. Use pandas.concat instead.\n",
      "  df = df.append(pd.read_html(html, header = 0)[0])\n"
     ]
    },
    {
     "name": "stderr",
     "output_type": "stream",
     "text": [
      "/var/folders/nh/3q0vdk7s383d4t34nv4_q89m0000gn/T/ipykernel_12753/3187933759.py:10: FutureWarning: The frame.append method is deprecated and will be removed from pandas in a future version. Use pandas.concat instead.\n",
      "  df = df.append(pd.read_html(html, header = 0)[0])\n",
      "/var/folders/nh/3q0vdk7s383d4t34nv4_q89m0000gn/T/ipykernel_12753/3187933759.py:10: FutureWarning: The frame.append method is deprecated and will be removed from pandas in a future version. Use pandas.concat instead.\n",
      "  df = df.append(pd.read_html(html, header = 0)[0])\n",
      "/var/folders/nh/3q0vdk7s383d4t34nv4_q89m0000gn/T/ipykernel_12753/3187933759.py:10: FutureWarning: The frame.append method is deprecated and will be removed from pandas in a future version. Use pandas.concat instead.\n",
      "  df = df.append(pd.read_html(html, header = 0)[0])\n",
      "/var/folders/nh/3q0vdk7s383d4t34nv4_q89m0000gn/T/ipykernel_12753/3187933759.py:10: FutureWarning: The frame.append method is deprecated and will be removed from pandas in a future version. Use pandas.concat instead.\n",
      "  df = df.append(pd.read_html(html, header = 0)[0])\n",
      "/var/folders/nh/3q0vdk7s383d4t34nv4_q89m0000gn/T/ipykernel_12753/3187933759.py:10: FutureWarning: The frame.append method is deprecated and will be removed from pandas in a future version. Use pandas.concat instead.\n",
      "  df = df.append(pd.read_html(html, header = 0)[0])\n",
      "/var/folders/nh/3q0vdk7s383d4t34nv4_q89m0000gn/T/ipykernel_12753/3187933759.py:10: FutureWarning: The frame.append method is deprecated and will be removed from pandas in a future version. Use pandas.concat instead.\n",
      "  df = df.append(pd.read_html(html, header = 0)[0])\n",
      "/var/folders/nh/3q0vdk7s383d4t34nv4_q89m0000gn/T/ipykernel_12753/3187933759.py:10: FutureWarning: The frame.append method is deprecated and will be removed from pandas in a future version. Use pandas.concat instead.\n",
      "  df = df.append(pd.read_html(html, header = 0)[0])\n",
      "/var/folders/nh/3q0vdk7s383d4t34nv4_q89m0000gn/T/ipykernel_12753/3187933759.py:10: FutureWarning: The frame.append method is deprecated and will be removed from pandas in a future version. Use pandas.concat instead.\n",
      "  df = df.append(pd.read_html(html, header = 0)[0])\n",
      "/var/folders/nh/3q0vdk7s383d4t34nv4_q89m0000gn/T/ipykernel_12753/3187933759.py:10: FutureWarning: The frame.append method is deprecated and will be removed from pandas in a future version. Use pandas.concat instead.\n",
      "  df = df.append(pd.read_html(html, header = 0)[0])\n",
      "/var/folders/nh/3q0vdk7s383d4t34nv4_q89m0000gn/T/ipykernel_12753/3187933759.py:10: FutureWarning: The frame.append method is deprecated and will be removed from pandas in a future version. Use pandas.concat instead.\n",
      "  df = df.append(pd.read_html(html, header = 0)[0])\n",
      "/var/folders/nh/3q0vdk7s383d4t34nv4_q89m0000gn/T/ipykernel_12753/3187933759.py:10: FutureWarning: The frame.append method is deprecated and will be removed from pandas in a future version. Use pandas.concat instead.\n",
      "  df = df.append(pd.read_html(html, header = 0)[0])\n",
      "/var/folders/nh/3q0vdk7s383d4t34nv4_q89m0000gn/T/ipykernel_12753/3187933759.py:10: FutureWarning: The frame.append method is deprecated and will be removed from pandas in a future version. Use pandas.concat instead.\n",
      "  df = df.append(pd.read_html(html, header = 0)[0])\n",
      "/var/folders/nh/3q0vdk7s383d4t34nv4_q89m0000gn/T/ipykernel_12753/3187933759.py:10: FutureWarning: The frame.append method is deprecated and will be removed from pandas in a future version. Use pandas.concat instead.\n",
      "  df = df.append(pd.read_html(html, header = 0)[0])\n",
      "/var/folders/nh/3q0vdk7s383d4t34nv4_q89m0000gn/T/ipykernel_12753/3187933759.py:10: FutureWarning: The frame.append method is deprecated and will be removed from pandas in a future version. Use pandas.concat instead.\n",
      "  df = df.append(pd.read_html(html, header = 0)[0])\n",
      "/var/folders/nh/3q0vdk7s383d4t34nv4_q89m0000gn/T/ipykernel_12753/3187933759.py:10: FutureWarning: The frame.append method is deprecated and will be removed from pandas in a future version. Use pandas.concat instead.\n",
      "  df = df.append(pd.read_html(html, header = 0)[0])\n",
      "/var/folders/nh/3q0vdk7s383d4t34nv4_q89m0000gn/T/ipykernel_12753/3187933759.py:10: FutureWarning: The frame.append method is deprecated and will be removed from pandas in a future version. Use pandas.concat instead.\n",
      "  df = df.append(pd.read_html(html, header = 0)[0])\n",
      "/var/folders/nh/3q0vdk7s383d4t34nv4_q89m0000gn/T/ipykernel_12753/3187933759.py:10: FutureWarning: The frame.append method is deprecated and will be removed from pandas in a future version. Use pandas.concat instead.\n",
      "  df = df.append(pd.read_html(html, header = 0)[0])\n",
      "/var/folders/nh/3q0vdk7s383d4t34nv4_q89m0000gn/T/ipykernel_12753/3187933759.py:10: FutureWarning: The frame.append method is deprecated and will be removed from pandas in a future version. Use pandas.concat instead.\n",
      "  df = df.append(pd.read_html(html, header = 0)[0])\n",
      "/var/folders/nh/3q0vdk7s383d4t34nv4_q89m0000gn/T/ipykernel_12753/3187933759.py:10: FutureWarning: The frame.append method is deprecated and will be removed from pandas in a future version. Use pandas.concat instead.\n",
      "  df = df.append(pd.read_html(html, header = 0)[0])\n",
      "/var/folders/nh/3q0vdk7s383d4t34nv4_q89m0000gn/T/ipykernel_12753/3187933759.py:10: FutureWarning: The frame.append method is deprecated and will be removed from pandas in a future version. Use pandas.concat instead.\n",
      "  df = df.append(pd.read_html(html, header = 0)[0])\n",
      "/var/folders/nh/3q0vdk7s383d4t34nv4_q89m0000gn/T/ipykernel_12753/3187933759.py:10: FutureWarning: The frame.append method is deprecated and will be removed from pandas in a future version. Use pandas.concat instead.\n",
      "  df = df.append(pd.read_html(html, header = 0)[0])\n",
      "/var/folders/nh/3q0vdk7s383d4t34nv4_q89m0000gn/T/ipykernel_12753/3187933759.py:10: FutureWarning: The frame.append method is deprecated and will be removed from pandas in a future version. Use pandas.concat instead.\n",
      "  df = df.append(pd.read_html(html, header = 0)[0])\n",
      "/var/folders/nh/3q0vdk7s383d4t34nv4_q89m0000gn/T/ipykernel_12753/3187933759.py:10: FutureWarning: The frame.append method is deprecated and will be removed from pandas in a future version. Use pandas.concat instead.\n",
      "  df = df.append(pd.read_html(html, header = 0)[0])\n",
      "/var/folders/nh/3q0vdk7s383d4t34nv4_q89m0000gn/T/ipykernel_12753/3187933759.py:10: FutureWarning: The frame.append method is deprecated and will be removed from pandas in a future version. Use pandas.concat instead.\n",
      "  df = df.append(pd.read_html(html, header = 0)[0])\n",
      "/var/folders/nh/3q0vdk7s383d4t34nv4_q89m0000gn/T/ipykernel_12753/3187933759.py:10: FutureWarning: The frame.append method is deprecated and will be removed from pandas in a future version. Use pandas.concat instead.\n",
      "  df = df.append(pd.read_html(html, header = 0)[0])\n",
      "/var/folders/nh/3q0vdk7s383d4t34nv4_q89m0000gn/T/ipykernel_12753/3187933759.py:10: FutureWarning: The frame.append method is deprecated and will be removed from pandas in a future version. Use pandas.concat instead.\n",
      "  df = df.append(pd.read_html(html, header = 0)[0])\n",
      "/var/folders/nh/3q0vdk7s383d4t34nv4_q89m0000gn/T/ipykernel_12753/3187933759.py:10: FutureWarning: The frame.append method is deprecated and will be removed from pandas in a future version. Use pandas.concat instead.\n",
      "  df = df.append(pd.read_html(html, header = 0)[0])\n",
      "/var/folders/nh/3q0vdk7s383d4t34nv4_q89m0000gn/T/ipykernel_12753/3187933759.py:10: FutureWarning: The frame.append method is deprecated and will be removed from pandas in a future version. Use pandas.concat instead.\n",
      "  df = df.append(pd.read_html(html, header = 0)[0])\n",
      "/var/folders/nh/3q0vdk7s383d4t34nv4_q89m0000gn/T/ipykernel_12753/3187933759.py:10: FutureWarning: The frame.append method is deprecated and will be removed from pandas in a future version. Use pandas.concat instead.\n",
      "  df = df.append(pd.read_html(html, header = 0)[0])\n",
      "/var/folders/nh/3q0vdk7s383d4t34nv4_q89m0000gn/T/ipykernel_12753/3187933759.py:10: FutureWarning: The frame.append method is deprecated and will be removed from pandas in a future version. Use pandas.concat instead.\n",
      "  df = df.append(pd.read_html(html, header = 0)[0])\n",
      "/var/folders/nh/3q0vdk7s383d4t34nv4_q89m0000gn/T/ipykernel_12753/3187933759.py:10: FutureWarning: The frame.append method is deprecated and will be removed from pandas in a future version. Use pandas.concat instead.\n",
      "  df = df.append(pd.read_html(html, header = 0)[0])\n",
      "/var/folders/nh/3q0vdk7s383d4t34nv4_q89m0000gn/T/ipykernel_12753/3187933759.py:10: FutureWarning: The frame.append method is deprecated and will be removed from pandas in a future version. Use pandas.concat instead.\n",
      "  df = df.append(pd.read_html(html, header = 0)[0])\n",
      "/var/folders/nh/3q0vdk7s383d4t34nv4_q89m0000gn/T/ipykernel_12753/3187933759.py:10: FutureWarning: The frame.append method is deprecated and will be removed from pandas in a future version. Use pandas.concat instead.\n",
      "  df = df.append(pd.read_html(html, header = 0)[0])\n"
     ]
    },
    {
     "name": "stderr",
     "output_type": "stream",
     "text": [
      "/var/folders/nh/3q0vdk7s383d4t34nv4_q89m0000gn/T/ipykernel_12753/3187933759.py:10: FutureWarning: The frame.append method is deprecated and will be removed from pandas in a future version. Use pandas.concat instead.\n",
      "  df = df.append(pd.read_html(html, header = 0)[0])\n",
      "/var/folders/nh/3q0vdk7s383d4t34nv4_q89m0000gn/T/ipykernel_12753/3187933759.py:10: FutureWarning: The frame.append method is deprecated and will be removed from pandas in a future version. Use pandas.concat instead.\n",
      "  df = df.append(pd.read_html(html, header = 0)[0])\n",
      "/var/folders/nh/3q0vdk7s383d4t34nv4_q89m0000gn/T/ipykernel_12753/3187933759.py:10: FutureWarning: The frame.append method is deprecated and will be removed from pandas in a future version. Use pandas.concat instead.\n",
      "  df = df.append(pd.read_html(html, header = 0)[0])\n",
      "/var/folders/nh/3q0vdk7s383d4t34nv4_q89m0000gn/T/ipykernel_12753/3187933759.py:10: FutureWarning: The frame.append method is deprecated and will be removed from pandas in a future version. Use pandas.concat instead.\n",
      "  df = df.append(pd.read_html(html, header = 0)[0])\n",
      "/var/folders/nh/3q0vdk7s383d4t34nv4_q89m0000gn/T/ipykernel_12753/3187933759.py:10: FutureWarning: The frame.append method is deprecated and will be removed from pandas in a future version. Use pandas.concat instead.\n",
      "  df = df.append(pd.read_html(html, header = 0)[0])\n",
      "/var/folders/nh/3q0vdk7s383d4t34nv4_q89m0000gn/T/ipykernel_12753/3187933759.py:10: FutureWarning: The frame.append method is deprecated and will be removed from pandas in a future version. Use pandas.concat instead.\n",
      "  df = df.append(pd.read_html(html, header = 0)[0])\n",
      "/var/folders/nh/3q0vdk7s383d4t34nv4_q89m0000gn/T/ipykernel_12753/3187933759.py:10: FutureWarning: The frame.append method is deprecated and will be removed from pandas in a future version. Use pandas.concat instead.\n",
      "  df = df.append(pd.read_html(html, header = 0)[0])\n",
      "/var/folders/nh/3q0vdk7s383d4t34nv4_q89m0000gn/T/ipykernel_12753/3187933759.py:10: FutureWarning: The frame.append method is deprecated and will be removed from pandas in a future version. Use pandas.concat instead.\n",
      "  df = df.append(pd.read_html(html, header = 0)[0])\n",
      "/var/folders/nh/3q0vdk7s383d4t34nv4_q89m0000gn/T/ipykernel_12753/3187933759.py:10: FutureWarning: The frame.append method is deprecated and will be removed from pandas in a future version. Use pandas.concat instead.\n",
      "  df = df.append(pd.read_html(html, header = 0)[0])\n",
      "/var/folders/nh/3q0vdk7s383d4t34nv4_q89m0000gn/T/ipykernel_12753/3187933759.py:10: FutureWarning: The frame.append method is deprecated and will be removed from pandas in a future version. Use pandas.concat instead.\n",
      "  df = df.append(pd.read_html(html, header = 0)[0])\n",
      "/var/folders/nh/3q0vdk7s383d4t34nv4_q89m0000gn/T/ipykernel_12753/3187933759.py:10: FutureWarning: The frame.append method is deprecated and will be removed from pandas in a future version. Use pandas.concat instead.\n",
      "  df = df.append(pd.read_html(html, header = 0)[0])\n",
      "/var/folders/nh/3q0vdk7s383d4t34nv4_q89m0000gn/T/ipykernel_12753/3187933759.py:10: FutureWarning: The frame.append method is deprecated and will be removed from pandas in a future version. Use pandas.concat instead.\n",
      "  df = df.append(pd.read_html(html, header = 0)[0])\n",
      "/var/folders/nh/3q0vdk7s383d4t34nv4_q89m0000gn/T/ipykernel_12753/3187933759.py:10: FutureWarning: The frame.append method is deprecated and will be removed from pandas in a future version. Use pandas.concat instead.\n",
      "  df = df.append(pd.read_html(html, header = 0)[0])\n",
      "/var/folders/nh/3q0vdk7s383d4t34nv4_q89m0000gn/T/ipykernel_12753/3187933759.py:10: FutureWarning: The frame.append method is deprecated and will be removed from pandas in a future version. Use pandas.concat instead.\n",
      "  df = df.append(pd.read_html(html, header = 0)[0])\n",
      "/var/folders/nh/3q0vdk7s383d4t34nv4_q89m0000gn/T/ipykernel_12753/3187933759.py:10: FutureWarning: The frame.append method is deprecated and will be removed from pandas in a future version. Use pandas.concat instead.\n",
      "  df = df.append(pd.read_html(html, header = 0)[0])\n",
      "/var/folders/nh/3q0vdk7s383d4t34nv4_q89m0000gn/T/ipykernel_12753/3187933759.py:10: FutureWarning: The frame.append method is deprecated and will be removed from pandas in a future version. Use pandas.concat instead.\n",
      "  df = df.append(pd.read_html(html, header = 0)[0])\n",
      "/var/folders/nh/3q0vdk7s383d4t34nv4_q89m0000gn/T/ipykernel_12753/3187933759.py:10: FutureWarning: The frame.append method is deprecated and will be removed from pandas in a future version. Use pandas.concat instead.\n",
      "  df = df.append(pd.read_html(html, header = 0)[0])\n",
      "/var/folders/nh/3q0vdk7s383d4t34nv4_q89m0000gn/T/ipykernel_12753/3187933759.py:10: FutureWarning: The frame.append method is deprecated and will be removed from pandas in a future version. Use pandas.concat instead.\n",
      "  df = df.append(pd.read_html(html, header = 0)[0])\n",
      "/var/folders/nh/3q0vdk7s383d4t34nv4_q89m0000gn/T/ipykernel_12753/3187933759.py:10: FutureWarning: The frame.append method is deprecated and will be removed from pandas in a future version. Use pandas.concat instead.\n",
      "  df = df.append(pd.read_html(html, header = 0)[0])\n",
      "/var/folders/nh/3q0vdk7s383d4t34nv4_q89m0000gn/T/ipykernel_12753/3187933759.py:10: FutureWarning: The frame.append method is deprecated and will be removed from pandas in a future version. Use pandas.concat instead.\n",
      "  df = df.append(pd.read_html(html, header = 0)[0])\n",
      "/var/folders/nh/3q0vdk7s383d4t34nv4_q89m0000gn/T/ipykernel_12753/3187933759.py:10: FutureWarning: The frame.append method is deprecated and will be removed from pandas in a future version. Use pandas.concat instead.\n",
      "  df = df.append(pd.read_html(html, header = 0)[0])\n",
      "/var/folders/nh/3q0vdk7s383d4t34nv4_q89m0000gn/T/ipykernel_12753/3187933759.py:10: FutureWarning: The frame.append method is deprecated and will be removed from pandas in a future version. Use pandas.concat instead.\n",
      "  df = df.append(pd.read_html(html, header = 0)[0])\n",
      "/var/folders/nh/3q0vdk7s383d4t34nv4_q89m0000gn/T/ipykernel_12753/3187933759.py:10: FutureWarning: The frame.append method is deprecated and will be removed from pandas in a future version. Use pandas.concat instead.\n",
      "  df = df.append(pd.read_html(html, header = 0)[0])\n",
      "/var/folders/nh/3q0vdk7s383d4t34nv4_q89m0000gn/T/ipykernel_12753/3187933759.py:10: FutureWarning: The frame.append method is deprecated and will be removed from pandas in a future version. Use pandas.concat instead.\n",
      "  df = df.append(pd.read_html(html, header = 0)[0])\n",
      "/var/folders/nh/3q0vdk7s383d4t34nv4_q89m0000gn/T/ipykernel_12753/3187933759.py:10: FutureWarning: The frame.append method is deprecated and will be removed from pandas in a future version. Use pandas.concat instead.\n",
      "  df = df.append(pd.read_html(html, header = 0)[0])\n",
      "/var/folders/nh/3q0vdk7s383d4t34nv4_q89m0000gn/T/ipykernel_12753/3187933759.py:10: FutureWarning: The frame.append method is deprecated and will be removed from pandas in a future version. Use pandas.concat instead.\n",
      "  df = df.append(pd.read_html(html, header = 0)[0])\n",
      "/var/folders/nh/3q0vdk7s383d4t34nv4_q89m0000gn/T/ipykernel_12753/3187933759.py:10: FutureWarning: The frame.append method is deprecated and will be removed from pandas in a future version. Use pandas.concat instead.\n",
      "  df = df.append(pd.read_html(html, header = 0)[0])\n",
      "/var/folders/nh/3q0vdk7s383d4t34nv4_q89m0000gn/T/ipykernel_12753/3187933759.py:10: FutureWarning: The frame.append method is deprecated and will be removed from pandas in a future version. Use pandas.concat instead.\n",
      "  df = df.append(pd.read_html(html, header = 0)[0])\n",
      "/var/folders/nh/3q0vdk7s383d4t34nv4_q89m0000gn/T/ipykernel_12753/3187933759.py:10: FutureWarning: The frame.append method is deprecated and will be removed from pandas in a future version. Use pandas.concat instead.\n",
      "  df = df.append(pd.read_html(html, header = 0)[0])\n",
      "/var/folders/nh/3q0vdk7s383d4t34nv4_q89m0000gn/T/ipykernel_12753/3187933759.py:10: FutureWarning: The frame.append method is deprecated and will be removed from pandas in a future version. Use pandas.concat instead.\n",
      "  df = df.append(pd.read_html(html, header = 0)[0])\n",
      "/var/folders/nh/3q0vdk7s383d4t34nv4_q89m0000gn/T/ipykernel_12753/3187933759.py:10: FutureWarning: The frame.append method is deprecated and will be removed from pandas in a future version. Use pandas.concat instead.\n",
      "  df = df.append(pd.read_html(html, header = 0)[0])\n"
     ]
    },
    {
     "name": "stderr",
     "output_type": "stream",
     "text": [
      "/var/folders/nh/3q0vdk7s383d4t34nv4_q89m0000gn/T/ipykernel_12753/3187933759.py:10: FutureWarning: The frame.append method is deprecated and will be removed from pandas in a future version. Use pandas.concat instead.\n",
      "  df = df.append(pd.read_html(html, header = 0)[0])\n",
      "/var/folders/nh/3q0vdk7s383d4t34nv4_q89m0000gn/T/ipykernel_12753/3187933759.py:10: FutureWarning: The frame.append method is deprecated and will be removed from pandas in a future version. Use pandas.concat instead.\n",
      "  df = df.append(pd.read_html(html, header = 0)[0])\n",
      "/var/folders/nh/3q0vdk7s383d4t34nv4_q89m0000gn/T/ipykernel_12753/3187933759.py:10: FutureWarning: The frame.append method is deprecated and will be removed from pandas in a future version. Use pandas.concat instead.\n",
      "  df = df.append(pd.read_html(html, header = 0)[0])\n",
      "/var/folders/nh/3q0vdk7s383d4t34nv4_q89m0000gn/T/ipykernel_12753/3187933759.py:10: FutureWarning: The frame.append method is deprecated and will be removed from pandas in a future version. Use pandas.concat instead.\n",
      "  df = df.append(pd.read_html(html, header = 0)[0])\n",
      "/var/folders/nh/3q0vdk7s383d4t34nv4_q89m0000gn/T/ipykernel_12753/3187933759.py:10: FutureWarning: The frame.append method is deprecated and will be removed from pandas in a future version. Use pandas.concat instead.\n",
      "  df = df.append(pd.read_html(html, header = 0)[0])\n",
      "/var/folders/nh/3q0vdk7s383d4t34nv4_q89m0000gn/T/ipykernel_12753/3187933759.py:10: FutureWarning: The frame.append method is deprecated and will be removed from pandas in a future version. Use pandas.concat instead.\n",
      "  df = df.append(pd.read_html(html, header = 0)[0])\n",
      "/var/folders/nh/3q0vdk7s383d4t34nv4_q89m0000gn/T/ipykernel_12753/3187933759.py:10: FutureWarning: The frame.append method is deprecated and will be removed from pandas in a future version. Use pandas.concat instead.\n",
      "  df = df.append(pd.read_html(html, header = 0)[0])\n",
      "/var/folders/nh/3q0vdk7s383d4t34nv4_q89m0000gn/T/ipykernel_12753/3187933759.py:10: FutureWarning: The frame.append method is deprecated and will be removed from pandas in a future version. Use pandas.concat instead.\n",
      "  df = df.append(pd.read_html(html, header = 0)[0])\n",
      "/var/folders/nh/3q0vdk7s383d4t34nv4_q89m0000gn/T/ipykernel_12753/3187933759.py:10: FutureWarning: The frame.append method is deprecated and will be removed from pandas in a future version. Use pandas.concat instead.\n",
      "  df = df.append(pd.read_html(html, header = 0)[0])\n",
      "/var/folders/nh/3q0vdk7s383d4t34nv4_q89m0000gn/T/ipykernel_12753/3187933759.py:10: FutureWarning: The frame.append method is deprecated and will be removed from pandas in a future version. Use pandas.concat instead.\n",
      "  df = df.append(pd.read_html(html, header = 0)[0])\n",
      "/var/folders/nh/3q0vdk7s383d4t34nv4_q89m0000gn/T/ipykernel_12753/3187933759.py:10: FutureWarning: The frame.append method is deprecated and will be removed from pandas in a future version. Use pandas.concat instead.\n",
      "  df = df.append(pd.read_html(html, header = 0)[0])\n",
      "/var/folders/nh/3q0vdk7s383d4t34nv4_q89m0000gn/T/ipykernel_12753/3187933759.py:10: FutureWarning: The frame.append method is deprecated and will be removed from pandas in a future version. Use pandas.concat instead.\n",
      "  df = df.append(pd.read_html(html, header = 0)[0])\n",
      "/var/folders/nh/3q0vdk7s383d4t34nv4_q89m0000gn/T/ipykernel_12753/3187933759.py:10: FutureWarning: The frame.append method is deprecated and will be removed from pandas in a future version. Use pandas.concat instead.\n",
      "  df = df.append(pd.read_html(html, header = 0)[0])\n",
      "/var/folders/nh/3q0vdk7s383d4t34nv4_q89m0000gn/T/ipykernel_12753/3187933759.py:10: FutureWarning: The frame.append method is deprecated and will be removed from pandas in a future version. Use pandas.concat instead.\n",
      "  df = df.append(pd.read_html(html, header = 0)[0])\n",
      "/var/folders/nh/3q0vdk7s383d4t34nv4_q89m0000gn/T/ipykernel_12753/3187933759.py:10: FutureWarning: The frame.append method is deprecated and will be removed from pandas in a future version. Use pandas.concat instead.\n",
      "  df = df.append(pd.read_html(html, header = 0)[0])\n",
      "/var/folders/nh/3q0vdk7s383d4t34nv4_q89m0000gn/T/ipykernel_12753/3187933759.py:10: FutureWarning: The frame.append method is deprecated and will be removed from pandas in a future version. Use pandas.concat instead.\n",
      "  df = df.append(pd.read_html(html, header = 0)[0])\n",
      "/var/folders/nh/3q0vdk7s383d4t34nv4_q89m0000gn/T/ipykernel_12753/3187933759.py:10: FutureWarning: The frame.append method is deprecated and will be removed from pandas in a future version. Use pandas.concat instead.\n",
      "  df = df.append(pd.read_html(html, header = 0)[0])\n",
      "/var/folders/nh/3q0vdk7s383d4t34nv4_q89m0000gn/T/ipykernel_12753/3187933759.py:10: FutureWarning: The frame.append method is deprecated and will be removed from pandas in a future version. Use pandas.concat instead.\n",
      "  df = df.append(pd.read_html(html, header = 0)[0])\n",
      "/var/folders/nh/3q0vdk7s383d4t34nv4_q89m0000gn/T/ipykernel_12753/3187933759.py:10: FutureWarning: The frame.append method is deprecated and will be removed from pandas in a future version. Use pandas.concat instead.\n",
      "  df = df.append(pd.read_html(html, header = 0)[0])\n",
      "/var/folders/nh/3q0vdk7s383d4t34nv4_q89m0000gn/T/ipykernel_12753/3187933759.py:10: FutureWarning: The frame.append method is deprecated and will be removed from pandas in a future version. Use pandas.concat instead.\n",
      "  df = df.append(pd.read_html(html, header = 0)[0])\n",
      "/var/folders/nh/3q0vdk7s383d4t34nv4_q89m0000gn/T/ipykernel_12753/3187933759.py:10: FutureWarning: The frame.append method is deprecated and will be removed from pandas in a future version. Use pandas.concat instead.\n",
      "  df = df.append(pd.read_html(html, header = 0)[0])\n",
      "/var/folders/nh/3q0vdk7s383d4t34nv4_q89m0000gn/T/ipykernel_12753/3187933759.py:10: FutureWarning: The frame.append method is deprecated and will be removed from pandas in a future version. Use pandas.concat instead.\n",
      "  df = df.append(pd.read_html(html, header = 0)[0])\n",
      "/var/folders/nh/3q0vdk7s383d4t34nv4_q89m0000gn/T/ipykernel_12753/3187933759.py:10: FutureWarning: The frame.append method is deprecated and will be removed from pandas in a future version. Use pandas.concat instead.\n",
      "  df = df.append(pd.read_html(html, header = 0)[0])\n",
      "/var/folders/nh/3q0vdk7s383d4t34nv4_q89m0000gn/T/ipykernel_12753/3187933759.py:10: FutureWarning: The frame.append method is deprecated and will be removed from pandas in a future version. Use pandas.concat instead.\n",
      "  df = df.append(pd.read_html(html, header = 0)[0])\n",
      "/var/folders/nh/3q0vdk7s383d4t34nv4_q89m0000gn/T/ipykernel_12753/3187933759.py:10: FutureWarning: The frame.append method is deprecated and will be removed from pandas in a future version. Use pandas.concat instead.\n",
      "  df = df.append(pd.read_html(html, header = 0)[0])\n",
      "/var/folders/nh/3q0vdk7s383d4t34nv4_q89m0000gn/T/ipykernel_12753/3187933759.py:10: FutureWarning: The frame.append method is deprecated and will be removed from pandas in a future version. Use pandas.concat instead.\n",
      "  df = df.append(pd.read_html(html, header = 0)[0])\n",
      "/var/folders/nh/3q0vdk7s383d4t34nv4_q89m0000gn/T/ipykernel_12753/3187933759.py:10: FutureWarning: The frame.append method is deprecated and will be removed from pandas in a future version. Use pandas.concat instead.\n",
      "  df = df.append(pd.read_html(html, header = 0)[0])\n",
      "/var/folders/nh/3q0vdk7s383d4t34nv4_q89m0000gn/T/ipykernel_12753/3187933759.py:10: FutureWarning: The frame.append method is deprecated and will be removed from pandas in a future version. Use pandas.concat instead.\n",
      "  df = df.append(pd.read_html(html, header = 0)[0])\n",
      "/var/folders/nh/3q0vdk7s383d4t34nv4_q89m0000gn/T/ipykernel_12753/3187933759.py:10: FutureWarning: The frame.append method is deprecated and will be removed from pandas in a future version. Use pandas.concat instead.\n",
      "  df = df.append(pd.read_html(html, header = 0)[0])\n",
      "/var/folders/nh/3q0vdk7s383d4t34nv4_q89m0000gn/T/ipykernel_12753/3187933759.py:10: FutureWarning: The frame.append method is deprecated and will be removed from pandas in a future version. Use pandas.concat instead.\n",
      "  df = df.append(pd.read_html(html, header = 0)[0])\n",
      "/var/folders/nh/3q0vdk7s383d4t34nv4_q89m0000gn/T/ipykernel_12753/3187933759.py:10: FutureWarning: The frame.append method is deprecated and will be removed from pandas in a future version. Use pandas.concat instead.\n",
      "  df = df.append(pd.read_html(html, header = 0)[0])\n",
      "/var/folders/nh/3q0vdk7s383d4t34nv4_q89m0000gn/T/ipykernel_12753/3187933759.py:10: FutureWarning: The frame.append method is deprecated and will be removed from pandas in a future version. Use pandas.concat instead.\n",
      "  df = df.append(pd.read_html(html, header = 0)[0])\n"
     ]
    },
    {
     "name": "stderr",
     "output_type": "stream",
     "text": [
      "/var/folders/nh/3q0vdk7s383d4t34nv4_q89m0000gn/T/ipykernel_12753/3187933759.py:10: FutureWarning: The frame.append method is deprecated and will be removed from pandas in a future version. Use pandas.concat instead.\n",
      "  df = df.append(pd.read_html(html, header = 0)[0])\n",
      "/var/folders/nh/3q0vdk7s383d4t34nv4_q89m0000gn/T/ipykernel_12753/3187933759.py:10: FutureWarning: The frame.append method is deprecated and will be removed from pandas in a future version. Use pandas.concat instead.\n",
      "  df = df.append(pd.read_html(html, header = 0)[0])\n",
      "/var/folders/nh/3q0vdk7s383d4t34nv4_q89m0000gn/T/ipykernel_12753/3187933759.py:10: FutureWarning: The frame.append method is deprecated and will be removed from pandas in a future version. Use pandas.concat instead.\n",
      "  df = df.append(pd.read_html(html, header = 0)[0])\n",
      "/var/folders/nh/3q0vdk7s383d4t34nv4_q89m0000gn/T/ipykernel_12753/3187933759.py:10: FutureWarning: The frame.append method is deprecated and will be removed from pandas in a future version. Use pandas.concat instead.\n",
      "  df = df.append(pd.read_html(html, header = 0)[0])\n",
      "/var/folders/nh/3q0vdk7s383d4t34nv4_q89m0000gn/T/ipykernel_12753/3187933759.py:10: FutureWarning: The frame.append method is deprecated and will be removed from pandas in a future version. Use pandas.concat instead.\n",
      "  df = df.append(pd.read_html(html, header = 0)[0])\n",
      "/var/folders/nh/3q0vdk7s383d4t34nv4_q89m0000gn/T/ipykernel_12753/3187933759.py:10: FutureWarning: The frame.append method is deprecated and will be removed from pandas in a future version. Use pandas.concat instead.\n",
      "  df = df.append(pd.read_html(html, header = 0)[0])\n",
      "/var/folders/nh/3q0vdk7s383d4t34nv4_q89m0000gn/T/ipykernel_12753/3187933759.py:10: FutureWarning: The frame.append method is deprecated and will be removed from pandas in a future version. Use pandas.concat instead.\n",
      "  df = df.append(pd.read_html(html, header = 0)[0])\n",
      "/var/folders/nh/3q0vdk7s383d4t34nv4_q89m0000gn/T/ipykernel_12753/3187933759.py:10: FutureWarning: The frame.append method is deprecated and will be removed from pandas in a future version. Use pandas.concat instead.\n",
      "  df = df.append(pd.read_html(html, header = 0)[0])\n",
      "/var/folders/nh/3q0vdk7s383d4t34nv4_q89m0000gn/T/ipykernel_12753/3187933759.py:10: FutureWarning: The frame.append method is deprecated and will be removed from pandas in a future version. Use pandas.concat instead.\n",
      "  df = df.append(pd.read_html(html, header = 0)[0])\n",
      "/var/folders/nh/3q0vdk7s383d4t34nv4_q89m0000gn/T/ipykernel_12753/3187933759.py:10: FutureWarning: The frame.append method is deprecated and will be removed from pandas in a future version. Use pandas.concat instead.\n",
      "  df = df.append(pd.read_html(html, header = 0)[0])\n",
      "/var/folders/nh/3q0vdk7s383d4t34nv4_q89m0000gn/T/ipykernel_12753/3187933759.py:10: FutureWarning: The frame.append method is deprecated and will be removed from pandas in a future version. Use pandas.concat instead.\n",
      "  df = df.append(pd.read_html(html, header = 0)[0])\n",
      "/var/folders/nh/3q0vdk7s383d4t34nv4_q89m0000gn/T/ipykernel_12753/3187933759.py:10: FutureWarning: The frame.append method is deprecated and will be removed from pandas in a future version. Use pandas.concat instead.\n",
      "  df = df.append(pd.read_html(html, header = 0)[0])\n",
      "/var/folders/nh/3q0vdk7s383d4t34nv4_q89m0000gn/T/ipykernel_12753/3187933759.py:10: FutureWarning: The frame.append method is deprecated and will be removed from pandas in a future version. Use pandas.concat instead.\n",
      "  df = df.append(pd.read_html(html, header = 0)[0])\n",
      "/var/folders/nh/3q0vdk7s383d4t34nv4_q89m0000gn/T/ipykernel_12753/3187933759.py:10: FutureWarning: The frame.append method is deprecated and will be removed from pandas in a future version. Use pandas.concat instead.\n",
      "  df = df.append(pd.read_html(html, header = 0)[0])\n",
      "/var/folders/nh/3q0vdk7s383d4t34nv4_q89m0000gn/T/ipykernel_12753/3187933759.py:10: FutureWarning: The frame.append method is deprecated and will be removed from pandas in a future version. Use pandas.concat instead.\n",
      "  df = df.append(pd.read_html(html, header = 0)[0])\n",
      "/var/folders/nh/3q0vdk7s383d4t34nv4_q89m0000gn/T/ipykernel_12753/3187933759.py:10: FutureWarning: The frame.append method is deprecated and will be removed from pandas in a future version. Use pandas.concat instead.\n",
      "  df = df.append(pd.read_html(html, header = 0)[0])\n",
      "/var/folders/nh/3q0vdk7s383d4t34nv4_q89m0000gn/T/ipykernel_12753/3187933759.py:10: FutureWarning: The frame.append method is deprecated and will be removed from pandas in a future version. Use pandas.concat instead.\n",
      "  df = df.append(pd.read_html(html, header = 0)[0])\n",
      "/var/folders/nh/3q0vdk7s383d4t34nv4_q89m0000gn/T/ipykernel_12753/3187933759.py:10: FutureWarning: The frame.append method is deprecated and will be removed from pandas in a future version. Use pandas.concat instead.\n",
      "  df = df.append(pd.read_html(html, header = 0)[0])\n",
      "/var/folders/nh/3q0vdk7s383d4t34nv4_q89m0000gn/T/ipykernel_12753/3187933759.py:10: FutureWarning: The frame.append method is deprecated and will be removed from pandas in a future version. Use pandas.concat instead.\n",
      "  df = df.append(pd.read_html(html, header = 0)[0])\n",
      "/var/folders/nh/3q0vdk7s383d4t34nv4_q89m0000gn/T/ipykernel_12753/3187933759.py:10: FutureWarning: The frame.append method is deprecated and will be removed from pandas in a future version. Use pandas.concat instead.\n",
      "  df = df.append(pd.read_html(html, header = 0)[0])\n",
      "/var/folders/nh/3q0vdk7s383d4t34nv4_q89m0000gn/T/ipykernel_12753/3187933759.py:10: FutureWarning: The frame.append method is deprecated and will be removed from pandas in a future version. Use pandas.concat instead.\n",
      "  df = df.append(pd.read_html(html, header = 0)[0])\n",
      "/var/folders/nh/3q0vdk7s383d4t34nv4_q89m0000gn/T/ipykernel_12753/3187933759.py:10: FutureWarning: The frame.append method is deprecated and will be removed from pandas in a future version. Use pandas.concat instead.\n",
      "  df = df.append(pd.read_html(html, header = 0)[0])\n",
      "/var/folders/nh/3q0vdk7s383d4t34nv4_q89m0000gn/T/ipykernel_12753/3187933759.py:10: FutureWarning: The frame.append method is deprecated and will be removed from pandas in a future version. Use pandas.concat instead.\n",
      "  df = df.append(pd.read_html(html, header = 0)[0])\n",
      "/var/folders/nh/3q0vdk7s383d4t34nv4_q89m0000gn/T/ipykernel_12753/3187933759.py:10: FutureWarning: The frame.append method is deprecated and will be removed from pandas in a future version. Use pandas.concat instead.\n",
      "  df = df.append(pd.read_html(html, header = 0)[0])\n",
      "/var/folders/nh/3q0vdk7s383d4t34nv4_q89m0000gn/T/ipykernel_12753/3187933759.py:10: FutureWarning: The frame.append method is deprecated and will be removed from pandas in a future version. Use pandas.concat instead.\n",
      "  df = df.append(pd.read_html(html, header = 0)[0])\n",
      "/var/folders/nh/3q0vdk7s383d4t34nv4_q89m0000gn/T/ipykernel_12753/3187933759.py:10: FutureWarning: The frame.append method is deprecated and will be removed from pandas in a future version. Use pandas.concat instead.\n",
      "  df = df.append(pd.read_html(html, header = 0)[0])\n",
      "/var/folders/nh/3q0vdk7s383d4t34nv4_q89m0000gn/T/ipykernel_12753/3187933759.py:10: FutureWarning: The frame.append method is deprecated and will be removed from pandas in a future version. Use pandas.concat instead.\n",
      "  df = df.append(pd.read_html(html, header = 0)[0])\n",
      "/var/folders/nh/3q0vdk7s383d4t34nv4_q89m0000gn/T/ipykernel_12753/3187933759.py:10: FutureWarning: The frame.append method is deprecated and will be removed from pandas in a future version. Use pandas.concat instead.\n",
      "  df = df.append(pd.read_html(html, header = 0)[0])\n",
      "/var/folders/nh/3q0vdk7s383d4t34nv4_q89m0000gn/T/ipykernel_12753/3187933759.py:10: FutureWarning: The frame.append method is deprecated and will be removed from pandas in a future version. Use pandas.concat instead.\n",
      "  df = df.append(pd.read_html(html, header = 0)[0])\n",
      "/var/folders/nh/3q0vdk7s383d4t34nv4_q89m0000gn/T/ipykernel_12753/3187933759.py:10: FutureWarning: The frame.append method is deprecated and will be removed from pandas in a future version. Use pandas.concat instead.\n",
      "  df = df.append(pd.read_html(html, header = 0)[0])\n",
      "/var/folders/nh/3q0vdk7s383d4t34nv4_q89m0000gn/T/ipykernel_12753/3187933759.py:10: FutureWarning: The frame.append method is deprecated and will be removed from pandas in a future version. Use pandas.concat instead.\n",
      "  df = df.append(pd.read_html(html, header = 0)[0])\n"
     ]
    },
    {
     "name": "stderr",
     "output_type": "stream",
     "text": [
      "/var/folders/nh/3q0vdk7s383d4t34nv4_q89m0000gn/T/ipykernel_12753/3187933759.py:10: FutureWarning: The frame.append method is deprecated and will be removed from pandas in a future version. Use pandas.concat instead.\n",
      "  df = df.append(pd.read_html(html, header = 0)[0])\n",
      "/var/folders/nh/3q0vdk7s383d4t34nv4_q89m0000gn/T/ipykernel_12753/3187933759.py:10: FutureWarning: The frame.append method is deprecated and will be removed from pandas in a future version. Use pandas.concat instead.\n",
      "  df = df.append(pd.read_html(html, header = 0)[0])\n",
      "/var/folders/nh/3q0vdk7s383d4t34nv4_q89m0000gn/T/ipykernel_12753/3187933759.py:10: FutureWarning: The frame.append method is deprecated and will be removed from pandas in a future version. Use pandas.concat instead.\n",
      "  df = df.append(pd.read_html(html, header = 0)[0])\n",
      "/var/folders/nh/3q0vdk7s383d4t34nv4_q89m0000gn/T/ipykernel_12753/3187933759.py:10: FutureWarning: The frame.append method is deprecated and will be removed from pandas in a future version. Use pandas.concat instead.\n",
      "  df = df.append(pd.read_html(html, header = 0)[0])\n",
      "/var/folders/nh/3q0vdk7s383d4t34nv4_q89m0000gn/T/ipykernel_12753/3187933759.py:10: FutureWarning: The frame.append method is deprecated and will be removed from pandas in a future version. Use pandas.concat instead.\n",
      "  df = df.append(pd.read_html(html, header = 0)[0])\n",
      "/var/folders/nh/3q0vdk7s383d4t34nv4_q89m0000gn/T/ipykernel_12753/3187933759.py:10: FutureWarning: The frame.append method is deprecated and will be removed from pandas in a future version. Use pandas.concat instead.\n",
      "  df = df.append(pd.read_html(html, header = 0)[0])\n",
      "/var/folders/nh/3q0vdk7s383d4t34nv4_q89m0000gn/T/ipykernel_12753/3187933759.py:10: FutureWarning: The frame.append method is deprecated and will be removed from pandas in a future version. Use pandas.concat instead.\n",
      "  df = df.append(pd.read_html(html, header = 0)[0])\n",
      "/var/folders/nh/3q0vdk7s383d4t34nv4_q89m0000gn/T/ipykernel_12753/3187933759.py:10: FutureWarning: The frame.append method is deprecated and will be removed from pandas in a future version. Use pandas.concat instead.\n",
      "  df = df.append(pd.read_html(html, header = 0)[0])\n",
      "/var/folders/nh/3q0vdk7s383d4t34nv4_q89m0000gn/T/ipykernel_12753/3187933759.py:10: FutureWarning: The frame.append method is deprecated and will be removed from pandas in a future version. Use pandas.concat instead.\n",
      "  df = df.append(pd.read_html(html, header = 0)[0])\n",
      "/var/folders/nh/3q0vdk7s383d4t34nv4_q89m0000gn/T/ipykernel_12753/3187933759.py:10: FutureWarning: The frame.append method is deprecated and will be removed from pandas in a future version. Use pandas.concat instead.\n",
      "  df = df.append(pd.read_html(html, header = 0)[0])\n",
      "/var/folders/nh/3q0vdk7s383d4t34nv4_q89m0000gn/T/ipykernel_12753/3187933759.py:10: FutureWarning: The frame.append method is deprecated and will be removed from pandas in a future version. Use pandas.concat instead.\n",
      "  df = df.append(pd.read_html(html, header = 0)[0])\n",
      "/var/folders/nh/3q0vdk7s383d4t34nv4_q89m0000gn/T/ipykernel_12753/3187933759.py:10: FutureWarning: The frame.append method is deprecated and will be removed from pandas in a future version. Use pandas.concat instead.\n",
      "  df = df.append(pd.read_html(html, header = 0)[0])\n",
      "/var/folders/nh/3q0vdk7s383d4t34nv4_q89m0000gn/T/ipykernel_12753/3187933759.py:10: FutureWarning: The frame.append method is deprecated and will be removed from pandas in a future version. Use pandas.concat instead.\n",
      "  df = df.append(pd.read_html(html, header = 0)[0])\n",
      "/var/folders/nh/3q0vdk7s383d4t34nv4_q89m0000gn/T/ipykernel_12753/3187933759.py:10: FutureWarning: The frame.append method is deprecated and will be removed from pandas in a future version. Use pandas.concat instead.\n",
      "  df = df.append(pd.read_html(html, header = 0)[0])\n",
      "/var/folders/nh/3q0vdk7s383d4t34nv4_q89m0000gn/T/ipykernel_12753/3187933759.py:10: FutureWarning: The frame.append method is deprecated and will be removed from pandas in a future version. Use pandas.concat instead.\n",
      "  df = df.append(pd.read_html(html, header = 0)[0])\n",
      "/var/folders/nh/3q0vdk7s383d4t34nv4_q89m0000gn/T/ipykernel_12753/3187933759.py:10: FutureWarning: The frame.append method is deprecated and will be removed from pandas in a future version. Use pandas.concat instead.\n",
      "  df = df.append(pd.read_html(html, header = 0)[0])\n",
      "/var/folders/nh/3q0vdk7s383d4t34nv4_q89m0000gn/T/ipykernel_12753/3187933759.py:10: FutureWarning: The frame.append method is deprecated and will be removed from pandas in a future version. Use pandas.concat instead.\n",
      "  df = df.append(pd.read_html(html, header = 0)[0])\n",
      "/var/folders/nh/3q0vdk7s383d4t34nv4_q89m0000gn/T/ipykernel_12753/3187933759.py:10: FutureWarning: The frame.append method is deprecated and will be removed from pandas in a future version. Use pandas.concat instead.\n",
      "  df = df.append(pd.read_html(html, header = 0)[0])\n",
      "/var/folders/nh/3q0vdk7s383d4t34nv4_q89m0000gn/T/ipykernel_12753/3187933759.py:10: FutureWarning: The frame.append method is deprecated and will be removed from pandas in a future version. Use pandas.concat instead.\n",
      "  df = df.append(pd.read_html(html, header = 0)[0])\n",
      "/var/folders/nh/3q0vdk7s383d4t34nv4_q89m0000gn/T/ipykernel_12753/3187933759.py:10: FutureWarning: The frame.append method is deprecated and will be removed from pandas in a future version. Use pandas.concat instead.\n",
      "  df = df.append(pd.read_html(html, header = 0)[0])\n",
      "/var/folders/nh/3q0vdk7s383d4t34nv4_q89m0000gn/T/ipykernel_12753/3187933759.py:10: FutureWarning: The frame.append method is deprecated and will be removed from pandas in a future version. Use pandas.concat instead.\n",
      "  df = df.append(pd.read_html(html, header = 0)[0])\n",
      "/var/folders/nh/3q0vdk7s383d4t34nv4_q89m0000gn/T/ipykernel_12753/3187933759.py:10: FutureWarning: The frame.append method is deprecated and will be removed from pandas in a future version. Use pandas.concat instead.\n",
      "  df = df.append(pd.read_html(html, header = 0)[0])\n",
      "/var/folders/nh/3q0vdk7s383d4t34nv4_q89m0000gn/T/ipykernel_12753/3187933759.py:10: FutureWarning: The frame.append method is deprecated and will be removed from pandas in a future version. Use pandas.concat instead.\n",
      "  df = df.append(pd.read_html(html, header = 0)[0])\n",
      "/var/folders/nh/3q0vdk7s383d4t34nv4_q89m0000gn/T/ipykernel_12753/3187933759.py:10: FutureWarning: The frame.append method is deprecated and will be removed from pandas in a future version. Use pandas.concat instead.\n",
      "  df = df.append(pd.read_html(html, header = 0)[0])\n",
      "/var/folders/nh/3q0vdk7s383d4t34nv4_q89m0000gn/T/ipykernel_12753/3187933759.py:10: FutureWarning: The frame.append method is deprecated and will be removed from pandas in a future version. Use pandas.concat instead.\n",
      "  df = df.append(pd.read_html(html, header = 0)[0])\n",
      "/var/folders/nh/3q0vdk7s383d4t34nv4_q89m0000gn/T/ipykernel_12753/3187933759.py:10: FutureWarning: The frame.append method is deprecated and will be removed from pandas in a future version. Use pandas.concat instead.\n",
      "  df = df.append(pd.read_html(html, header = 0)[0])\n",
      "/var/folders/nh/3q0vdk7s383d4t34nv4_q89m0000gn/T/ipykernel_12753/3187933759.py:10: FutureWarning: The frame.append method is deprecated and will be removed from pandas in a future version. Use pandas.concat instead.\n",
      "  df = df.append(pd.read_html(html, header = 0)[0])\n",
      "/var/folders/nh/3q0vdk7s383d4t34nv4_q89m0000gn/T/ipykernel_12753/3187933759.py:10: FutureWarning: The frame.append method is deprecated and will be removed from pandas in a future version. Use pandas.concat instead.\n",
      "  df = df.append(pd.read_html(html, header = 0)[0])\n",
      "/var/folders/nh/3q0vdk7s383d4t34nv4_q89m0000gn/T/ipykernel_12753/3187933759.py:10: FutureWarning: The frame.append method is deprecated and will be removed from pandas in a future version. Use pandas.concat instead.\n",
      "  df = df.append(pd.read_html(html, header = 0)[0])\n",
      "/var/folders/nh/3q0vdk7s383d4t34nv4_q89m0000gn/T/ipykernel_12753/3187933759.py:10: FutureWarning: The frame.append method is deprecated and will be removed from pandas in a future version. Use pandas.concat instead.\n",
      "  df = df.append(pd.read_html(html, header = 0)[0])\n",
      "/var/folders/nh/3q0vdk7s383d4t34nv4_q89m0000gn/T/ipykernel_12753/3187933759.py:10: FutureWarning: The frame.append method is deprecated and will be removed from pandas in a future version. Use pandas.concat instead.\n",
      "  df = df.append(pd.read_html(html, header = 0)[0])\n",
      "/var/folders/nh/3q0vdk7s383d4t34nv4_q89m0000gn/T/ipykernel_12753/3187933759.py:10: FutureWarning: The frame.append method is deprecated and will be removed from pandas in a future version. Use pandas.concat instead.\n",
      "  df = df.append(pd.read_html(html, header = 0)[0])\n",
      "/var/folders/nh/3q0vdk7s383d4t34nv4_q89m0000gn/T/ipykernel_12753/3187933759.py:10: FutureWarning: The frame.append method is deprecated and will be removed from pandas in a future version. Use pandas.concat instead.\n",
      "  df = df.append(pd.read_html(html, header = 0)[0])\n"
     ]
    },
    {
     "name": "stderr",
     "output_type": "stream",
     "text": [
      "/var/folders/nh/3q0vdk7s383d4t34nv4_q89m0000gn/T/ipykernel_12753/3187933759.py:10: FutureWarning: The frame.append method is deprecated and will be removed from pandas in a future version. Use pandas.concat instead.\n",
      "  df = df.append(pd.read_html(html, header = 0)[0])\n",
      "/var/folders/nh/3q0vdk7s383d4t34nv4_q89m0000gn/T/ipykernel_12753/3187933759.py:10: FutureWarning: The frame.append method is deprecated and will be removed from pandas in a future version. Use pandas.concat instead.\n",
      "  df = df.append(pd.read_html(html, header = 0)[0])\n",
      "/var/folders/nh/3q0vdk7s383d4t34nv4_q89m0000gn/T/ipykernel_12753/3187933759.py:10: FutureWarning: The frame.append method is deprecated and will be removed from pandas in a future version. Use pandas.concat instead.\n",
      "  df = df.append(pd.read_html(html, header = 0)[0])\n",
      "/var/folders/nh/3q0vdk7s383d4t34nv4_q89m0000gn/T/ipykernel_12753/3187933759.py:10: FutureWarning: The frame.append method is deprecated and will be removed from pandas in a future version. Use pandas.concat instead.\n",
      "  df = df.append(pd.read_html(html, header = 0)[0])\n",
      "/var/folders/nh/3q0vdk7s383d4t34nv4_q89m0000gn/T/ipykernel_12753/3187933759.py:10: FutureWarning: The frame.append method is deprecated and will be removed from pandas in a future version. Use pandas.concat instead.\n",
      "  df = df.append(pd.read_html(html, header = 0)[0])\n",
      "/var/folders/nh/3q0vdk7s383d4t34nv4_q89m0000gn/T/ipykernel_12753/3187933759.py:10: FutureWarning: The frame.append method is deprecated and will be removed from pandas in a future version. Use pandas.concat instead.\n",
      "  df = df.append(pd.read_html(html, header = 0)[0])\n",
      "/var/folders/nh/3q0vdk7s383d4t34nv4_q89m0000gn/T/ipykernel_12753/3187933759.py:10: FutureWarning: The frame.append method is deprecated and will be removed from pandas in a future version. Use pandas.concat instead.\n",
      "  df = df.append(pd.read_html(html, header = 0)[0])\n",
      "/var/folders/nh/3q0vdk7s383d4t34nv4_q89m0000gn/T/ipykernel_12753/3187933759.py:10: FutureWarning: The frame.append method is deprecated and will be removed from pandas in a future version. Use pandas.concat instead.\n",
      "  df = df.append(pd.read_html(html, header = 0)[0])\n",
      "/var/folders/nh/3q0vdk7s383d4t34nv4_q89m0000gn/T/ipykernel_12753/3187933759.py:10: FutureWarning: The frame.append method is deprecated and will be removed from pandas in a future version. Use pandas.concat instead.\n",
      "  df = df.append(pd.read_html(html, header = 0)[0])\n",
      "/var/folders/nh/3q0vdk7s383d4t34nv4_q89m0000gn/T/ipykernel_12753/3187933759.py:10: FutureWarning: The frame.append method is deprecated and will be removed from pandas in a future version. Use pandas.concat instead.\n",
      "  df = df.append(pd.read_html(html, header = 0)[0])\n",
      "/var/folders/nh/3q0vdk7s383d4t34nv4_q89m0000gn/T/ipykernel_12753/3187933759.py:10: FutureWarning: The frame.append method is deprecated and will be removed from pandas in a future version. Use pandas.concat instead.\n",
      "  df = df.append(pd.read_html(html, header = 0)[0])\n",
      "/var/folders/nh/3q0vdk7s383d4t34nv4_q89m0000gn/T/ipykernel_12753/3187933759.py:10: FutureWarning: The frame.append method is deprecated and will be removed from pandas in a future version. Use pandas.concat instead.\n",
      "  df = df.append(pd.read_html(html, header = 0)[0])\n",
      "/var/folders/nh/3q0vdk7s383d4t34nv4_q89m0000gn/T/ipykernel_12753/3187933759.py:10: FutureWarning: The frame.append method is deprecated and will be removed from pandas in a future version. Use pandas.concat instead.\n",
      "  df = df.append(pd.read_html(html, header = 0)[0])\n",
      "/var/folders/nh/3q0vdk7s383d4t34nv4_q89m0000gn/T/ipykernel_12753/3187933759.py:10: FutureWarning: The frame.append method is deprecated and will be removed from pandas in a future version. Use pandas.concat instead.\n",
      "  df = df.append(pd.read_html(html, header = 0)[0])\n",
      "/var/folders/nh/3q0vdk7s383d4t34nv4_q89m0000gn/T/ipykernel_12753/3187933759.py:10: FutureWarning: The frame.append method is deprecated and will be removed from pandas in a future version. Use pandas.concat instead.\n",
      "  df = df.append(pd.read_html(html, header = 0)[0])\n",
      "/var/folders/nh/3q0vdk7s383d4t34nv4_q89m0000gn/T/ipykernel_12753/3187933759.py:10: FutureWarning: The frame.append method is deprecated and will be removed from pandas in a future version. Use pandas.concat instead.\n",
      "  df = df.append(pd.read_html(html, header = 0)[0])\n",
      "/var/folders/nh/3q0vdk7s383d4t34nv4_q89m0000gn/T/ipykernel_12753/3187933759.py:10: FutureWarning: The frame.append method is deprecated and will be removed from pandas in a future version. Use pandas.concat instead.\n",
      "  df = df.append(pd.read_html(html, header = 0)[0])\n",
      "/var/folders/nh/3q0vdk7s383d4t34nv4_q89m0000gn/T/ipykernel_12753/3187933759.py:10: FutureWarning: The frame.append method is deprecated and will be removed from pandas in a future version. Use pandas.concat instead.\n",
      "  df = df.append(pd.read_html(html, header = 0)[0])\n",
      "/var/folders/nh/3q0vdk7s383d4t34nv4_q89m0000gn/T/ipykernel_12753/3187933759.py:10: FutureWarning: The frame.append method is deprecated and will be removed from pandas in a future version. Use pandas.concat instead.\n",
      "  df = df.append(pd.read_html(html, header = 0)[0])\n",
      "/var/folders/nh/3q0vdk7s383d4t34nv4_q89m0000gn/T/ipykernel_12753/3187933759.py:10: FutureWarning: The frame.append method is deprecated and will be removed from pandas in a future version. Use pandas.concat instead.\n",
      "  df = df.append(pd.read_html(html, header = 0)[0])\n",
      "/var/folders/nh/3q0vdk7s383d4t34nv4_q89m0000gn/T/ipykernel_12753/3187933759.py:10: FutureWarning: The frame.append method is deprecated and will be removed from pandas in a future version. Use pandas.concat instead.\n",
      "  df = df.append(pd.read_html(html, header = 0)[0])\n",
      "/var/folders/nh/3q0vdk7s383d4t34nv4_q89m0000gn/T/ipykernel_12753/3187933759.py:10: FutureWarning: The frame.append method is deprecated and will be removed from pandas in a future version. Use pandas.concat instead.\n",
      "  df = df.append(pd.read_html(html, header = 0)[0])\n",
      "/var/folders/nh/3q0vdk7s383d4t34nv4_q89m0000gn/T/ipykernel_12753/3187933759.py:10: FutureWarning: The frame.append method is deprecated and will be removed from pandas in a future version. Use pandas.concat instead.\n",
      "  df = df.append(pd.read_html(html, header = 0)[0])\n",
      "/var/folders/nh/3q0vdk7s383d4t34nv4_q89m0000gn/T/ipykernel_12753/3187933759.py:10: FutureWarning: The frame.append method is deprecated and will be removed from pandas in a future version. Use pandas.concat instead.\n",
      "  df = df.append(pd.read_html(html, header = 0)[0])\n",
      "/var/folders/nh/3q0vdk7s383d4t34nv4_q89m0000gn/T/ipykernel_12753/3187933759.py:10: FutureWarning: The frame.append method is deprecated and will be removed from pandas in a future version. Use pandas.concat instead.\n",
      "  df = df.append(pd.read_html(html, header = 0)[0])\n",
      "/var/folders/nh/3q0vdk7s383d4t34nv4_q89m0000gn/T/ipykernel_12753/3187933759.py:10: FutureWarning: The frame.append method is deprecated and will be removed from pandas in a future version. Use pandas.concat instead.\n",
      "  df = df.append(pd.read_html(html, header = 0)[0])\n",
      "/var/folders/nh/3q0vdk7s383d4t34nv4_q89m0000gn/T/ipykernel_12753/3187933759.py:10: FutureWarning: The frame.append method is deprecated and will be removed from pandas in a future version. Use pandas.concat instead.\n",
      "  df = df.append(pd.read_html(html, header = 0)[0])\n",
      "/var/folders/nh/3q0vdk7s383d4t34nv4_q89m0000gn/T/ipykernel_12753/3187933759.py:10: FutureWarning: The frame.append method is deprecated and will be removed from pandas in a future version. Use pandas.concat instead.\n",
      "  df = df.append(pd.read_html(html, header = 0)[0])\n",
      "/var/folders/nh/3q0vdk7s383d4t34nv4_q89m0000gn/T/ipykernel_12753/3187933759.py:10: FutureWarning: The frame.append method is deprecated and will be removed from pandas in a future version. Use pandas.concat instead.\n",
      "  df = df.append(pd.read_html(html, header = 0)[0])\n",
      "/var/folders/nh/3q0vdk7s383d4t34nv4_q89m0000gn/T/ipykernel_12753/3187933759.py:10: FutureWarning: The frame.append method is deprecated and will be removed from pandas in a future version. Use pandas.concat instead.\n",
      "  df = df.append(pd.read_html(html, header = 0)[0])\n",
      "/var/folders/nh/3q0vdk7s383d4t34nv4_q89m0000gn/T/ipykernel_12753/3187933759.py:10: FutureWarning: The frame.append method is deprecated and will be removed from pandas in a future version. Use pandas.concat instead.\n",
      "  df = df.append(pd.read_html(html, header = 0)[0])\n",
      "/var/folders/nh/3q0vdk7s383d4t34nv4_q89m0000gn/T/ipykernel_12753/3187933759.py:10: FutureWarning: The frame.append method is deprecated and will be removed from pandas in a future version. Use pandas.concat instead.\n",
      "  df = df.append(pd.read_html(html, header = 0)[0])\n",
      "/var/folders/nh/3q0vdk7s383d4t34nv4_q89m0000gn/T/ipykernel_12753/3187933759.py:10: FutureWarning: The frame.append method is deprecated and will be removed from pandas in a future version. Use pandas.concat instead.\n",
      "  df = df.append(pd.read_html(html, header = 0)[0])\n"
     ]
    },
    {
     "name": "stderr",
     "output_type": "stream",
     "text": [
      "/var/folders/nh/3q0vdk7s383d4t34nv4_q89m0000gn/T/ipykernel_12753/3187933759.py:10: FutureWarning: The frame.append method is deprecated and will be removed from pandas in a future version. Use pandas.concat instead.\n",
      "  df = df.append(pd.read_html(html, header = 0)[0])\n",
      "/var/folders/nh/3q0vdk7s383d4t34nv4_q89m0000gn/T/ipykernel_12753/3187933759.py:10: FutureWarning: The frame.append method is deprecated and will be removed from pandas in a future version. Use pandas.concat instead.\n",
      "  df = df.append(pd.read_html(html, header = 0)[0])\n",
      "/var/folders/nh/3q0vdk7s383d4t34nv4_q89m0000gn/T/ipykernel_12753/3187933759.py:10: FutureWarning: The frame.append method is deprecated and will be removed from pandas in a future version. Use pandas.concat instead.\n",
      "  df = df.append(pd.read_html(html, header = 0)[0])\n",
      "/var/folders/nh/3q0vdk7s383d4t34nv4_q89m0000gn/T/ipykernel_12753/3187933759.py:10: FutureWarning: The frame.append method is deprecated and will be removed from pandas in a future version. Use pandas.concat instead.\n",
      "  df = df.append(pd.read_html(html, header = 0)[0])\n",
      "/var/folders/nh/3q0vdk7s383d4t34nv4_q89m0000gn/T/ipykernel_12753/3187933759.py:10: FutureWarning: The frame.append method is deprecated and will be removed from pandas in a future version. Use pandas.concat instead.\n",
      "  df = df.append(pd.read_html(html, header = 0)[0])\n",
      "/var/folders/nh/3q0vdk7s383d4t34nv4_q89m0000gn/T/ipykernel_12753/3187933759.py:10: FutureWarning: The frame.append method is deprecated and will be removed from pandas in a future version. Use pandas.concat instead.\n",
      "  df = df.append(pd.read_html(html, header = 0)[0])\n",
      "/var/folders/nh/3q0vdk7s383d4t34nv4_q89m0000gn/T/ipykernel_12753/3187933759.py:10: FutureWarning: The frame.append method is deprecated and will be removed from pandas in a future version. Use pandas.concat instead.\n",
      "  df = df.append(pd.read_html(html, header = 0)[0])\n",
      "/var/folders/nh/3q0vdk7s383d4t34nv4_q89m0000gn/T/ipykernel_12753/3187933759.py:10: FutureWarning: The frame.append method is deprecated and will be removed from pandas in a future version. Use pandas.concat instead.\n",
      "  df = df.append(pd.read_html(html, header = 0)[0])\n",
      "/var/folders/nh/3q0vdk7s383d4t34nv4_q89m0000gn/T/ipykernel_12753/3187933759.py:10: FutureWarning: The frame.append method is deprecated and will be removed from pandas in a future version. Use pandas.concat instead.\n",
      "  df = df.append(pd.read_html(html, header = 0)[0])\n",
      "/var/folders/nh/3q0vdk7s383d4t34nv4_q89m0000gn/T/ipykernel_12753/3187933759.py:10: FutureWarning: The frame.append method is deprecated and will be removed from pandas in a future version. Use pandas.concat instead.\n",
      "  df = df.append(pd.read_html(html, header = 0)[0])\n",
      "/var/folders/nh/3q0vdk7s383d4t34nv4_q89m0000gn/T/ipykernel_12753/3187933759.py:10: FutureWarning: The frame.append method is deprecated and will be removed from pandas in a future version. Use pandas.concat instead.\n",
      "  df = df.append(pd.read_html(html, header = 0)[0])\n",
      "/var/folders/nh/3q0vdk7s383d4t34nv4_q89m0000gn/T/ipykernel_12753/3187933759.py:10: FutureWarning: The frame.append method is deprecated and will be removed from pandas in a future version. Use pandas.concat instead.\n",
      "  df = df.append(pd.read_html(html, header = 0)[0])\n",
      "/var/folders/nh/3q0vdk7s383d4t34nv4_q89m0000gn/T/ipykernel_12753/3187933759.py:10: FutureWarning: The frame.append method is deprecated and will be removed from pandas in a future version. Use pandas.concat instead.\n",
      "  df = df.append(pd.read_html(html, header = 0)[0])\n",
      "/var/folders/nh/3q0vdk7s383d4t34nv4_q89m0000gn/T/ipykernel_12753/3187933759.py:10: FutureWarning: The frame.append method is deprecated and will be removed from pandas in a future version. Use pandas.concat instead.\n",
      "  df = df.append(pd.read_html(html, header = 0)[0])\n",
      "/var/folders/nh/3q0vdk7s383d4t34nv4_q89m0000gn/T/ipykernel_12753/3187933759.py:10: FutureWarning: The frame.append method is deprecated and will be removed from pandas in a future version. Use pandas.concat instead.\n",
      "  df = df.append(pd.read_html(html, header = 0)[0])\n",
      "/var/folders/nh/3q0vdk7s383d4t34nv4_q89m0000gn/T/ipykernel_12753/3187933759.py:10: FutureWarning: The frame.append method is deprecated and will be removed from pandas in a future version. Use pandas.concat instead.\n",
      "  df = df.append(pd.read_html(html, header = 0)[0])\n",
      "/var/folders/nh/3q0vdk7s383d4t34nv4_q89m0000gn/T/ipykernel_12753/3187933759.py:10: FutureWarning: The frame.append method is deprecated and will be removed from pandas in a future version. Use pandas.concat instead.\n",
      "  df = df.append(pd.read_html(html, header = 0)[0])\n",
      "/var/folders/nh/3q0vdk7s383d4t34nv4_q89m0000gn/T/ipykernel_12753/3187933759.py:10: FutureWarning: The frame.append method is deprecated and will be removed from pandas in a future version. Use pandas.concat instead.\n",
      "  df = df.append(pd.read_html(html, header = 0)[0])\n",
      "/var/folders/nh/3q0vdk7s383d4t34nv4_q89m0000gn/T/ipykernel_12753/3187933759.py:10: FutureWarning: The frame.append method is deprecated and will be removed from pandas in a future version. Use pandas.concat instead.\n",
      "  df = df.append(pd.read_html(html, header = 0)[0])\n",
      "/var/folders/nh/3q0vdk7s383d4t34nv4_q89m0000gn/T/ipykernel_12753/3187933759.py:10: FutureWarning: The frame.append method is deprecated and will be removed from pandas in a future version. Use pandas.concat instead.\n",
      "  df = df.append(pd.read_html(html, header = 0)[0])\n",
      "/var/folders/nh/3q0vdk7s383d4t34nv4_q89m0000gn/T/ipykernel_12753/3187933759.py:10: FutureWarning: The frame.append method is deprecated and will be removed from pandas in a future version. Use pandas.concat instead.\n",
      "  df = df.append(pd.read_html(html, header = 0)[0])\n",
      "/var/folders/nh/3q0vdk7s383d4t34nv4_q89m0000gn/T/ipykernel_12753/3187933759.py:10: FutureWarning: The frame.append method is deprecated and will be removed from pandas in a future version. Use pandas.concat instead.\n",
      "  df = df.append(pd.read_html(html, header = 0)[0])\n",
      "/var/folders/nh/3q0vdk7s383d4t34nv4_q89m0000gn/T/ipykernel_12753/3187933759.py:10: FutureWarning: The frame.append method is deprecated and will be removed from pandas in a future version. Use pandas.concat instead.\n",
      "  df = df.append(pd.read_html(html, header = 0)[0])\n",
      "/var/folders/nh/3q0vdk7s383d4t34nv4_q89m0000gn/T/ipykernel_12753/3187933759.py:10: FutureWarning: The frame.append method is deprecated and will be removed from pandas in a future version. Use pandas.concat instead.\n",
      "  df = df.append(pd.read_html(html, header = 0)[0])\n",
      "/var/folders/nh/3q0vdk7s383d4t34nv4_q89m0000gn/T/ipykernel_12753/3187933759.py:10: FutureWarning: The frame.append method is deprecated and will be removed from pandas in a future version. Use pandas.concat instead.\n",
      "  df = df.append(pd.read_html(html, header = 0)[0])\n",
      "/var/folders/nh/3q0vdk7s383d4t34nv4_q89m0000gn/T/ipykernel_12753/3187933759.py:10: FutureWarning: The frame.append method is deprecated and will be removed from pandas in a future version. Use pandas.concat instead.\n",
      "  df = df.append(pd.read_html(html, header = 0)[0])\n",
      "/var/folders/nh/3q0vdk7s383d4t34nv4_q89m0000gn/T/ipykernel_12753/3187933759.py:10: FutureWarning: The frame.append method is deprecated and will be removed from pandas in a future version. Use pandas.concat instead.\n",
      "  df = df.append(pd.read_html(html, header = 0)[0])\n",
      "/var/folders/nh/3q0vdk7s383d4t34nv4_q89m0000gn/T/ipykernel_12753/3187933759.py:10: FutureWarning: The frame.append method is deprecated and will be removed from pandas in a future version. Use pandas.concat instead.\n",
      "  df = df.append(pd.read_html(html, header = 0)[0])\n",
      "/var/folders/nh/3q0vdk7s383d4t34nv4_q89m0000gn/T/ipykernel_12753/3187933759.py:10: FutureWarning: The frame.append method is deprecated and will be removed from pandas in a future version. Use pandas.concat instead.\n",
      "  df = df.append(pd.read_html(html, header = 0)[0])\n",
      "/var/folders/nh/3q0vdk7s383d4t34nv4_q89m0000gn/T/ipykernel_12753/3187933759.py:10: FutureWarning: The frame.append method is deprecated and will be removed from pandas in a future version. Use pandas.concat instead.\n",
      "  df = df.append(pd.read_html(html, header = 0)[0])\n",
      "/var/folders/nh/3q0vdk7s383d4t34nv4_q89m0000gn/T/ipykernel_12753/3187933759.py:10: FutureWarning: The frame.append method is deprecated and will be removed from pandas in a future version. Use pandas.concat instead.\n",
      "  df = df.append(pd.read_html(html, header = 0)[0])\n",
      "/var/folders/nh/3q0vdk7s383d4t34nv4_q89m0000gn/T/ipykernel_12753/3187933759.py:10: FutureWarning: The frame.append method is deprecated and will be removed from pandas in a future version. Use pandas.concat instead.\n",
      "  df = df.append(pd.read_html(html, header = 0)[0])\n",
      "/var/folders/nh/3q0vdk7s383d4t34nv4_q89m0000gn/T/ipykernel_12753/3187933759.py:10: FutureWarning: The frame.append method is deprecated and will be removed from pandas in a future version. Use pandas.concat instead.\n",
      "  df = df.append(pd.read_html(html, header = 0)[0])\n"
     ]
    },
    {
     "name": "stderr",
     "output_type": "stream",
     "text": [
      "/var/folders/nh/3q0vdk7s383d4t34nv4_q89m0000gn/T/ipykernel_12753/3187933759.py:10: FutureWarning: The frame.append method is deprecated and will be removed from pandas in a future version. Use pandas.concat instead.\n",
      "  df = df.append(pd.read_html(html, header = 0)[0])\n",
      "/var/folders/nh/3q0vdk7s383d4t34nv4_q89m0000gn/T/ipykernel_12753/3187933759.py:10: FutureWarning: The frame.append method is deprecated and will be removed from pandas in a future version. Use pandas.concat instead.\n",
      "  df = df.append(pd.read_html(html, header = 0)[0])\n",
      "/var/folders/nh/3q0vdk7s383d4t34nv4_q89m0000gn/T/ipykernel_12753/3187933759.py:10: FutureWarning: The frame.append method is deprecated and will be removed from pandas in a future version. Use pandas.concat instead.\n",
      "  df = df.append(pd.read_html(html, header = 0)[0])\n",
      "/var/folders/nh/3q0vdk7s383d4t34nv4_q89m0000gn/T/ipykernel_12753/3187933759.py:10: FutureWarning: The frame.append method is deprecated and will be removed from pandas in a future version. Use pandas.concat instead.\n",
      "  df = df.append(pd.read_html(html, header = 0)[0])\n",
      "/var/folders/nh/3q0vdk7s383d4t34nv4_q89m0000gn/T/ipykernel_12753/3187933759.py:10: FutureWarning: The frame.append method is deprecated and will be removed from pandas in a future version. Use pandas.concat instead.\n",
      "  df = df.append(pd.read_html(html, header = 0)[0])\n",
      "/var/folders/nh/3q0vdk7s383d4t34nv4_q89m0000gn/T/ipykernel_12753/3187933759.py:10: FutureWarning: The frame.append method is deprecated and will be removed from pandas in a future version. Use pandas.concat instead.\n",
      "  df = df.append(pd.read_html(html, header = 0)[0])\n",
      "/var/folders/nh/3q0vdk7s383d4t34nv4_q89m0000gn/T/ipykernel_12753/3187933759.py:10: FutureWarning: The frame.append method is deprecated and will be removed from pandas in a future version. Use pandas.concat instead.\n",
      "  df = df.append(pd.read_html(html, header = 0)[0])\n",
      "/var/folders/nh/3q0vdk7s383d4t34nv4_q89m0000gn/T/ipykernel_12753/3187933759.py:10: FutureWarning: The frame.append method is deprecated and will be removed from pandas in a future version. Use pandas.concat instead.\n",
      "  df = df.append(pd.read_html(html, header = 0)[0])\n",
      "/var/folders/nh/3q0vdk7s383d4t34nv4_q89m0000gn/T/ipykernel_12753/3187933759.py:10: FutureWarning: The frame.append method is deprecated and will be removed from pandas in a future version. Use pandas.concat instead.\n",
      "  df = df.append(pd.read_html(html, header = 0)[0])\n",
      "/var/folders/nh/3q0vdk7s383d4t34nv4_q89m0000gn/T/ipykernel_12753/3187933759.py:10: FutureWarning: The frame.append method is deprecated and will be removed from pandas in a future version. Use pandas.concat instead.\n",
      "  df = df.append(pd.read_html(html, header = 0)[0])\n",
      "/var/folders/nh/3q0vdk7s383d4t34nv4_q89m0000gn/T/ipykernel_12753/3187933759.py:10: FutureWarning: The frame.append method is deprecated and will be removed from pandas in a future version. Use pandas.concat instead.\n",
      "  df = df.append(pd.read_html(html, header = 0)[0])\n",
      "/var/folders/nh/3q0vdk7s383d4t34nv4_q89m0000gn/T/ipykernel_12753/3187933759.py:10: FutureWarning: The frame.append method is deprecated and will be removed from pandas in a future version. Use pandas.concat instead.\n",
      "  df = df.append(pd.read_html(html, header = 0)[0])\n",
      "/var/folders/nh/3q0vdk7s383d4t34nv4_q89m0000gn/T/ipykernel_12753/3187933759.py:10: FutureWarning: The frame.append method is deprecated and will be removed from pandas in a future version. Use pandas.concat instead.\n",
      "  df = df.append(pd.read_html(html, header = 0)[0])\n",
      "/var/folders/nh/3q0vdk7s383d4t34nv4_q89m0000gn/T/ipykernel_12753/3187933759.py:10: FutureWarning: The frame.append method is deprecated and will be removed from pandas in a future version. Use pandas.concat instead.\n",
      "  df = df.append(pd.read_html(html, header = 0)[0])\n",
      "/var/folders/nh/3q0vdk7s383d4t34nv4_q89m0000gn/T/ipykernel_12753/3187933759.py:10: FutureWarning: The frame.append method is deprecated and will be removed from pandas in a future version. Use pandas.concat instead.\n",
      "  df = df.append(pd.read_html(html, header = 0)[0])\n",
      "/var/folders/nh/3q0vdk7s383d4t34nv4_q89m0000gn/T/ipykernel_12753/3187933759.py:10: FutureWarning: The frame.append method is deprecated and will be removed from pandas in a future version. Use pandas.concat instead.\n",
      "  df = df.append(pd.read_html(html, header = 0)[0])\n"
     ]
    },
    {
     "data": {
      "text/html": [
       "<div>\n",
       "<style scoped>\n",
       "    .dataframe tbody tr th:only-of-type {\n",
       "        vertical-align: middle;\n",
       "    }\n",
       "\n",
       "    .dataframe tbody tr th {\n",
       "        vertical-align: top;\n",
       "    }\n",
       "\n",
       "    .dataframe thead th {\n",
       "        text-align: right;\n",
       "    }\n",
       "</style>\n",
       "<table border=\"1\" class=\"dataframe\">\n",
       "  <thead>\n",
       "    <tr style=\"text-align: right;\">\n",
       "      <th></th>\n",
       "      <th>날짜</th>\n",
       "      <th>종가</th>\n",
       "      <th>전일비</th>\n",
       "      <th>시가</th>\n",
       "      <th>고가</th>\n",
       "      <th>저가</th>\n",
       "      <th>거래량</th>\n",
       "    </tr>\n",
       "  </thead>\n",
       "  <tbody>\n",
       "    <tr>\n",
       "      <th>1</th>\n",
       "      <td>2023.01.25</td>\n",
       "      <td>164500.0</td>\n",
       "      <td>2000.0</td>\n",
       "      <td>163000.0</td>\n",
       "      <td>165300.0</td>\n",
       "      <td>163000.0</td>\n",
       "      <td>199228.0</td>\n",
       "    </tr>\n",
       "    <tr>\n",
       "      <th>2</th>\n",
       "      <td>2023.01.20</td>\n",
       "      <td>162500.0</td>\n",
       "      <td>1500.0</td>\n",
       "      <td>163500.0</td>\n",
       "      <td>164000.0</td>\n",
       "      <td>161500.0</td>\n",
       "      <td>242051.0</td>\n",
       "    </tr>\n",
       "    <tr>\n",
       "      <th>3</th>\n",
       "      <td>2023.01.19</td>\n",
       "      <td>164000.0</td>\n",
       "      <td>0.0</td>\n",
       "      <td>162500.0</td>\n",
       "      <td>166000.0</td>\n",
       "      <td>162000.0</td>\n",
       "      <td>195569.0</td>\n",
       "    </tr>\n",
       "    <tr>\n",
       "      <th>4</th>\n",
       "      <td>2023.01.18</td>\n",
       "      <td>164000.0</td>\n",
       "      <td>500.0</td>\n",
       "      <td>163500.0</td>\n",
       "      <td>164500.0</td>\n",
       "      <td>162000.0</td>\n",
       "      <td>211709.0</td>\n",
       "    </tr>\n",
       "    <tr>\n",
       "      <th>5</th>\n",
       "      <td>2023.01.17</td>\n",
       "      <td>163500.0</td>\n",
       "      <td>4500.0</td>\n",
       "      <td>168000.0</td>\n",
       "      <td>168500.0</td>\n",
       "      <td>163000.0</td>\n",
       "      <td>330668.0</td>\n",
       "    </tr>\n",
       "    <tr>\n",
       "      <th>...</th>\n",
       "      <td>...</td>\n",
       "      <td>...</td>\n",
       "      <td>...</td>\n",
       "      <td>...</td>\n",
       "      <td>...</td>\n",
       "      <td>...</td>\n",
       "      <td>...</td>\n",
       "    </tr>\n",
       "    <tr>\n",
       "      <th>12</th>\n",
       "      <td>2005.07.25</td>\n",
       "      <td>5650.0</td>\n",
       "      <td>70.0</td>\n",
       "      <td>5500.0</td>\n",
       "      <td>5950.0</td>\n",
       "      <td>5500.0</td>\n",
       "      <td>61036.0</td>\n",
       "    </tr>\n",
       "    <tr>\n",
       "      <th>13</th>\n",
       "      <td>2005.07.22</td>\n",
       "      <td>5580.0</td>\n",
       "      <td>160.0</td>\n",
       "      <td>5850.0</td>\n",
       "      <td>5850.0</td>\n",
       "      <td>5530.0</td>\n",
       "      <td>69921.0</td>\n",
       "    </tr>\n",
       "    <tr>\n",
       "      <th>1</th>\n",
       "      <td>2005.07.21</td>\n",
       "      <td>5740.0</td>\n",
       "      <td>810.0</td>\n",
       "      <td>6450.0</td>\n",
       "      <td>6580.0</td>\n",
       "      <td>5730.0</td>\n",
       "      <td>182685.0</td>\n",
       "    </tr>\n",
       "    <tr>\n",
       "      <th>2</th>\n",
       "      <td>2005.07.20</td>\n",
       "      <td>6550.0</td>\n",
       "      <td>1150.0</td>\n",
       "      <td>7690.0</td>\n",
       "      <td>7690.0</td>\n",
       "      <td>6550.0</td>\n",
       "      <td>422688.0</td>\n",
       "    </tr>\n",
       "    <tr>\n",
       "      <th>3</th>\n",
       "      <td>2005.07.19</td>\n",
       "      <td>7700.0</td>\n",
       "      <td>2500.0</td>\n",
       "      <td>6700.0</td>\n",
       "      <td>7700.0</td>\n",
       "      <td>6510.0</td>\n",
       "      <td>499088.0</td>\n",
       "    </tr>\n",
       "  </tbody>\n",
       "</table>\n",
       "<p>4333 rows × 7 columns</p>\n",
       "</div>"
      ],
      "text/plain": [
       "            날짜        종가     전일비        시가        고가        저가       거래량\n",
       "1   2023.01.25  164500.0  2000.0  163000.0  165300.0  163000.0  199228.0\n",
       "2   2023.01.20  162500.0  1500.0  163500.0  164000.0  161500.0  242051.0\n",
       "3   2023.01.19  164000.0     0.0  162500.0  166000.0  162000.0  195569.0\n",
       "4   2023.01.18  164000.0   500.0  163500.0  164500.0  162000.0  211709.0\n",
       "5   2023.01.17  163500.0  4500.0  168000.0  168500.0  163000.0  330668.0\n",
       "..         ...       ...     ...       ...       ...       ...       ...\n",
       "12  2005.07.25    5650.0    70.0    5500.0    5950.0    5500.0   61036.0\n",
       "13  2005.07.22    5580.0   160.0    5850.0    5850.0    5530.0   69921.0\n",
       "1   2005.07.21    5740.0   810.0    6450.0    6580.0    5730.0  182685.0\n",
       "2   2005.07.20    6550.0  1150.0    7690.0    7690.0    6550.0  422688.0\n",
       "3   2005.07.19    7700.0  2500.0    6700.0    7700.0    6510.0  499088.0\n",
       "\n",
       "[4333 rows x 7 columns]"
      ]
     },
     "execution_count": 32,
     "metadata": {},
     "output_type": "execute_result"
    }
   ],
   "source": [
    "s= str(pgrr.a['href']).split('=')\n",
    "last_page = s[-1]\n",
    "\n",
    "df = pd.DataFrame()\n",
    "site_url = 'https://finance.naver.com/item/sise_day.naver?code=068270'\n",
    "\n",
    "for page in range(1, int(last_page)+1):\n",
    "    url = '{}&page={}'.format(site_url, page)\n",
    "    html = requests.get(url, headers = {'User-agent':'Mozilla/5.0'}).text\n",
    "    df = df.append(pd.read_html(html, header = 0)[0])\n",
    "    \n",
    "df= df.dropna()\n",
    "df"
   ]
  },
  {
   "cell_type": "code",
   "execution_count": 37,
   "id": "5f9715d8",
   "metadata": {},
   "outputs": [
    {
     "data": {
      "image/png": "[encoded data removed]",
      "text/plain": [
       "<Figure size 1200x600 with 1 Axes>"
      ]
     },
     "metadata": {},
     "output_type": "display_data"
    }
   ],
   "source": [
    "import matplotlib.pyplot as plt\n",
    "df = df.sort_values(by= '날짜')\n",
    "df_new = df.iloc[4300:]\n",
    "\n",
    "plt.figure(figsize = (12,6))\n",
    "plt.title('Celltrion (close)')\n",
    "plt.xticks(rotation = 45)\n",
    "plt.plot(df_new['날짜'], df_new['종가'], 'co--')\n",
    "plt.grid(color = 'gray', linestyle= '--')\n",
    "plt.show()"
   ]
  },
  {
   "cell_type": "markdown",
   "id": "174b14f5",
   "metadata": {},
   "source": [
    "# OHLC와 캔들 차트\n",
    "- Open-High_Low-Close -> 시가-고가-저가-종가\n",
    "- 종가가 시가보다 높으면 붉은 양봉, 반대면 파란양봉\n",
    "- 우리가 일반적으로 보는 주식 차트는 캔들 차트이다. \n",
    "- 여담으로 미국에서는 상승장을 황소, 하락장을 곰으로 표현한다. \n",
    "    - 황소의 뿔로 들이받듯이 아래에서 위로, 곰이 발톱으로 내리치듯이 위에서 아래로 이동하는데서 착안한 표현이다. "
   ]
  },
  {
   "cell_type": "code",
   "execution_count": 75,
   "id": "c5ea10ff",
   "metadata": {
    "scrolled": true
   },
   "outputs": [
    {
     "name": "stdout",
     "output_type": "stream",
     "text": [
      "1\n",
      "2\n",
      "3\n"
     ]
    },
    {
     "name": "stderr",
     "output_type": "stream",
     "text": [
      "/var/folders/nh/3q0vdk7s383d4t34nv4_q89m0000gn/T/ipykernel_12753/2023940112.py:23: FutureWarning: The frame.append method is deprecated and will be removed from pandas in a future version. Use pandas.concat instead.\n",
      "  df = df.append(pd.read_html(html, header=0)[0])\n",
      "/var/folders/nh/3q0vdk7s383d4t34nv4_q89m0000gn/T/ipykernel_12753/2023940112.py:23: FutureWarning: The frame.append method is deprecated and will be removed from pandas in a future version. Use pandas.concat instead.\n",
      "  df = df.append(pd.read_html(html, header=0)[0])\n",
      "/var/folders/nh/3q0vdk7s383d4t34nv4_q89m0000gn/T/ipykernel_12753/2023940112.py:23: FutureWarning: The frame.append method is deprecated and will be removed from pandas in a future version. Use pandas.concat instead.\n",
      "  df = df.append(pd.read_html(html, header=0)[0])\n",
      "/var/folders/nh/3q0vdk7s383d4t34nv4_q89m0000gn/T/ipykernel_12753/2023940112.py:23: FutureWarning: The frame.append method is deprecated and will be removed from pandas in a future version. Use pandas.concat instead.\n",
      "  df = df.append(pd.read_html(html, header=0)[0])\n"
     ]
    },
    {
     "name": "stdout",
     "output_type": "stream",
     "text": [
      "4\n",
      "5\n",
      "6\n"
     ]
    },
    {
     "name": "stderr",
     "output_type": "stream",
     "text": [
      "/var/folders/nh/3q0vdk7s383d4t34nv4_q89m0000gn/T/ipykernel_12753/2023940112.py:23: FutureWarning: The frame.append method is deprecated and will be removed from pandas in a future version. Use pandas.concat instead.\n",
      "  df = df.append(pd.read_html(html, header=0)[0])\n",
      "/var/folders/nh/3q0vdk7s383d4t34nv4_q89m0000gn/T/ipykernel_12753/2023940112.py:23: FutureWarning: The frame.append method is deprecated and will be removed from pandas in a future version. Use pandas.concat instead.\n",
      "  df = df.append(pd.read_html(html, header=0)[0])\n",
      "/var/folders/nh/3q0vdk7s383d4t34nv4_q89m0000gn/T/ipykernel_12753/2023940112.py:23: FutureWarning: The frame.append method is deprecated and will be removed from pandas in a future version. Use pandas.concat instead.\n",
      "  df = df.append(pd.read_html(html, header=0)[0])\n"
     ]
    },
    {
     "name": "stdout",
     "output_type": "stream",
     "text": [
      "7\n",
      "8\n",
      "9\n"
     ]
    },
    {
     "name": "stderr",
     "output_type": "stream",
     "text": [
      "/var/folders/nh/3q0vdk7s383d4t34nv4_q89m0000gn/T/ipykernel_12753/2023940112.py:23: FutureWarning: The frame.append method is deprecated and will be removed from pandas in a future version. Use pandas.concat instead.\n",
      "  df = df.append(pd.read_html(html, header=0)[0])\n",
      "/var/folders/nh/3q0vdk7s383d4t34nv4_q89m0000gn/T/ipykernel_12753/2023940112.py:23: FutureWarning: The frame.append method is deprecated and will be removed from pandas in a future version. Use pandas.concat instead.\n",
      "  df = df.append(pd.read_html(html, header=0)[0])\n",
      "/var/folders/nh/3q0vdk7s383d4t34nv4_q89m0000gn/T/ipykernel_12753/2023940112.py:23: FutureWarning: The frame.append method is deprecated and will be removed from pandas in a future version. Use pandas.concat instead.\n",
      "  df = df.append(pd.read_html(html, header=0)[0])\n"
     ]
    },
    {
     "name": "stdout",
     "output_type": "stream",
     "text": [
      "10\n",
      "11\n",
      "12\n"
     ]
    },
    {
     "name": "stderr",
     "output_type": "stream",
     "text": [
      "/var/folders/nh/3q0vdk7s383d4t34nv4_q89m0000gn/T/ipykernel_12753/2023940112.py:23: FutureWarning: The frame.append method is deprecated and will be removed from pandas in a future version. Use pandas.concat instead.\n",
      "  df = df.append(pd.read_html(html, header=0)[0])\n",
      "/var/folders/nh/3q0vdk7s383d4t34nv4_q89m0000gn/T/ipykernel_12753/2023940112.py:23: FutureWarning: The frame.append method is deprecated and will be removed from pandas in a future version. Use pandas.concat instead.\n",
      "  df = df.append(pd.read_html(html, header=0)[0])\n",
      "/var/folders/nh/3q0vdk7s383d4t34nv4_q89m0000gn/T/ipykernel_12753/2023940112.py:23: FutureWarning: The frame.append method is deprecated and will be removed from pandas in a future version. Use pandas.concat instead.\n",
      "  df = df.append(pd.read_html(html, header=0)[0])\n"
     ]
    },
    {
     "name": "stdout",
     "output_type": "stream",
     "text": [
      "13\n",
      "14\n",
      "15\n"
     ]
    },
    {
     "name": "stderr",
     "output_type": "stream",
     "text": [
      "/var/folders/nh/3q0vdk7s383d4t34nv4_q89m0000gn/T/ipykernel_12753/2023940112.py:23: FutureWarning: The frame.append method is deprecated and will be removed from pandas in a future version. Use pandas.concat instead.\n",
      "  df = df.append(pd.read_html(html, header=0)[0])\n",
      "/var/folders/nh/3q0vdk7s383d4t34nv4_q89m0000gn/T/ipykernel_12753/2023940112.py:23: FutureWarning: The frame.append method is deprecated and will be removed from pandas in a future version. Use pandas.concat instead.\n",
      "  df = df.append(pd.read_html(html, header=0)[0])\n",
      "/var/folders/nh/3q0vdk7s383d4t34nv4_q89m0000gn/T/ipykernel_12753/2023940112.py:23: FutureWarning: The frame.append method is deprecated and will be removed from pandas in a future version. Use pandas.concat instead.\n",
      "  df = df.append(pd.read_html(html, header=0)[0])\n",
      "/var/folders/nh/3q0vdk7s383d4t34nv4_q89m0000gn/T/ipykernel_12753/2023940112.py:23: FutureWarning: The frame.append method is deprecated and will be removed from pandas in a future version. Use pandas.concat instead.\n",
      "  df = df.append(pd.read_html(html, header=0)[0])\n"
     ]
    },
    {
     "name": "stdout",
     "output_type": "stream",
     "text": [
      "16\n",
      "17\n",
      "18\n"
     ]
    },
    {
     "name": "stderr",
     "output_type": "stream",
     "text": [
      "/var/folders/nh/3q0vdk7s383d4t34nv4_q89m0000gn/T/ipykernel_12753/2023940112.py:23: FutureWarning: The frame.append method is deprecated and will be removed from pandas in a future version. Use pandas.concat instead.\n",
      "  df = df.append(pd.read_html(html, header=0)[0])\n",
      "/var/folders/nh/3q0vdk7s383d4t34nv4_q89m0000gn/T/ipykernel_12753/2023940112.py:23: FutureWarning: The frame.append method is deprecated and will be removed from pandas in a future version. Use pandas.concat instead.\n",
      "  df = df.append(pd.read_html(html, header=0)[0])\n",
      "/var/folders/nh/3q0vdk7s383d4t34nv4_q89m0000gn/T/ipykernel_12753/2023940112.py:23: FutureWarning: The frame.append method is deprecated and will be removed from pandas in a future version. Use pandas.concat instead.\n",
      "  df = df.append(pd.read_html(html, header=0)[0])\n"
     ]
    },
    {
     "name": "stdout",
     "output_type": "stream",
     "text": [
      "19\n",
      "20\n",
      "21\n"
     ]
    },
    {
     "name": "stderr",
     "output_type": "stream",
     "text": [
      "/var/folders/nh/3q0vdk7s383d4t34nv4_q89m0000gn/T/ipykernel_12753/2023940112.py:23: FutureWarning: The frame.append method is deprecated and will be removed from pandas in a future version. Use pandas.concat instead.\n",
      "  df = df.append(pd.read_html(html, header=0)[0])\n",
      "/var/folders/nh/3q0vdk7s383d4t34nv4_q89m0000gn/T/ipykernel_12753/2023940112.py:23: FutureWarning: The frame.append method is deprecated and will be removed from pandas in a future version. Use pandas.concat instead.\n",
      "  df = df.append(pd.read_html(html, header=0)[0])\n",
      "/var/folders/nh/3q0vdk7s383d4t34nv4_q89m0000gn/T/ipykernel_12753/2023940112.py:23: FutureWarning: The frame.append method is deprecated and will be removed from pandas in a future version. Use pandas.concat instead.\n",
      "  df = df.append(pd.read_html(html, header=0)[0])\n"
     ]
    },
    {
     "name": "stdout",
     "output_type": "stream",
     "text": [
      "22\n",
      "23\n",
      "24\n"
     ]
    },
    {
     "name": "stderr",
     "output_type": "stream",
     "text": [
      "/var/folders/nh/3q0vdk7s383d4t34nv4_q89m0000gn/T/ipykernel_12753/2023940112.py:23: FutureWarning: The frame.append method is deprecated and will be removed from pandas in a future version. Use pandas.concat instead.\n",
      "  df = df.append(pd.read_html(html, header=0)[0])\n",
      "/var/folders/nh/3q0vdk7s383d4t34nv4_q89m0000gn/T/ipykernel_12753/2023940112.py:23: FutureWarning: The frame.append method is deprecated and will be removed from pandas in a future version. Use pandas.concat instead.\n",
      "  df = df.append(pd.read_html(html, header=0)[0])\n"
     ]
    },
    {
     "name": "stdout",
     "output_type": "stream",
     "text": [
      "25\n",
      "26\n"
     ]
    },
    {
     "name": "stderr",
     "output_type": "stream",
     "text": [
      "/var/folders/nh/3q0vdk7s383d4t34nv4_q89m0000gn/T/ipykernel_12753/2023940112.py:23: FutureWarning: The frame.append method is deprecated and will be removed from pandas in a future version. Use pandas.concat instead.\n",
      "  df = df.append(pd.read_html(html, header=0)[0])\n",
      "/var/folders/nh/3q0vdk7s383d4t34nv4_q89m0000gn/T/ipykernel_12753/2023940112.py:23: FutureWarning: The frame.append method is deprecated and will be removed from pandas in a future version. Use pandas.concat instead.\n",
      "  df = df.append(pd.read_html(html, header=0)[0])\n",
      "/var/folders/nh/3q0vdk7s383d4t34nv4_q89m0000gn/T/ipykernel_12753/2023940112.py:23: FutureWarning: The frame.append method is deprecated and will be removed from pandas in a future version. Use pandas.concat instead.\n",
      "  df = df.append(pd.read_html(html, header=0)[0])\n"
     ]
    },
    {
     "name": "stdout",
     "output_type": "stream",
     "text": [
      "27\n",
      "28\n",
      "29\n"
     ]
    },
    {
     "name": "stderr",
     "output_type": "stream",
     "text": [
      "/var/folders/nh/3q0vdk7s383d4t34nv4_q89m0000gn/T/ipykernel_12753/2023940112.py:23: FutureWarning: The frame.append method is deprecated and will be removed from pandas in a future version. Use pandas.concat instead.\n",
      "  df = df.append(pd.read_html(html, header=0)[0])\n",
      "/var/folders/nh/3q0vdk7s383d4t34nv4_q89m0000gn/T/ipykernel_12753/2023940112.py:23: FutureWarning: The frame.append method is deprecated and will be removed from pandas in a future version. Use pandas.concat instead.\n",
      "  df = df.append(pd.read_html(html, header=0)[0])\n",
      "/var/folders/nh/3q0vdk7s383d4t34nv4_q89m0000gn/T/ipykernel_12753/2023940112.py:23: FutureWarning: The frame.append method is deprecated and will be removed from pandas in a future version. Use pandas.concat instead.\n",
      "  df = df.append(pd.read_html(html, header=0)[0])\n"
     ]
    },
    {
     "name": "stdout",
     "output_type": "stream",
     "text": [
      "30\n",
      "31\n",
      "32\n"
     ]
    },
    {
     "name": "stderr",
     "output_type": "stream",
     "text": [
      "/var/folders/nh/3q0vdk7s383d4t34nv4_q89m0000gn/T/ipykernel_12753/2023940112.py:23: FutureWarning: The frame.append method is deprecated and will be removed from pandas in a future version. Use pandas.concat instead.\n",
      "  df = df.append(pd.read_html(html, header=0)[0])\n",
      "/var/folders/nh/3q0vdk7s383d4t34nv4_q89m0000gn/T/ipykernel_12753/2023940112.py:23: FutureWarning: The frame.append method is deprecated and will be removed from pandas in a future version. Use pandas.concat instead.\n",
      "  df = df.append(pd.read_html(html, header=0)[0])\n",
      "/var/folders/nh/3q0vdk7s383d4t34nv4_q89m0000gn/T/ipykernel_12753/2023940112.py:23: FutureWarning: The frame.append method is deprecated and will be removed from pandas in a future version. Use pandas.concat instead.\n",
      "  df = df.append(pd.read_html(html, header=0)[0])\n"
     ]
    },
    {
     "name": "stdout",
     "output_type": "stream",
     "text": [
      "33\n",
      "34\n",
      "35\n"
     ]
    },
    {
     "name": "stderr",
     "output_type": "stream",
     "text": [
      "/var/folders/nh/3q0vdk7s383d4t34nv4_q89m0000gn/T/ipykernel_12753/2023940112.py:23: FutureWarning: The frame.append method is deprecated and will be removed from pandas in a future version. Use pandas.concat instead.\n",
      "  df = df.append(pd.read_html(html, header=0)[0])\n",
      "/var/folders/nh/3q0vdk7s383d4t34nv4_q89m0000gn/T/ipykernel_12753/2023940112.py:23: FutureWarning: The frame.append method is deprecated and will be removed from pandas in a future version. Use pandas.concat instead.\n",
      "  df = df.append(pd.read_html(html, header=0)[0])\n",
      "/var/folders/nh/3q0vdk7s383d4t34nv4_q89m0000gn/T/ipykernel_12753/2023940112.py:23: FutureWarning: The frame.append method is deprecated and will be removed from pandas in a future version. Use pandas.concat instead.\n",
      "  df = df.append(pd.read_html(html, header=0)[0])\n"
     ]
    },
    {
     "name": "stdout",
     "output_type": "stream",
     "text": [
      "36\n",
      "37\n",
      "38\n"
     ]
    },
    {
     "name": "stderr",
     "output_type": "stream",
     "text": [
      "/var/folders/nh/3q0vdk7s383d4t34nv4_q89m0000gn/T/ipykernel_12753/2023940112.py:23: FutureWarning: The frame.append method is deprecated and will be removed from pandas in a future version. Use pandas.concat instead.\n",
      "  df = df.append(pd.read_html(html, header=0)[0])\n",
      "/var/folders/nh/3q0vdk7s383d4t34nv4_q89m0000gn/T/ipykernel_12753/2023940112.py:23: FutureWarning: The frame.append method is deprecated and will be removed from pandas in a future version. Use pandas.concat instead.\n",
      "  df = df.append(pd.read_html(html, header=0)[0])\n",
      "/var/folders/nh/3q0vdk7s383d4t34nv4_q89m0000gn/T/ipykernel_12753/2023940112.py:23: FutureWarning: The frame.append method is deprecated and will be removed from pandas in a future version. Use pandas.concat instead.\n",
      "  df = df.append(pd.read_html(html, header=0)[0])\n"
     ]
    },
    {
     "name": "stdout",
     "output_type": "stream",
     "text": [
      "39\n",
      "40\n",
      "41\n"
     ]
    },
    {
     "name": "stderr",
     "output_type": "stream",
     "text": [
      "/var/folders/nh/3q0vdk7s383d4t34nv4_q89m0000gn/T/ipykernel_12753/2023940112.py:23: FutureWarning: The frame.append method is deprecated and will be removed from pandas in a future version. Use pandas.concat instead.\n",
      "  df = df.append(pd.read_html(html, header=0)[0])\n",
      "/var/folders/nh/3q0vdk7s383d4t34nv4_q89m0000gn/T/ipykernel_12753/2023940112.py:23: FutureWarning: The frame.append method is deprecated and will be removed from pandas in a future version. Use pandas.concat instead.\n",
      "  df = df.append(pd.read_html(html, header=0)[0])\n",
      "/var/folders/nh/3q0vdk7s383d4t34nv4_q89m0000gn/T/ipykernel_12753/2023940112.py:23: FutureWarning: The frame.append method is deprecated and will be removed from pandas in a future version. Use pandas.concat instead.\n",
      "  df = df.append(pd.read_html(html, header=0)[0])\n"
     ]
    },
    {
     "name": "stdout",
     "output_type": "stream",
     "text": [
      "42\n",
      "43\n",
      "44\n"
     ]
    },
    {
     "name": "stderr",
     "output_type": "stream",
     "text": [
      "/var/folders/nh/3q0vdk7s383d4t34nv4_q89m0000gn/T/ipykernel_12753/2023940112.py:23: FutureWarning: The frame.append method is deprecated and will be removed from pandas in a future version. Use pandas.concat instead.\n",
      "  df = df.append(pd.read_html(html, header=0)[0])\n",
      "/var/folders/nh/3q0vdk7s383d4t34nv4_q89m0000gn/T/ipykernel_12753/2023940112.py:23: FutureWarning: The frame.append method is deprecated and will be removed from pandas in a future version. Use pandas.concat instead.\n",
      "  df = df.append(pd.read_html(html, header=0)[0])\n",
      "/var/folders/nh/3q0vdk7s383d4t34nv4_q89m0000gn/T/ipykernel_12753/2023940112.py:23: FutureWarning: The frame.append method is deprecated and will be removed from pandas in a future version. Use pandas.concat instead.\n",
      "  df = df.append(pd.read_html(html, header=0)[0])\n"
     ]
    },
    {
     "name": "stdout",
     "output_type": "stream",
     "text": [
      "45\n",
      "46\n",
      "47\n"
     ]
    },
    {
     "name": "stderr",
     "output_type": "stream",
     "text": [
      "/var/folders/nh/3q0vdk7s383d4t34nv4_q89m0000gn/T/ipykernel_12753/2023940112.py:23: FutureWarning: The frame.append method is deprecated and will be removed from pandas in a future version. Use pandas.concat instead.\n",
      "  df = df.append(pd.read_html(html, header=0)[0])\n",
      "/var/folders/nh/3q0vdk7s383d4t34nv4_q89m0000gn/T/ipykernel_12753/2023940112.py:23: FutureWarning: The frame.append method is deprecated and will be removed from pandas in a future version. Use pandas.concat instead.\n",
      "  df = df.append(pd.read_html(html, header=0)[0])\n",
      "/var/folders/nh/3q0vdk7s383d4t34nv4_q89m0000gn/T/ipykernel_12753/2023940112.py:23: FutureWarning: The frame.append method is deprecated and will be removed from pandas in a future version. Use pandas.concat instead.\n",
      "  df = df.append(pd.read_html(html, header=0)[0])\n"
     ]
    },
    {
     "name": "stdout",
     "output_type": "stream",
     "text": [
      "48\n",
      "49\n",
      "50\n"
     ]
    },
    {
     "name": "stderr",
     "output_type": "stream",
     "text": [
      "/var/folders/nh/3q0vdk7s383d4t34nv4_q89m0000gn/T/ipykernel_12753/2023940112.py:23: FutureWarning: The frame.append method is deprecated and will be removed from pandas in a future version. Use pandas.concat instead.\n",
      "  df = df.append(pd.read_html(html, header=0)[0])\n",
      "/var/folders/nh/3q0vdk7s383d4t34nv4_q89m0000gn/T/ipykernel_12753/2023940112.py:23: FutureWarning: The frame.append method is deprecated and will be removed from pandas in a future version. Use pandas.concat instead.\n",
      "  df = df.append(pd.read_html(html, header=0)[0])\n",
      "/var/folders/nh/3q0vdk7s383d4t34nv4_q89m0000gn/T/ipykernel_12753/2023940112.py:23: FutureWarning: The frame.append method is deprecated and will be removed from pandas in a future version. Use pandas.concat instead.\n",
      "  df = df.append(pd.read_html(html, header=0)[0])\n"
     ]
    },
    {
     "name": "stdout",
     "output_type": "stream",
     "text": [
      "51\n",
      "52\n",
      "53\n"
     ]
    },
    {
     "name": "stderr",
     "output_type": "stream",
     "text": [
      "/var/folders/nh/3q0vdk7s383d4t34nv4_q89m0000gn/T/ipykernel_12753/2023940112.py:23: FutureWarning: The frame.append method is deprecated and will be removed from pandas in a future version. Use pandas.concat instead.\n",
      "  df = df.append(pd.read_html(html, header=0)[0])\n",
      "/var/folders/nh/3q0vdk7s383d4t34nv4_q89m0000gn/T/ipykernel_12753/2023940112.py:23: FutureWarning: The frame.append method is deprecated and will be removed from pandas in a future version. Use pandas.concat instead.\n",
      "  df = df.append(pd.read_html(html, header=0)[0])\n"
     ]
    },
    {
     "name": "stdout",
     "output_type": "stream",
     "text": [
      "54\n",
      "55\n"
     ]
    },
    {
     "name": "stderr",
     "output_type": "stream",
     "text": [
      "/var/folders/nh/3q0vdk7s383d4t34nv4_q89m0000gn/T/ipykernel_12753/2023940112.py:23: FutureWarning: The frame.append method is deprecated and will be removed from pandas in a future version. Use pandas.concat instead.\n",
      "  df = df.append(pd.read_html(html, header=0)[0])\n",
      "/var/folders/nh/3q0vdk7s383d4t34nv4_q89m0000gn/T/ipykernel_12753/2023940112.py:23: FutureWarning: The frame.append method is deprecated and will be removed from pandas in a future version. Use pandas.concat instead.\n",
      "  df = df.append(pd.read_html(html, header=0)[0])\n",
      "/var/folders/nh/3q0vdk7s383d4t34nv4_q89m0000gn/T/ipykernel_12753/2023940112.py:23: FutureWarning: The frame.append method is deprecated and will be removed from pandas in a future version. Use pandas.concat instead.\n",
      "  df = df.append(pd.read_html(html, header=0)[0])\n"
     ]
    },
    {
     "name": "stdout",
     "output_type": "stream",
     "text": [
      "56\n",
      "57\n",
      "58\n"
     ]
    },
    {
     "name": "stderr",
     "output_type": "stream",
     "text": [
      "/var/folders/nh/3q0vdk7s383d4t34nv4_q89m0000gn/T/ipykernel_12753/2023940112.py:23: FutureWarning: The frame.append method is deprecated and will be removed from pandas in a future version. Use pandas.concat instead.\n",
      "  df = df.append(pd.read_html(html, header=0)[0])\n",
      "/var/folders/nh/3q0vdk7s383d4t34nv4_q89m0000gn/T/ipykernel_12753/2023940112.py:23: FutureWarning: The frame.append method is deprecated and will be removed from pandas in a future version. Use pandas.concat instead.\n",
      "  df = df.append(pd.read_html(html, header=0)[0])\n",
      "/var/folders/nh/3q0vdk7s383d4t34nv4_q89m0000gn/T/ipykernel_12753/2023940112.py:23: FutureWarning: The frame.append method is deprecated and will be removed from pandas in a future version. Use pandas.concat instead.\n",
      "  df = df.append(pd.read_html(html, header=0)[0])\n"
     ]
    },
    {
     "name": "stdout",
     "output_type": "stream",
     "text": [
      "59\n",
      "60\n",
      "61\n"
     ]
    },
    {
     "name": "stderr",
     "output_type": "stream",
     "text": [
      "/var/folders/nh/3q0vdk7s383d4t34nv4_q89m0000gn/T/ipykernel_12753/2023940112.py:23: FutureWarning: The frame.append method is deprecated and will be removed from pandas in a future version. Use pandas.concat instead.\n",
      "  df = df.append(pd.read_html(html, header=0)[0])\n",
      "/var/folders/nh/3q0vdk7s383d4t34nv4_q89m0000gn/T/ipykernel_12753/2023940112.py:23: FutureWarning: The frame.append method is deprecated and will be removed from pandas in a future version. Use pandas.concat instead.\n",
      "  df = df.append(pd.read_html(html, header=0)[0])\n",
      "/var/folders/nh/3q0vdk7s383d4t34nv4_q89m0000gn/T/ipykernel_12753/2023940112.py:23: FutureWarning: The frame.append method is deprecated and will be removed from pandas in a future version. Use pandas.concat instead.\n",
      "  df = df.append(pd.read_html(html, header=0)[0])\n"
     ]
    },
    {
     "name": "stdout",
     "output_type": "stream",
     "text": [
      "62\n",
      "63\n",
      "64\n"
     ]
    },
    {
     "name": "stderr",
     "output_type": "stream",
     "text": [
      "/var/folders/nh/3q0vdk7s383d4t34nv4_q89m0000gn/T/ipykernel_12753/2023940112.py:23: FutureWarning: The frame.append method is deprecated and will be removed from pandas in a future version. Use pandas.concat instead.\n",
      "  df = df.append(pd.read_html(html, header=0)[0])\n",
      "/var/folders/nh/3q0vdk7s383d4t34nv4_q89m0000gn/T/ipykernel_12753/2023940112.py:23: FutureWarning: The frame.append method is deprecated and will be removed from pandas in a future version. Use pandas.concat instead.\n",
      "  df = df.append(pd.read_html(html, header=0)[0])\n",
      "/var/folders/nh/3q0vdk7s383d4t34nv4_q89m0000gn/T/ipykernel_12753/2023940112.py:23: FutureWarning: The frame.append method is deprecated and will be removed from pandas in a future version. Use pandas.concat instead.\n",
      "  df = df.append(pd.read_html(html, header=0)[0])\n"
     ]
    },
    {
     "name": "stdout",
     "output_type": "stream",
     "text": [
      "65\n",
      "66\n",
      "67\n"
     ]
    },
    {
     "name": "stderr",
     "output_type": "stream",
     "text": [
      "/var/folders/nh/3q0vdk7s383d4t34nv4_q89m0000gn/T/ipykernel_12753/2023940112.py:23: FutureWarning: The frame.append method is deprecated and will be removed from pandas in a future version. Use pandas.concat instead.\n",
      "  df = df.append(pd.read_html(html, header=0)[0])\n",
      "/var/folders/nh/3q0vdk7s383d4t34nv4_q89m0000gn/T/ipykernel_12753/2023940112.py:23: FutureWarning: The frame.append method is deprecated and will be removed from pandas in a future version. Use pandas.concat instead.\n",
      "  df = df.append(pd.read_html(html, header=0)[0])\n",
      "/var/folders/nh/3q0vdk7s383d4t34nv4_q89m0000gn/T/ipykernel_12753/2023940112.py:23: FutureWarning: The frame.append method is deprecated and will be removed from pandas in a future version. Use pandas.concat instead.\n",
      "  df = df.append(pd.read_html(html, header=0)[0])\n"
     ]
    },
    {
     "name": "stdout",
     "output_type": "stream",
     "text": [
      "68\n",
      "69\n",
      "70\n"
     ]
    },
    {
     "name": "stderr",
     "output_type": "stream",
     "text": [
      "/var/folders/nh/3q0vdk7s383d4t34nv4_q89m0000gn/T/ipykernel_12753/2023940112.py:23: FutureWarning: The frame.append method is deprecated and will be removed from pandas in a future version. Use pandas.concat instead.\n",
      "  df = df.append(pd.read_html(html, header=0)[0])\n",
      "/var/folders/nh/3q0vdk7s383d4t34nv4_q89m0000gn/T/ipykernel_12753/2023940112.py:23: FutureWarning: The frame.append method is deprecated and will be removed from pandas in a future version. Use pandas.concat instead.\n",
      "  df = df.append(pd.read_html(html, header=0)[0])\n",
      "/var/folders/nh/3q0vdk7s383d4t34nv4_q89m0000gn/T/ipykernel_12753/2023940112.py:23: FutureWarning: The frame.append method is deprecated and will be removed from pandas in a future version. Use pandas.concat instead.\n",
      "  df = df.append(pd.read_html(html, header=0)[0])\n"
     ]
    },
    {
     "name": "stdout",
     "output_type": "stream",
     "text": [
      "71\n",
      "72\n",
      "73\n"
     ]
    },
    {
     "name": "stderr",
     "output_type": "stream",
     "text": [
      "/var/folders/nh/3q0vdk7s383d4t34nv4_q89m0000gn/T/ipykernel_12753/2023940112.py:23: FutureWarning: The frame.append method is deprecated and will be removed from pandas in a future version. Use pandas.concat instead.\n",
      "  df = df.append(pd.read_html(html, header=0)[0])\n",
      "/var/folders/nh/3q0vdk7s383d4t34nv4_q89m0000gn/T/ipykernel_12753/2023940112.py:23: FutureWarning: The frame.append method is deprecated and will be removed from pandas in a future version. Use pandas.concat instead.\n",
      "  df = df.append(pd.read_html(html, header=0)[0])\n",
      "/var/folders/nh/3q0vdk7s383d4t34nv4_q89m0000gn/T/ipykernel_12753/2023940112.py:23: FutureWarning: The frame.append method is deprecated and will be removed from pandas in a future version. Use pandas.concat instead.\n",
      "  df = df.append(pd.read_html(html, header=0)[0])\n"
     ]
    },
    {
     "name": "stdout",
     "output_type": "stream",
     "text": [
      "74\n",
      "75\n",
      "76\n"
     ]
    },
    {
     "name": "stderr",
     "output_type": "stream",
     "text": [
      "/var/folders/nh/3q0vdk7s383d4t34nv4_q89m0000gn/T/ipykernel_12753/2023940112.py:23: FutureWarning: The frame.append method is deprecated and will be removed from pandas in a future version. Use pandas.concat instead.\n",
      "  df = df.append(pd.read_html(html, header=0)[0])\n",
      "/var/folders/nh/3q0vdk7s383d4t34nv4_q89m0000gn/T/ipykernel_12753/2023940112.py:23: FutureWarning: The frame.append method is deprecated and will be removed from pandas in a future version. Use pandas.concat instead.\n",
      "  df = df.append(pd.read_html(html, header=0)[0])\n",
      "/var/folders/nh/3q0vdk7s383d4t34nv4_q89m0000gn/T/ipykernel_12753/2023940112.py:23: FutureWarning: The frame.append method is deprecated and will be removed from pandas in a future version. Use pandas.concat instead.\n",
      "  df = df.append(pd.read_html(html, header=0)[0])\n"
     ]
    },
    {
     "name": "stdout",
     "output_type": "stream",
     "text": [
      "77\n",
      "78\n",
      "79\n"
     ]
    },
    {
     "name": "stderr",
     "output_type": "stream",
     "text": [
      "/var/folders/nh/3q0vdk7s383d4t34nv4_q89m0000gn/T/ipykernel_12753/2023940112.py:23: FutureWarning: The frame.append method is deprecated and will be removed from pandas in a future version. Use pandas.concat instead.\n",
      "  df = df.append(pd.read_html(html, header=0)[0])\n",
      "/var/folders/nh/3q0vdk7s383d4t34nv4_q89m0000gn/T/ipykernel_12753/2023940112.py:23: FutureWarning: The frame.append method is deprecated and will be removed from pandas in a future version. Use pandas.concat instead.\n",
      "  df = df.append(pd.read_html(html, header=0)[0])\n",
      "/var/folders/nh/3q0vdk7s383d4t34nv4_q89m0000gn/T/ipykernel_12753/2023940112.py:23: FutureWarning: The frame.append method is deprecated and will be removed from pandas in a future version. Use pandas.concat instead.\n",
      "  df = df.append(pd.read_html(html, header=0)[0])\n"
     ]
    },
    {
     "name": "stdout",
     "output_type": "stream",
     "text": [
      "80\n",
      "81\n",
      "82\n"
     ]
    },
    {
     "name": "stderr",
     "output_type": "stream",
     "text": [
      "/var/folders/nh/3q0vdk7s383d4t34nv4_q89m0000gn/T/ipykernel_12753/2023940112.py:23: FutureWarning: The frame.append method is deprecated and will be removed from pandas in a future version. Use pandas.concat instead.\n",
      "  df = df.append(pd.read_html(html, header=0)[0])\n",
      "/var/folders/nh/3q0vdk7s383d4t34nv4_q89m0000gn/T/ipykernel_12753/2023940112.py:23: FutureWarning: The frame.append method is deprecated and will be removed from pandas in a future version. Use pandas.concat instead.\n",
      "  df = df.append(pd.read_html(html, header=0)[0])\n",
      "/var/folders/nh/3q0vdk7s383d4t34nv4_q89m0000gn/T/ipykernel_12753/2023940112.py:23: FutureWarning: The frame.append method is deprecated and will be removed from pandas in a future version. Use pandas.concat instead.\n",
      "  df = df.append(pd.read_html(html, header=0)[0])\n"
     ]
    },
    {
     "name": "stdout",
     "output_type": "stream",
     "text": [
      "83\n",
      "84\n",
      "85\n"
     ]
    },
    {
     "name": "stderr",
     "output_type": "stream",
     "text": [
      "/var/folders/nh/3q0vdk7s383d4t34nv4_q89m0000gn/T/ipykernel_12753/2023940112.py:23: FutureWarning: The frame.append method is deprecated and will be removed from pandas in a future version. Use pandas.concat instead.\n",
      "  df = df.append(pd.read_html(html, header=0)[0])\n",
      "/var/folders/nh/3q0vdk7s383d4t34nv4_q89m0000gn/T/ipykernel_12753/2023940112.py:23: FutureWarning: The frame.append method is deprecated and will be removed from pandas in a future version. Use pandas.concat instead.\n",
      "  df = df.append(pd.read_html(html, header=0)[0])\n",
      "/var/folders/nh/3q0vdk7s383d4t34nv4_q89m0000gn/T/ipykernel_12753/2023940112.py:23: FutureWarning: The frame.append method is deprecated and will be removed from pandas in a future version. Use pandas.concat instead.\n",
      "  df = df.append(pd.read_html(html, header=0)[0])\n"
     ]
    },
    {
     "name": "stdout",
     "output_type": "stream",
     "text": [
      "86\n",
      "87\n",
      "88\n"
     ]
    },
    {
     "name": "stderr",
     "output_type": "stream",
     "text": [
      "/var/folders/nh/3q0vdk7s383d4t34nv4_q89m0000gn/T/ipykernel_12753/2023940112.py:23: FutureWarning: The frame.append method is deprecated and will be removed from pandas in a future version. Use pandas.concat instead.\n",
      "  df = df.append(pd.read_html(html, header=0)[0])\n",
      "/var/folders/nh/3q0vdk7s383d4t34nv4_q89m0000gn/T/ipykernel_12753/2023940112.py:23: FutureWarning: The frame.append method is deprecated and will be removed from pandas in a future version. Use pandas.concat instead.\n",
      "  df = df.append(pd.read_html(html, header=0)[0])\n",
      "/var/folders/nh/3q0vdk7s383d4t34nv4_q89m0000gn/T/ipykernel_12753/2023940112.py:23: FutureWarning: The frame.append method is deprecated and will be removed from pandas in a future version. Use pandas.concat instead.\n",
      "  df = df.append(pd.read_html(html, header=0)[0])\n"
     ]
    },
    {
     "name": "stdout",
     "output_type": "stream",
     "text": [
      "89\n",
      "90\n",
      "91\n"
     ]
    },
    {
     "name": "stderr",
     "output_type": "stream",
     "text": [
      "/var/folders/nh/3q0vdk7s383d4t34nv4_q89m0000gn/T/ipykernel_12753/2023940112.py:23: FutureWarning: The frame.append method is deprecated and will be removed from pandas in a future version. Use pandas.concat instead.\n",
      "  df = df.append(pd.read_html(html, header=0)[0])\n",
      "/var/folders/nh/3q0vdk7s383d4t34nv4_q89m0000gn/T/ipykernel_12753/2023940112.py:23: FutureWarning: The frame.append method is deprecated and will be removed from pandas in a future version. Use pandas.concat instead.\n",
      "  df = df.append(pd.read_html(html, header=0)[0])\n",
      "/var/folders/nh/3q0vdk7s383d4t34nv4_q89m0000gn/T/ipykernel_12753/2023940112.py:23: FutureWarning: The frame.append method is deprecated and will be removed from pandas in a future version. Use pandas.concat instead.\n",
      "  df = df.append(pd.read_html(html, header=0)[0])\n"
     ]
    },
    {
     "name": "stdout",
     "output_type": "stream",
     "text": [
      "92\n",
      "93\n",
      "94\n"
     ]
    },
    {
     "name": "stderr",
     "output_type": "stream",
     "text": [
      "/var/folders/nh/3q0vdk7s383d4t34nv4_q89m0000gn/T/ipykernel_12753/2023940112.py:23: FutureWarning: The frame.append method is deprecated and will be removed from pandas in a future version. Use pandas.concat instead.\n",
      "  df = df.append(pd.read_html(html, header=0)[0])\n",
      "/var/folders/nh/3q0vdk7s383d4t34nv4_q89m0000gn/T/ipykernel_12753/2023940112.py:23: FutureWarning: The frame.append method is deprecated and will be removed from pandas in a future version. Use pandas.concat instead.\n",
      "  df = df.append(pd.read_html(html, header=0)[0])\n",
      "/var/folders/nh/3q0vdk7s383d4t34nv4_q89m0000gn/T/ipykernel_12753/2023940112.py:23: FutureWarning: The frame.append method is deprecated and will be removed from pandas in a future version. Use pandas.concat instead.\n",
      "  df = df.append(pd.read_html(html, header=0)[0])\n"
     ]
    },
    {
     "name": "stdout",
     "output_type": "stream",
     "text": [
      "95\n",
      "96\n",
      "97\n"
     ]
    },
    {
     "name": "stderr",
     "output_type": "stream",
     "text": [
      "/var/folders/nh/3q0vdk7s383d4t34nv4_q89m0000gn/T/ipykernel_12753/2023940112.py:23: FutureWarning: The frame.append method is deprecated and will be removed from pandas in a future version. Use pandas.concat instead.\n",
      "  df = df.append(pd.read_html(html, header=0)[0])\n",
      "/var/folders/nh/3q0vdk7s383d4t34nv4_q89m0000gn/T/ipykernel_12753/2023940112.py:23: FutureWarning: The frame.append method is deprecated and will be removed from pandas in a future version. Use pandas.concat instead.\n",
      "  df = df.append(pd.read_html(html, header=0)[0])\n",
      "/var/folders/nh/3q0vdk7s383d4t34nv4_q89m0000gn/T/ipykernel_12753/2023940112.py:23: FutureWarning: The frame.append method is deprecated and will be removed from pandas in a future version. Use pandas.concat instead.\n",
      "  df = df.append(pd.read_html(html, header=0)[0])\n"
     ]
    },
    {
     "name": "stdout",
     "output_type": "stream",
     "text": [
      "98\n",
      "99\n",
      "100\n"
     ]
    },
    {
     "name": "stderr",
     "output_type": "stream",
     "text": [
      "/var/folders/nh/3q0vdk7s383d4t34nv4_q89m0000gn/T/ipykernel_12753/2023940112.py:23: FutureWarning: The frame.append method is deprecated and will be removed from pandas in a future version. Use pandas.concat instead.\n",
      "  df = df.append(pd.read_html(html, header=0)[0])\n",
      "/var/folders/nh/3q0vdk7s383d4t34nv4_q89m0000gn/T/ipykernel_12753/2023940112.py:23: FutureWarning: The frame.append method is deprecated and will be removed from pandas in a future version. Use pandas.concat instead.\n",
      "  df = df.append(pd.read_html(html, header=0)[0])\n",
      "/var/folders/nh/3q0vdk7s383d4t34nv4_q89m0000gn/T/ipykernel_12753/2023940112.py:23: FutureWarning: The frame.append method is deprecated and will be removed from pandas in a future version. Use pandas.concat instead.\n",
      "  df = df.append(pd.read_html(html, header=0)[0])\n"
     ]
    },
    {
     "name": "stdout",
     "output_type": "stream",
     "text": [
      "101\n",
      "102\n",
      "103\n"
     ]
    },
    {
     "name": "stderr",
     "output_type": "stream",
     "text": [
      "/var/folders/nh/3q0vdk7s383d4t34nv4_q89m0000gn/T/ipykernel_12753/2023940112.py:23: FutureWarning: The frame.append method is deprecated and will be removed from pandas in a future version. Use pandas.concat instead.\n",
      "  df = df.append(pd.read_html(html, header=0)[0])\n",
      "/var/folders/nh/3q0vdk7s383d4t34nv4_q89m0000gn/T/ipykernel_12753/2023940112.py:23: FutureWarning: The frame.append method is deprecated and will be removed from pandas in a future version. Use pandas.concat instead.\n",
      "  df = df.append(pd.read_html(html, header=0)[0])\n",
      "/var/folders/nh/3q0vdk7s383d4t34nv4_q89m0000gn/T/ipykernel_12753/2023940112.py:23: FutureWarning: The frame.append method is deprecated and will be removed from pandas in a future version. Use pandas.concat instead.\n",
      "  df = df.append(pd.read_html(html, header=0)[0])\n"
     ]
    },
    {
     "name": "stdout",
     "output_type": "stream",
     "text": [
      "104\n",
      "105\n",
      "106\n"
     ]
    },
    {
     "name": "stderr",
     "output_type": "stream",
     "text": [
      "/var/folders/nh/3q0vdk7s383d4t34nv4_q89m0000gn/T/ipykernel_12753/2023940112.py:23: FutureWarning: The frame.append method is deprecated and will be removed from pandas in a future version. Use pandas.concat instead.\n",
      "  df = df.append(pd.read_html(html, header=0)[0])\n",
      "/var/folders/nh/3q0vdk7s383d4t34nv4_q89m0000gn/T/ipykernel_12753/2023940112.py:23: FutureWarning: The frame.append method is deprecated and will be removed from pandas in a future version. Use pandas.concat instead.\n",
      "  df = df.append(pd.read_html(html, header=0)[0])\n",
      "/var/folders/nh/3q0vdk7s383d4t34nv4_q89m0000gn/T/ipykernel_12753/2023940112.py:23: FutureWarning: The frame.append method is deprecated and will be removed from pandas in a future version. Use pandas.concat instead.\n",
      "  df = df.append(pd.read_html(html, header=0)[0])\n"
     ]
    },
    {
     "name": "stdout",
     "output_type": "stream",
     "text": [
      "107\n",
      "108\n",
      "109\n"
     ]
    },
    {
     "name": "stderr",
     "output_type": "stream",
     "text": [
      "/var/folders/nh/3q0vdk7s383d4t34nv4_q89m0000gn/T/ipykernel_12753/2023940112.py:23: FutureWarning: The frame.append method is deprecated and will be removed from pandas in a future version. Use pandas.concat instead.\n",
      "  df = df.append(pd.read_html(html, header=0)[0])\n",
      "/var/folders/nh/3q0vdk7s383d4t34nv4_q89m0000gn/T/ipykernel_12753/2023940112.py:23: FutureWarning: The frame.append method is deprecated and will be removed from pandas in a future version. Use pandas.concat instead.\n",
      "  df = df.append(pd.read_html(html, header=0)[0])\n",
      "/var/folders/nh/3q0vdk7s383d4t34nv4_q89m0000gn/T/ipykernel_12753/2023940112.py:23: FutureWarning: The frame.append method is deprecated and will be removed from pandas in a future version. Use pandas.concat instead.\n",
      "  df = df.append(pd.read_html(html, header=0)[0])\n"
     ]
    },
    {
     "name": "stdout",
     "output_type": "stream",
     "text": [
      "110\n",
      "111\n",
      "112\n"
     ]
    },
    {
     "name": "stderr",
     "output_type": "stream",
     "text": [
      "/var/folders/nh/3q0vdk7s383d4t34nv4_q89m0000gn/T/ipykernel_12753/2023940112.py:23: FutureWarning: The frame.append method is deprecated and will be removed from pandas in a future version. Use pandas.concat instead.\n",
      "  df = df.append(pd.read_html(html, header=0)[0])\n",
      "/var/folders/nh/3q0vdk7s383d4t34nv4_q89m0000gn/T/ipykernel_12753/2023940112.py:23: FutureWarning: The frame.append method is deprecated and will be removed from pandas in a future version. Use pandas.concat instead.\n",
      "  df = df.append(pd.read_html(html, header=0)[0])\n",
      "/var/folders/nh/3q0vdk7s383d4t34nv4_q89m0000gn/T/ipykernel_12753/2023940112.py:23: FutureWarning: The frame.append method is deprecated and will be removed from pandas in a future version. Use pandas.concat instead.\n",
      "  df = df.append(pd.read_html(html, header=0)[0])\n"
     ]
    },
    {
     "name": "stdout",
     "output_type": "stream",
     "text": [
      "113\n",
      "114\n",
      "115\n"
     ]
    },
    {
     "name": "stderr",
     "output_type": "stream",
     "text": [
      "/var/folders/nh/3q0vdk7s383d4t34nv4_q89m0000gn/T/ipykernel_12753/2023940112.py:23: FutureWarning: The frame.append method is deprecated and will be removed from pandas in a future version. Use pandas.concat instead.\n",
      "  df = df.append(pd.read_html(html, header=0)[0])\n",
      "/var/folders/nh/3q0vdk7s383d4t34nv4_q89m0000gn/T/ipykernel_12753/2023940112.py:23: FutureWarning: The frame.append method is deprecated and will be removed from pandas in a future version. Use pandas.concat instead.\n",
      "  df = df.append(pd.read_html(html, header=0)[0])\n",
      "/var/folders/nh/3q0vdk7s383d4t34nv4_q89m0000gn/T/ipykernel_12753/2023940112.py:23: FutureWarning: The frame.append method is deprecated and will be removed from pandas in a future version. Use pandas.concat instead.\n",
      "  df = df.append(pd.read_html(html, header=0)[0])\n"
     ]
    },
    {
     "name": "stdout",
     "output_type": "stream",
     "text": [
      "116\n",
      "117\n",
      "118\n"
     ]
    },
    {
     "name": "stderr",
     "output_type": "stream",
     "text": [
      "/var/folders/nh/3q0vdk7s383d4t34nv4_q89m0000gn/T/ipykernel_12753/2023940112.py:23: FutureWarning: The frame.append method is deprecated and will be removed from pandas in a future version. Use pandas.concat instead.\n",
      "  df = df.append(pd.read_html(html, header=0)[0])\n",
      "/var/folders/nh/3q0vdk7s383d4t34nv4_q89m0000gn/T/ipykernel_12753/2023940112.py:23: FutureWarning: The frame.append method is deprecated and will be removed from pandas in a future version. Use pandas.concat instead.\n",
      "  df = df.append(pd.read_html(html, header=0)[0])\n",
      "/var/folders/nh/3q0vdk7s383d4t34nv4_q89m0000gn/T/ipykernel_12753/2023940112.py:23: FutureWarning: The frame.append method is deprecated and will be removed from pandas in a future version. Use pandas.concat instead.\n",
      "  df = df.append(pd.read_html(html, header=0)[0])\n"
     ]
    },
    {
     "name": "stdout",
     "output_type": "stream",
     "text": [
      "119\n",
      "120\n",
      "121\n"
     ]
    },
    {
     "name": "stderr",
     "output_type": "stream",
     "text": [
      "/var/folders/nh/3q0vdk7s383d4t34nv4_q89m0000gn/T/ipykernel_12753/2023940112.py:23: FutureWarning: The frame.append method is deprecated and will be removed from pandas in a future version. Use pandas.concat instead.\n",
      "  df = df.append(pd.read_html(html, header=0)[0])\n",
      "/var/folders/nh/3q0vdk7s383d4t34nv4_q89m0000gn/T/ipykernel_12753/2023940112.py:23: FutureWarning: The frame.append method is deprecated and will be removed from pandas in a future version. Use pandas.concat instead.\n",
      "  df = df.append(pd.read_html(html, header=0)[0])\n",
      "/var/folders/nh/3q0vdk7s383d4t34nv4_q89m0000gn/T/ipykernel_12753/2023940112.py:23: FutureWarning: The frame.append method is deprecated and will be removed from pandas in a future version. Use pandas.concat instead.\n",
      "  df = df.append(pd.read_html(html, header=0)[0])\n"
     ]
    },
    {
     "name": "stdout",
     "output_type": "stream",
     "text": [
      "122\n",
      "123\n",
      "124\n"
     ]
    },
    {
     "name": "stderr",
     "output_type": "stream",
     "text": [
      "/var/folders/nh/3q0vdk7s383d4t34nv4_q89m0000gn/T/ipykernel_12753/2023940112.py:23: FutureWarning: The frame.append method is deprecated and will be removed from pandas in a future version. Use pandas.concat instead.\n",
      "  df = df.append(pd.read_html(html, header=0)[0])\n",
      "/var/folders/nh/3q0vdk7s383d4t34nv4_q89m0000gn/T/ipykernel_12753/2023940112.py:23: FutureWarning: The frame.append method is deprecated and will be removed from pandas in a future version. Use pandas.concat instead.\n",
      "  df = df.append(pd.read_html(html, header=0)[0])\n",
      "/var/folders/nh/3q0vdk7s383d4t34nv4_q89m0000gn/T/ipykernel_12753/2023940112.py:23: FutureWarning: The frame.append method is deprecated and will be removed from pandas in a future version. Use pandas.concat instead.\n",
      "  df = df.append(pd.read_html(html, header=0)[0])\n"
     ]
    },
    {
     "name": "stdout",
     "output_type": "stream",
     "text": [
      "125\n",
      "126\n",
      "127\n"
     ]
    },
    {
     "name": "stderr",
     "output_type": "stream",
     "text": [
      "/var/folders/nh/3q0vdk7s383d4t34nv4_q89m0000gn/T/ipykernel_12753/2023940112.py:23: FutureWarning: The frame.append method is deprecated and will be removed from pandas in a future version. Use pandas.concat instead.\n",
      "  df = df.append(pd.read_html(html, header=0)[0])\n",
      "/var/folders/nh/3q0vdk7s383d4t34nv4_q89m0000gn/T/ipykernel_12753/2023940112.py:23: FutureWarning: The frame.append method is deprecated and will be removed from pandas in a future version. Use pandas.concat instead.\n",
      "  df = df.append(pd.read_html(html, header=0)[0])\n",
      "/var/folders/nh/3q0vdk7s383d4t34nv4_q89m0000gn/T/ipykernel_12753/2023940112.py:23: FutureWarning: The frame.append method is deprecated and will be removed from pandas in a future version. Use pandas.concat instead.\n",
      "  df = df.append(pd.read_html(html, header=0)[0])\n"
     ]
    },
    {
     "name": "stdout",
     "output_type": "stream",
     "text": [
      "128\n",
      "129\n",
      "130\n"
     ]
    },
    {
     "name": "stderr",
     "output_type": "stream",
     "text": [
      "/var/folders/nh/3q0vdk7s383d4t34nv4_q89m0000gn/T/ipykernel_12753/2023940112.py:23: FutureWarning: The frame.append method is deprecated and will be removed from pandas in a future version. Use pandas.concat instead.\n",
      "  df = df.append(pd.read_html(html, header=0)[0])\n",
      "/var/folders/nh/3q0vdk7s383d4t34nv4_q89m0000gn/T/ipykernel_12753/2023940112.py:23: FutureWarning: The frame.append method is deprecated and will be removed from pandas in a future version. Use pandas.concat instead.\n",
      "  df = df.append(pd.read_html(html, header=0)[0])\n",
      "/var/folders/nh/3q0vdk7s383d4t34nv4_q89m0000gn/T/ipykernel_12753/2023940112.py:23: FutureWarning: The frame.append method is deprecated and will be removed from pandas in a future version. Use pandas.concat instead.\n",
      "  df = df.append(pd.read_html(html, header=0)[0])\n"
     ]
    },
    {
     "name": "stdout",
     "output_type": "stream",
     "text": [
      "131\n",
      "132\n",
      "133\n"
     ]
    },
    {
     "name": "stderr",
     "output_type": "stream",
     "text": [
      "/var/folders/nh/3q0vdk7s383d4t34nv4_q89m0000gn/T/ipykernel_12753/2023940112.py:23: FutureWarning: The frame.append method is deprecated and will be removed from pandas in a future version. Use pandas.concat instead.\n",
      "  df = df.append(pd.read_html(html, header=0)[0])\n",
      "/var/folders/nh/3q0vdk7s383d4t34nv4_q89m0000gn/T/ipykernel_12753/2023940112.py:23: FutureWarning: The frame.append method is deprecated and will be removed from pandas in a future version. Use pandas.concat instead.\n",
      "  df = df.append(pd.read_html(html, header=0)[0])\n",
      "/var/folders/nh/3q0vdk7s383d4t34nv4_q89m0000gn/T/ipykernel_12753/2023940112.py:23: FutureWarning: The frame.append method is deprecated and will be removed from pandas in a future version. Use pandas.concat instead.\n",
      "  df = df.append(pd.read_html(html, header=0)[0])\n"
     ]
    },
    {
     "name": "stdout",
     "output_type": "stream",
     "text": [
      "134\n",
      "135\n",
      "136\n"
     ]
    },
    {
     "name": "stderr",
     "output_type": "stream",
     "text": [
      "/var/folders/nh/3q0vdk7s383d4t34nv4_q89m0000gn/T/ipykernel_12753/2023940112.py:23: FutureWarning: The frame.append method is deprecated and will be removed from pandas in a future version. Use pandas.concat instead.\n",
      "  df = df.append(pd.read_html(html, header=0)[0])\n",
      "/var/folders/nh/3q0vdk7s383d4t34nv4_q89m0000gn/T/ipykernel_12753/2023940112.py:23: FutureWarning: The frame.append method is deprecated and will be removed from pandas in a future version. Use pandas.concat instead.\n",
      "  df = df.append(pd.read_html(html, header=0)[0])\n"
     ]
    },
    {
     "name": "stdout",
     "output_type": "stream",
     "text": [
      "137\n",
      "138\n"
     ]
    },
    {
     "name": "stderr",
     "output_type": "stream",
     "text": [
      "/var/folders/nh/3q0vdk7s383d4t34nv4_q89m0000gn/T/ipykernel_12753/2023940112.py:23: FutureWarning: The frame.append method is deprecated and will be removed from pandas in a future version. Use pandas.concat instead.\n",
      "  df = df.append(pd.read_html(html, header=0)[0])\n",
      "/var/folders/nh/3q0vdk7s383d4t34nv4_q89m0000gn/T/ipykernel_12753/2023940112.py:23: FutureWarning: The frame.append method is deprecated and will be removed from pandas in a future version. Use pandas.concat instead.\n",
      "  df = df.append(pd.read_html(html, header=0)[0])\n",
      "/var/folders/nh/3q0vdk7s383d4t34nv4_q89m0000gn/T/ipykernel_12753/2023940112.py:23: FutureWarning: The frame.append method is deprecated and will be removed from pandas in a future version. Use pandas.concat instead.\n",
      "  df = df.append(pd.read_html(html, header=0)[0])\n"
     ]
    },
    {
     "name": "stdout",
     "output_type": "stream",
     "text": [
      "139\n",
      "140\n",
      "141\n"
     ]
    },
    {
     "name": "stderr",
     "output_type": "stream",
     "text": [
      "/var/folders/nh/3q0vdk7s383d4t34nv4_q89m0000gn/T/ipykernel_12753/2023940112.py:23: FutureWarning: The frame.append method is deprecated and will be removed from pandas in a future version. Use pandas.concat instead.\n",
      "  df = df.append(pd.read_html(html, header=0)[0])\n",
      "/var/folders/nh/3q0vdk7s383d4t34nv4_q89m0000gn/T/ipykernel_12753/2023940112.py:23: FutureWarning: The frame.append method is deprecated and will be removed from pandas in a future version. Use pandas.concat instead.\n",
      "  df = df.append(pd.read_html(html, header=0)[0])\n",
      "/var/folders/nh/3q0vdk7s383d4t34nv4_q89m0000gn/T/ipykernel_12753/2023940112.py:23: FutureWarning: The frame.append method is deprecated and will be removed from pandas in a future version. Use pandas.concat instead.\n",
      "  df = df.append(pd.read_html(html, header=0)[0])\n"
     ]
    },
    {
     "name": "stdout",
     "output_type": "stream",
     "text": [
      "142\n",
      "143\n",
      "144\n"
     ]
    },
    {
     "name": "stderr",
     "output_type": "stream",
     "text": [
      "/var/folders/nh/3q0vdk7s383d4t34nv4_q89m0000gn/T/ipykernel_12753/2023940112.py:23: FutureWarning: The frame.append method is deprecated and will be removed from pandas in a future version. Use pandas.concat instead.\n",
      "  df = df.append(pd.read_html(html, header=0)[0])\n",
      "/var/folders/nh/3q0vdk7s383d4t34nv4_q89m0000gn/T/ipykernel_12753/2023940112.py:23: FutureWarning: The frame.append method is deprecated and will be removed from pandas in a future version. Use pandas.concat instead.\n",
      "  df = df.append(pd.read_html(html, header=0)[0])\n",
      "/var/folders/nh/3q0vdk7s383d4t34nv4_q89m0000gn/T/ipykernel_12753/2023940112.py:23: FutureWarning: The frame.append method is deprecated and will be removed from pandas in a future version. Use pandas.concat instead.\n",
      "  df = df.append(pd.read_html(html, header=0)[0])\n"
     ]
    },
    {
     "name": "stdout",
     "output_type": "stream",
     "text": [
      "145\n",
      "146\n",
      "147\n"
     ]
    },
    {
     "name": "stderr",
     "output_type": "stream",
     "text": [
      "/var/folders/nh/3q0vdk7s383d4t34nv4_q89m0000gn/T/ipykernel_12753/2023940112.py:23: FutureWarning: The frame.append method is deprecated and will be removed from pandas in a future version. Use pandas.concat instead.\n",
      "  df = df.append(pd.read_html(html, header=0)[0])\n",
      "/var/folders/nh/3q0vdk7s383d4t34nv4_q89m0000gn/T/ipykernel_12753/2023940112.py:23: FutureWarning: The frame.append method is deprecated and will be removed from pandas in a future version. Use pandas.concat instead.\n",
      "  df = df.append(pd.read_html(html, header=0)[0])\n",
      "/var/folders/nh/3q0vdk7s383d4t34nv4_q89m0000gn/T/ipykernel_12753/2023940112.py:23: FutureWarning: The frame.append method is deprecated and will be removed from pandas in a future version. Use pandas.concat instead.\n",
      "  df = df.append(pd.read_html(html, header=0)[0])\n"
     ]
    },
    {
     "name": "stdout",
     "output_type": "stream",
     "text": [
      "148\n",
      "149\n",
      "150\n"
     ]
    },
    {
     "name": "stderr",
     "output_type": "stream",
     "text": [
      "/var/folders/nh/3q0vdk7s383d4t34nv4_q89m0000gn/T/ipykernel_12753/2023940112.py:23: FutureWarning: The frame.append method is deprecated and will be removed from pandas in a future version. Use pandas.concat instead.\n",
      "  df = df.append(pd.read_html(html, header=0)[0])\n",
      "/var/folders/nh/3q0vdk7s383d4t34nv4_q89m0000gn/T/ipykernel_12753/2023940112.py:23: FutureWarning: The frame.append method is deprecated and will be removed from pandas in a future version. Use pandas.concat instead.\n",
      "  df = df.append(pd.read_html(html, header=0)[0])\n",
      "/var/folders/nh/3q0vdk7s383d4t34nv4_q89m0000gn/T/ipykernel_12753/2023940112.py:23: FutureWarning: The frame.append method is deprecated and will be removed from pandas in a future version. Use pandas.concat instead.\n",
      "  df = df.append(pd.read_html(html, header=0)[0])\n"
     ]
    },
    {
     "name": "stdout",
     "output_type": "stream",
     "text": [
      "151\n",
      "152\n",
      "153\n"
     ]
    },
    {
     "name": "stderr",
     "output_type": "stream",
     "text": [
      "/var/folders/nh/3q0vdk7s383d4t34nv4_q89m0000gn/T/ipykernel_12753/2023940112.py:23: FutureWarning: The frame.append method is deprecated and will be removed from pandas in a future version. Use pandas.concat instead.\n",
      "  df = df.append(pd.read_html(html, header=0)[0])\n",
      "/var/folders/nh/3q0vdk7s383d4t34nv4_q89m0000gn/T/ipykernel_12753/2023940112.py:23: FutureWarning: The frame.append method is deprecated and will be removed from pandas in a future version. Use pandas.concat instead.\n",
      "  df = df.append(pd.read_html(html, header=0)[0])\n",
      "/var/folders/nh/3q0vdk7s383d4t34nv4_q89m0000gn/T/ipykernel_12753/2023940112.py:23: FutureWarning: The frame.append method is deprecated and will be removed from pandas in a future version. Use pandas.concat instead.\n",
      "  df = df.append(pd.read_html(html, header=0)[0])\n"
     ]
    },
    {
     "name": "stdout",
     "output_type": "stream",
     "text": [
      "154\n",
      "155\n",
      "156\n"
     ]
    },
    {
     "name": "stderr",
     "output_type": "stream",
     "text": [
      "/var/folders/nh/3q0vdk7s383d4t34nv4_q89m0000gn/T/ipykernel_12753/2023940112.py:23: FutureWarning: The frame.append method is deprecated and will be removed from pandas in a future version. Use pandas.concat instead.\n",
      "  df = df.append(pd.read_html(html, header=0)[0])\n",
      "/var/folders/nh/3q0vdk7s383d4t34nv4_q89m0000gn/T/ipykernel_12753/2023940112.py:23: FutureWarning: The frame.append method is deprecated and will be removed from pandas in a future version. Use pandas.concat instead.\n",
      "  df = df.append(pd.read_html(html, header=0)[0])\n",
      "/var/folders/nh/3q0vdk7s383d4t34nv4_q89m0000gn/T/ipykernel_12753/2023940112.py:23: FutureWarning: The frame.append method is deprecated and will be removed from pandas in a future version. Use pandas.concat instead.\n",
      "  df = df.append(pd.read_html(html, header=0)[0])\n"
     ]
    },
    {
     "name": "stdout",
     "output_type": "stream",
     "text": [
      "157\n",
      "158\n",
      "159\n"
     ]
    },
    {
     "name": "stderr",
     "output_type": "stream",
     "text": [
      "/var/folders/nh/3q0vdk7s383d4t34nv4_q89m0000gn/T/ipykernel_12753/2023940112.py:23: FutureWarning: The frame.append method is deprecated and will be removed from pandas in a future version. Use pandas.concat instead.\n",
      "  df = df.append(pd.read_html(html, header=0)[0])\n",
      "/var/folders/nh/3q0vdk7s383d4t34nv4_q89m0000gn/T/ipykernel_12753/2023940112.py:23: FutureWarning: The frame.append method is deprecated and will be removed from pandas in a future version. Use pandas.concat instead.\n",
      "  df = df.append(pd.read_html(html, header=0)[0])\n",
      "/var/folders/nh/3q0vdk7s383d4t34nv4_q89m0000gn/T/ipykernel_12753/2023940112.py:23: FutureWarning: The frame.append method is deprecated and will be removed from pandas in a future version. Use pandas.concat instead.\n",
      "  df = df.append(pd.read_html(html, header=0)[0])\n"
     ]
    },
    {
     "name": "stdout",
     "output_type": "stream",
     "text": [
      "160\n",
      "161\n",
      "162\n"
     ]
    },
    {
     "name": "stderr",
     "output_type": "stream",
     "text": [
      "/var/folders/nh/3q0vdk7s383d4t34nv4_q89m0000gn/T/ipykernel_12753/2023940112.py:23: FutureWarning: The frame.append method is deprecated and will be removed from pandas in a future version. Use pandas.concat instead.\n",
      "  df = df.append(pd.read_html(html, header=0)[0])\n",
      "/var/folders/nh/3q0vdk7s383d4t34nv4_q89m0000gn/T/ipykernel_12753/2023940112.py:23: FutureWarning: The frame.append method is deprecated and will be removed from pandas in a future version. Use pandas.concat instead.\n",
      "  df = df.append(pd.read_html(html, header=0)[0])\n",
      "/var/folders/nh/3q0vdk7s383d4t34nv4_q89m0000gn/T/ipykernel_12753/2023940112.py:23: FutureWarning: The frame.append method is deprecated and will be removed from pandas in a future version. Use pandas.concat instead.\n",
      "  df = df.append(pd.read_html(html, header=0)[0])\n"
     ]
    },
    {
     "name": "stdout",
     "output_type": "stream",
     "text": [
      "163\n",
      "164\n",
      "165\n"
     ]
    },
    {
     "name": "stderr",
     "output_type": "stream",
     "text": [
      "/var/folders/nh/3q0vdk7s383d4t34nv4_q89m0000gn/T/ipykernel_12753/2023940112.py:23: FutureWarning: The frame.append method is deprecated and will be removed from pandas in a future version. Use pandas.concat instead.\n",
      "  df = df.append(pd.read_html(html, header=0)[0])\n",
      "/var/folders/nh/3q0vdk7s383d4t34nv4_q89m0000gn/T/ipykernel_12753/2023940112.py:23: FutureWarning: The frame.append method is deprecated and will be removed from pandas in a future version. Use pandas.concat instead.\n",
      "  df = df.append(pd.read_html(html, header=0)[0])\n",
      "/var/folders/nh/3q0vdk7s383d4t34nv4_q89m0000gn/T/ipykernel_12753/2023940112.py:23: FutureWarning: The frame.append method is deprecated and will be removed from pandas in a future version. Use pandas.concat instead.\n",
      "  df = df.append(pd.read_html(html, header=0)[0])\n"
     ]
    },
    {
     "name": "stdout",
     "output_type": "stream",
     "text": [
      "166\n",
      "167\n",
      "168\n"
     ]
    },
    {
     "name": "stderr",
     "output_type": "stream",
     "text": [
      "/var/folders/nh/3q0vdk7s383d4t34nv4_q89m0000gn/T/ipykernel_12753/2023940112.py:23: FutureWarning: The frame.append method is deprecated and will be removed from pandas in a future version. Use pandas.concat instead.\n",
      "  df = df.append(pd.read_html(html, header=0)[0])\n",
      "/var/folders/nh/3q0vdk7s383d4t34nv4_q89m0000gn/T/ipykernel_12753/2023940112.py:23: FutureWarning: The frame.append method is deprecated and will be removed from pandas in a future version. Use pandas.concat instead.\n",
      "  df = df.append(pd.read_html(html, header=0)[0])\n",
      "/var/folders/nh/3q0vdk7s383d4t34nv4_q89m0000gn/T/ipykernel_12753/2023940112.py:23: FutureWarning: The frame.append method is deprecated and will be removed from pandas in a future version. Use pandas.concat instead.\n",
      "  df = df.append(pd.read_html(html, header=0)[0])\n"
     ]
    },
    {
     "name": "stdout",
     "output_type": "stream",
     "text": [
      "169\n",
      "170\n",
      "171\n"
     ]
    },
    {
     "name": "stderr",
     "output_type": "stream",
     "text": [
      "/var/folders/nh/3q0vdk7s383d4t34nv4_q89m0000gn/T/ipykernel_12753/2023940112.py:23: FutureWarning: The frame.append method is deprecated and will be removed from pandas in a future version. Use pandas.concat instead.\n",
      "  df = df.append(pd.read_html(html, header=0)[0])\n",
      "/var/folders/nh/3q0vdk7s383d4t34nv4_q89m0000gn/T/ipykernel_12753/2023940112.py:23: FutureWarning: The frame.append method is deprecated and will be removed from pandas in a future version. Use pandas.concat instead.\n",
      "  df = df.append(pd.read_html(html, header=0)[0])\n",
      "/var/folders/nh/3q0vdk7s383d4t34nv4_q89m0000gn/T/ipykernel_12753/2023940112.py:23: FutureWarning: The frame.append method is deprecated and will be removed from pandas in a future version. Use pandas.concat instead.\n",
      "  df = df.append(pd.read_html(html, header=0)[0])\n"
     ]
    },
    {
     "name": "stdout",
     "output_type": "stream",
     "text": [
      "172\n",
      "173\n",
      "174\n"
     ]
    },
    {
     "name": "stderr",
     "output_type": "stream",
     "text": [
      "/var/folders/nh/3q0vdk7s383d4t34nv4_q89m0000gn/T/ipykernel_12753/2023940112.py:23: FutureWarning: The frame.append method is deprecated and will be removed from pandas in a future version. Use pandas.concat instead.\n",
      "  df = df.append(pd.read_html(html, header=0)[0])\n",
      "/var/folders/nh/3q0vdk7s383d4t34nv4_q89m0000gn/T/ipykernel_12753/2023940112.py:23: FutureWarning: The frame.append method is deprecated and will be removed from pandas in a future version. Use pandas.concat instead.\n",
      "  df = df.append(pd.read_html(html, header=0)[0])\n",
      "/var/folders/nh/3q0vdk7s383d4t34nv4_q89m0000gn/T/ipykernel_12753/2023940112.py:23: FutureWarning: The frame.append method is deprecated and will be removed from pandas in a future version. Use pandas.concat instead.\n",
      "  df = df.append(pd.read_html(html, header=0)[0])\n"
     ]
    },
    {
     "name": "stdout",
     "output_type": "stream",
     "text": [
      "175\n",
      "176\n",
      "177\n"
     ]
    },
    {
     "name": "stderr",
     "output_type": "stream",
     "text": [
      "/var/folders/nh/3q0vdk7s383d4t34nv4_q89m0000gn/T/ipykernel_12753/2023940112.py:23: FutureWarning: The frame.append method is deprecated and will be removed from pandas in a future version. Use pandas.concat instead.\n",
      "  df = df.append(pd.read_html(html, header=0)[0])\n",
      "/var/folders/nh/3q0vdk7s383d4t34nv4_q89m0000gn/T/ipykernel_12753/2023940112.py:23: FutureWarning: The frame.append method is deprecated and will be removed from pandas in a future version. Use pandas.concat instead.\n",
      "  df = df.append(pd.read_html(html, header=0)[0])\n",
      "/var/folders/nh/3q0vdk7s383d4t34nv4_q89m0000gn/T/ipykernel_12753/2023940112.py:23: FutureWarning: The frame.append method is deprecated and will be removed from pandas in a future version. Use pandas.concat instead.\n",
      "  df = df.append(pd.read_html(html, header=0)[0])\n"
     ]
    },
    {
     "name": "stdout",
     "output_type": "stream",
     "text": [
      "178\n",
      "179\n",
      "180\n"
     ]
    },
    {
     "name": "stderr",
     "output_type": "stream",
     "text": [
      "/var/folders/nh/3q0vdk7s383d4t34nv4_q89m0000gn/T/ipykernel_12753/2023940112.py:23: FutureWarning: The frame.append method is deprecated and will be removed from pandas in a future version. Use pandas.concat instead.\n",
      "  df = df.append(pd.read_html(html, header=0)[0])\n",
      "/var/folders/nh/3q0vdk7s383d4t34nv4_q89m0000gn/T/ipykernel_12753/2023940112.py:23: FutureWarning: The frame.append method is deprecated and will be removed from pandas in a future version. Use pandas.concat instead.\n",
      "  df = df.append(pd.read_html(html, header=0)[0])\n",
      "/var/folders/nh/3q0vdk7s383d4t34nv4_q89m0000gn/T/ipykernel_12753/2023940112.py:23: FutureWarning: The frame.append method is deprecated and will be removed from pandas in a future version. Use pandas.concat instead.\n",
      "  df = df.append(pd.read_html(html, header=0)[0])\n"
     ]
    },
    {
     "name": "stdout",
     "output_type": "stream",
     "text": [
      "181\n",
      "182\n",
      "183\n"
     ]
    },
    {
     "name": "stderr",
     "output_type": "stream",
     "text": [
      "/var/folders/nh/3q0vdk7s383d4t34nv4_q89m0000gn/T/ipykernel_12753/2023940112.py:23: FutureWarning: The frame.append method is deprecated and will be removed from pandas in a future version. Use pandas.concat instead.\n",
      "  df = df.append(pd.read_html(html, header=0)[0])\n",
      "/var/folders/nh/3q0vdk7s383d4t34nv4_q89m0000gn/T/ipykernel_12753/2023940112.py:23: FutureWarning: The frame.append method is deprecated and will be removed from pandas in a future version. Use pandas.concat instead.\n",
      "  df = df.append(pd.read_html(html, header=0)[0])\n",
      "/var/folders/nh/3q0vdk7s383d4t34nv4_q89m0000gn/T/ipykernel_12753/2023940112.py:23: FutureWarning: The frame.append method is deprecated and will be removed from pandas in a future version. Use pandas.concat instead.\n",
      "  df = df.append(pd.read_html(html, header=0)[0])\n"
     ]
    },
    {
     "name": "stdout",
     "output_type": "stream",
     "text": [
      "184\n",
      "185\n",
      "186\n"
     ]
    },
    {
     "name": "stderr",
     "output_type": "stream",
     "text": [
      "/var/folders/nh/3q0vdk7s383d4t34nv4_q89m0000gn/T/ipykernel_12753/2023940112.py:23: FutureWarning: The frame.append method is deprecated and will be removed from pandas in a future version. Use pandas.concat instead.\n",
      "  df = df.append(pd.read_html(html, header=0)[0])\n",
      "/var/folders/nh/3q0vdk7s383d4t34nv4_q89m0000gn/T/ipykernel_12753/2023940112.py:23: FutureWarning: The frame.append method is deprecated and will be removed from pandas in a future version. Use pandas.concat instead.\n",
      "  df = df.append(pd.read_html(html, header=0)[0])\n",
      "/var/folders/nh/3q0vdk7s383d4t34nv4_q89m0000gn/T/ipykernel_12753/2023940112.py:23: FutureWarning: The frame.append method is deprecated and will be removed from pandas in a future version. Use pandas.concat instead.\n",
      "  df = df.append(pd.read_html(html, header=0)[0])\n"
     ]
    },
    {
     "name": "stdout",
     "output_type": "stream",
     "text": [
      "187\n",
      "188\n",
      "189\n"
     ]
    },
    {
     "name": "stderr",
     "output_type": "stream",
     "text": [
      "/var/folders/nh/3q0vdk7s383d4t34nv4_q89m0000gn/T/ipykernel_12753/2023940112.py:23: FutureWarning: The frame.append method is deprecated and will be removed from pandas in a future version. Use pandas.concat instead.\n",
      "  df = df.append(pd.read_html(html, header=0)[0])\n",
      "/var/folders/nh/3q0vdk7s383d4t34nv4_q89m0000gn/T/ipykernel_12753/2023940112.py:23: FutureWarning: The frame.append method is deprecated and will be removed from pandas in a future version. Use pandas.concat instead.\n",
      "  df = df.append(pd.read_html(html, header=0)[0])\n",
      "/var/folders/nh/3q0vdk7s383d4t34nv4_q89m0000gn/T/ipykernel_12753/2023940112.py:23: FutureWarning: The frame.append method is deprecated and will be removed from pandas in a future version. Use pandas.concat instead.\n",
      "  df = df.append(pd.read_html(html, header=0)[0])\n"
     ]
    },
    {
     "name": "stdout",
     "output_type": "stream",
     "text": [
      "190\n",
      "191\n",
      "192\n"
     ]
    },
    {
     "name": "stderr",
     "output_type": "stream",
     "text": [
      "/var/folders/nh/3q0vdk7s383d4t34nv4_q89m0000gn/T/ipykernel_12753/2023940112.py:23: FutureWarning: The frame.append method is deprecated and will be removed from pandas in a future version. Use pandas.concat instead.\n",
      "  df = df.append(pd.read_html(html, header=0)[0])\n",
      "/var/folders/nh/3q0vdk7s383d4t34nv4_q89m0000gn/T/ipykernel_12753/2023940112.py:23: FutureWarning: The frame.append method is deprecated and will be removed from pandas in a future version. Use pandas.concat instead.\n",
      "  df = df.append(pd.read_html(html, header=0)[0])\n",
      "/var/folders/nh/3q0vdk7s383d4t34nv4_q89m0000gn/T/ipykernel_12753/2023940112.py:23: FutureWarning: The frame.append method is deprecated and will be removed from pandas in a future version. Use pandas.concat instead.\n",
      "  df = df.append(pd.read_html(html, header=0)[0])\n"
     ]
    },
    {
     "name": "stdout",
     "output_type": "stream",
     "text": [
      "193\n",
      "194\n",
      "195\n"
     ]
    },
    {
     "name": "stderr",
     "output_type": "stream",
     "text": [
      "/var/folders/nh/3q0vdk7s383d4t34nv4_q89m0000gn/T/ipykernel_12753/2023940112.py:23: FutureWarning: The frame.append method is deprecated and will be removed from pandas in a future version. Use pandas.concat instead.\n",
      "  df = df.append(pd.read_html(html, header=0)[0])\n",
      "/var/folders/nh/3q0vdk7s383d4t34nv4_q89m0000gn/T/ipykernel_12753/2023940112.py:23: FutureWarning: The frame.append method is deprecated and will be removed from pandas in a future version. Use pandas.concat instead.\n",
      "  df = df.append(pd.read_html(html, header=0)[0])\n",
      "/var/folders/nh/3q0vdk7s383d4t34nv4_q89m0000gn/T/ipykernel_12753/2023940112.py:23: FutureWarning: The frame.append method is deprecated and will be removed from pandas in a future version. Use pandas.concat instead.\n",
      "  df = df.append(pd.read_html(html, header=0)[0])\n"
     ]
    },
    {
     "name": "stdout",
     "output_type": "stream",
     "text": [
      "196\n",
      "197\n",
      "198\n"
     ]
    },
    {
     "name": "stderr",
     "output_type": "stream",
     "text": [
      "/var/folders/nh/3q0vdk7s383d4t34nv4_q89m0000gn/T/ipykernel_12753/2023940112.py:23: FutureWarning: The frame.append method is deprecated and will be removed from pandas in a future version. Use pandas.concat instead.\n",
      "  df = df.append(pd.read_html(html, header=0)[0])\n",
      "/var/folders/nh/3q0vdk7s383d4t34nv4_q89m0000gn/T/ipykernel_12753/2023940112.py:23: FutureWarning: The frame.append method is deprecated and will be removed from pandas in a future version. Use pandas.concat instead.\n",
      "  df = df.append(pd.read_html(html, header=0)[0])\n",
      "/var/folders/nh/3q0vdk7s383d4t34nv4_q89m0000gn/T/ipykernel_12753/2023940112.py:23: FutureWarning: The frame.append method is deprecated and will be removed from pandas in a future version. Use pandas.concat instead.\n",
      "  df = df.append(pd.read_html(html, header=0)[0])\n"
     ]
    },
    {
     "name": "stdout",
     "output_type": "stream",
     "text": [
      "199\n",
      "200\n",
      "201\n"
     ]
    },
    {
     "name": "stderr",
     "output_type": "stream",
     "text": [
      "/var/folders/nh/3q0vdk7s383d4t34nv4_q89m0000gn/T/ipykernel_12753/2023940112.py:23: FutureWarning: The frame.append method is deprecated and will be removed from pandas in a future version. Use pandas.concat instead.\n",
      "  df = df.append(pd.read_html(html, header=0)[0])\n",
      "/var/folders/nh/3q0vdk7s383d4t34nv4_q89m0000gn/T/ipykernel_12753/2023940112.py:23: FutureWarning: The frame.append method is deprecated and will be removed from pandas in a future version. Use pandas.concat instead.\n",
      "  df = df.append(pd.read_html(html, header=0)[0])\n",
      "/var/folders/nh/3q0vdk7s383d4t34nv4_q89m0000gn/T/ipykernel_12753/2023940112.py:23: FutureWarning: The frame.append method is deprecated and will be removed from pandas in a future version. Use pandas.concat instead.\n",
      "  df = df.append(pd.read_html(html, header=0)[0])\n"
     ]
    },
    {
     "name": "stdout",
     "output_type": "stream",
     "text": [
      "202\n",
      "203\n",
      "204\n"
     ]
    },
    {
     "name": "stderr",
     "output_type": "stream",
     "text": [
      "/var/folders/nh/3q0vdk7s383d4t34nv4_q89m0000gn/T/ipykernel_12753/2023940112.py:23: FutureWarning: The frame.append method is deprecated and will be removed from pandas in a future version. Use pandas.concat instead.\n",
      "  df = df.append(pd.read_html(html, header=0)[0])\n",
      "/var/folders/nh/3q0vdk7s383d4t34nv4_q89m0000gn/T/ipykernel_12753/2023940112.py:23: FutureWarning: The frame.append method is deprecated and will be removed from pandas in a future version. Use pandas.concat instead.\n",
      "  df = df.append(pd.read_html(html, header=0)[0])\n",
      "/var/folders/nh/3q0vdk7s383d4t34nv4_q89m0000gn/T/ipykernel_12753/2023940112.py:23: FutureWarning: The frame.append method is deprecated and will be removed from pandas in a future version. Use pandas.concat instead.\n",
      "  df = df.append(pd.read_html(html, header=0)[0])\n"
     ]
    },
    {
     "name": "stdout",
     "output_type": "stream",
     "text": [
      "205\n",
      "206\n",
      "207\n"
     ]
    },
    {
     "name": "stderr",
     "output_type": "stream",
     "text": [
      "/var/folders/nh/3q0vdk7s383d4t34nv4_q89m0000gn/T/ipykernel_12753/2023940112.py:23: FutureWarning: The frame.append method is deprecated and will be removed from pandas in a future version. Use pandas.concat instead.\n",
      "  df = df.append(pd.read_html(html, header=0)[0])\n",
      "/var/folders/nh/3q0vdk7s383d4t34nv4_q89m0000gn/T/ipykernel_12753/2023940112.py:23: FutureWarning: The frame.append method is deprecated and will be removed from pandas in a future version. Use pandas.concat instead.\n",
      "  df = df.append(pd.read_html(html, header=0)[0])\n",
      "/var/folders/nh/3q0vdk7s383d4t34nv4_q89m0000gn/T/ipykernel_12753/2023940112.py:23: FutureWarning: The frame.append method is deprecated and will be removed from pandas in a future version. Use pandas.concat instead.\n",
      "  df = df.append(pd.read_html(html, header=0)[0])\n"
     ]
    },
    {
     "name": "stdout",
     "output_type": "stream",
     "text": [
      "208\n",
      "209\n",
      "210\n"
     ]
    },
    {
     "name": "stderr",
     "output_type": "stream",
     "text": [
      "/var/folders/nh/3q0vdk7s383d4t34nv4_q89m0000gn/T/ipykernel_12753/2023940112.py:23: FutureWarning: The frame.append method is deprecated and will be removed from pandas in a future version. Use pandas.concat instead.\n",
      "  df = df.append(pd.read_html(html, header=0)[0])\n",
      "/var/folders/nh/3q0vdk7s383d4t34nv4_q89m0000gn/T/ipykernel_12753/2023940112.py:23: FutureWarning: The frame.append method is deprecated and will be removed from pandas in a future version. Use pandas.concat instead.\n",
      "  df = df.append(pd.read_html(html, header=0)[0])\n",
      "/var/folders/nh/3q0vdk7s383d4t34nv4_q89m0000gn/T/ipykernel_12753/2023940112.py:23: FutureWarning: The frame.append method is deprecated and will be removed from pandas in a future version. Use pandas.concat instead.\n",
      "  df = df.append(pd.read_html(html, header=0)[0])\n"
     ]
    },
    {
     "name": "stdout",
     "output_type": "stream",
     "text": [
      "211\n",
      "212\n",
      "213\n"
     ]
    },
    {
     "name": "stderr",
     "output_type": "stream",
     "text": [
      "/var/folders/nh/3q0vdk7s383d4t34nv4_q89m0000gn/T/ipykernel_12753/2023940112.py:23: FutureWarning: The frame.append method is deprecated and will be removed from pandas in a future version. Use pandas.concat instead.\n",
      "  df = df.append(pd.read_html(html, header=0)[0])\n",
      "/var/folders/nh/3q0vdk7s383d4t34nv4_q89m0000gn/T/ipykernel_12753/2023940112.py:23: FutureWarning: The frame.append method is deprecated and will be removed from pandas in a future version. Use pandas.concat instead.\n",
      "  df = df.append(pd.read_html(html, header=0)[0])\n",
      "/var/folders/nh/3q0vdk7s383d4t34nv4_q89m0000gn/T/ipykernel_12753/2023940112.py:23: FutureWarning: The frame.append method is deprecated and will be removed from pandas in a future version. Use pandas.concat instead.\n",
      "  df = df.append(pd.read_html(html, header=0)[0])\n"
     ]
    },
    {
     "name": "stdout",
     "output_type": "stream",
     "text": [
      "214\n",
      "215\n",
      "216\n"
     ]
    },
    {
     "name": "stderr",
     "output_type": "stream",
     "text": [
      "/var/folders/nh/3q0vdk7s383d4t34nv4_q89m0000gn/T/ipykernel_12753/2023940112.py:23: FutureWarning: The frame.append method is deprecated and will be removed from pandas in a future version. Use pandas.concat instead.\n",
      "  df = df.append(pd.read_html(html, header=0)[0])\n",
      "/var/folders/nh/3q0vdk7s383d4t34nv4_q89m0000gn/T/ipykernel_12753/2023940112.py:23: FutureWarning: The frame.append method is deprecated and will be removed from pandas in a future version. Use pandas.concat instead.\n",
      "  df = df.append(pd.read_html(html, header=0)[0])\n",
      "/var/folders/nh/3q0vdk7s383d4t34nv4_q89m0000gn/T/ipykernel_12753/2023940112.py:23: FutureWarning: The frame.append method is deprecated and will be removed from pandas in a future version. Use pandas.concat instead.\n",
      "  df = df.append(pd.read_html(html, header=0)[0])\n"
     ]
    },
    {
     "name": "stdout",
     "output_type": "stream",
     "text": [
      "217\n",
      "218\n",
      "219\n"
     ]
    },
    {
     "name": "stderr",
     "output_type": "stream",
     "text": [
      "/var/folders/nh/3q0vdk7s383d4t34nv4_q89m0000gn/T/ipykernel_12753/2023940112.py:23: FutureWarning: The frame.append method is deprecated and will be removed from pandas in a future version. Use pandas.concat instead.\n",
      "  df = df.append(pd.read_html(html, header=0)[0])\n",
      "/var/folders/nh/3q0vdk7s383d4t34nv4_q89m0000gn/T/ipykernel_12753/2023940112.py:23: FutureWarning: The frame.append method is deprecated and will be removed from pandas in a future version. Use pandas.concat instead.\n",
      "  df = df.append(pd.read_html(html, header=0)[0])\n",
      "/var/folders/nh/3q0vdk7s383d4t34nv4_q89m0000gn/T/ipykernel_12753/2023940112.py:23: FutureWarning: The frame.append method is deprecated and will be removed from pandas in a future version. Use pandas.concat instead.\n",
      "  df = df.append(pd.read_html(html, header=0)[0])\n"
     ]
    },
    {
     "name": "stdout",
     "output_type": "stream",
     "text": [
      "220\n",
      "221\n",
      "222\n"
     ]
    },
    {
     "name": "stderr",
     "output_type": "stream",
     "text": [
      "/var/folders/nh/3q0vdk7s383d4t34nv4_q89m0000gn/T/ipykernel_12753/2023940112.py:23: FutureWarning: The frame.append method is deprecated and will be removed from pandas in a future version. Use pandas.concat instead.\n",
      "  df = df.append(pd.read_html(html, header=0)[0])\n",
      "/var/folders/nh/3q0vdk7s383d4t34nv4_q89m0000gn/T/ipykernel_12753/2023940112.py:23: FutureWarning: The frame.append method is deprecated and will be removed from pandas in a future version. Use pandas.concat instead.\n",
      "  df = df.append(pd.read_html(html, header=0)[0])\n",
      "/var/folders/nh/3q0vdk7s383d4t34nv4_q89m0000gn/T/ipykernel_12753/2023940112.py:23: FutureWarning: The frame.append method is deprecated and will be removed from pandas in a future version. Use pandas.concat instead.\n",
      "  df = df.append(pd.read_html(html, header=0)[0])\n"
     ]
    },
    {
     "name": "stdout",
     "output_type": "stream",
     "text": [
      "223\n",
      "224\n",
      "225\n"
     ]
    },
    {
     "name": "stderr",
     "output_type": "stream",
     "text": [
      "/var/folders/nh/3q0vdk7s383d4t34nv4_q89m0000gn/T/ipykernel_12753/2023940112.py:23: FutureWarning: The frame.append method is deprecated and will be removed from pandas in a future version. Use pandas.concat instead.\n",
      "  df = df.append(pd.read_html(html, header=0)[0])\n",
      "/var/folders/nh/3q0vdk7s383d4t34nv4_q89m0000gn/T/ipykernel_12753/2023940112.py:23: FutureWarning: The frame.append method is deprecated and will be removed from pandas in a future version. Use pandas.concat instead.\n",
      "  df = df.append(pd.read_html(html, header=0)[0])\n",
      "/var/folders/nh/3q0vdk7s383d4t34nv4_q89m0000gn/T/ipykernel_12753/2023940112.py:23: FutureWarning: The frame.append method is deprecated and will be removed from pandas in a future version. Use pandas.concat instead.\n",
      "  df = df.append(pd.read_html(html, header=0)[0])\n"
     ]
    },
    {
     "name": "stdout",
     "output_type": "stream",
     "text": [
      "226\n",
      "227\n",
      "228\n"
     ]
    },
    {
     "name": "stderr",
     "output_type": "stream",
     "text": [
      "/var/folders/nh/3q0vdk7s383d4t34nv4_q89m0000gn/T/ipykernel_12753/2023940112.py:23: FutureWarning: The frame.append method is deprecated and will be removed from pandas in a future version. Use pandas.concat instead.\n",
      "  df = df.append(pd.read_html(html, header=0)[0])\n",
      "/var/folders/nh/3q0vdk7s383d4t34nv4_q89m0000gn/T/ipykernel_12753/2023940112.py:23: FutureWarning: The frame.append method is deprecated and will be removed from pandas in a future version. Use pandas.concat instead.\n",
      "  df = df.append(pd.read_html(html, header=0)[0])\n",
      "/var/folders/nh/3q0vdk7s383d4t34nv4_q89m0000gn/T/ipykernel_12753/2023940112.py:23: FutureWarning: The frame.append method is deprecated and will be removed from pandas in a future version. Use pandas.concat instead.\n",
      "  df = df.append(pd.read_html(html, header=0)[0])\n"
     ]
    },
    {
     "name": "stdout",
     "output_type": "stream",
     "text": [
      "229\n",
      "230\n",
      "231\n"
     ]
    },
    {
     "name": "stderr",
     "output_type": "stream",
     "text": [
      "/var/folders/nh/3q0vdk7s383d4t34nv4_q89m0000gn/T/ipykernel_12753/2023940112.py:23: FutureWarning: The frame.append method is deprecated and will be removed from pandas in a future version. Use pandas.concat instead.\n",
      "  df = df.append(pd.read_html(html, header=0)[0])\n",
      "/var/folders/nh/3q0vdk7s383d4t34nv4_q89m0000gn/T/ipykernel_12753/2023940112.py:23: FutureWarning: The frame.append method is deprecated and will be removed from pandas in a future version. Use pandas.concat instead.\n",
      "  df = df.append(pd.read_html(html, header=0)[0])\n",
      "/var/folders/nh/3q0vdk7s383d4t34nv4_q89m0000gn/T/ipykernel_12753/2023940112.py:23: FutureWarning: The frame.append method is deprecated and will be removed from pandas in a future version. Use pandas.concat instead.\n",
      "  df = df.append(pd.read_html(html, header=0)[0])\n"
     ]
    },
    {
     "name": "stdout",
     "output_type": "stream",
     "text": [
      "232\n",
      "233\n",
      "234\n"
     ]
    },
    {
     "name": "stderr",
     "output_type": "stream",
     "text": [
      "/var/folders/nh/3q0vdk7s383d4t34nv4_q89m0000gn/T/ipykernel_12753/2023940112.py:23: FutureWarning: The frame.append method is deprecated and will be removed from pandas in a future version. Use pandas.concat instead.\n",
      "  df = df.append(pd.read_html(html, header=0)[0])\n",
      "/var/folders/nh/3q0vdk7s383d4t34nv4_q89m0000gn/T/ipykernel_12753/2023940112.py:23: FutureWarning: The frame.append method is deprecated and will be removed from pandas in a future version. Use pandas.concat instead.\n",
      "  df = df.append(pd.read_html(html, header=0)[0])\n",
      "/var/folders/nh/3q0vdk7s383d4t34nv4_q89m0000gn/T/ipykernel_12753/2023940112.py:23: FutureWarning: The frame.append method is deprecated and will be removed from pandas in a future version. Use pandas.concat instead.\n",
      "  df = df.append(pd.read_html(html, header=0)[0])\n"
     ]
    },
    {
     "name": "stdout",
     "output_type": "stream",
     "text": [
      "235\n",
      "236\n",
      "237\n"
     ]
    },
    {
     "name": "stderr",
     "output_type": "stream",
     "text": [
      "/var/folders/nh/3q0vdk7s383d4t34nv4_q89m0000gn/T/ipykernel_12753/2023940112.py:23: FutureWarning: The frame.append method is deprecated and will be removed from pandas in a future version. Use pandas.concat instead.\n",
      "  df = df.append(pd.read_html(html, header=0)[0])\n",
      "/var/folders/nh/3q0vdk7s383d4t34nv4_q89m0000gn/T/ipykernel_12753/2023940112.py:23: FutureWarning: The frame.append method is deprecated and will be removed from pandas in a future version. Use pandas.concat instead.\n",
      "  df = df.append(pd.read_html(html, header=0)[0])\n",
      "/var/folders/nh/3q0vdk7s383d4t34nv4_q89m0000gn/T/ipykernel_12753/2023940112.py:23: FutureWarning: The frame.append method is deprecated and will be removed from pandas in a future version. Use pandas.concat instead.\n",
      "  df = df.append(pd.read_html(html, header=0)[0])\n"
     ]
    },
    {
     "name": "stdout",
     "output_type": "stream",
     "text": [
      "238\n",
      "239\n",
      "240\n"
     ]
    },
    {
     "name": "stderr",
     "output_type": "stream",
     "text": [
      "/var/folders/nh/3q0vdk7s383d4t34nv4_q89m0000gn/T/ipykernel_12753/2023940112.py:23: FutureWarning: The frame.append method is deprecated and will be removed from pandas in a future version. Use pandas.concat instead.\n",
      "  df = df.append(pd.read_html(html, header=0)[0])\n",
      "/var/folders/nh/3q0vdk7s383d4t34nv4_q89m0000gn/T/ipykernel_12753/2023940112.py:23: FutureWarning: The frame.append method is deprecated and will be removed from pandas in a future version. Use pandas.concat instead.\n",
      "  df = df.append(pd.read_html(html, header=0)[0])\n",
      "/var/folders/nh/3q0vdk7s383d4t34nv4_q89m0000gn/T/ipykernel_12753/2023940112.py:23: FutureWarning: The frame.append method is deprecated and will be removed from pandas in a future version. Use pandas.concat instead.\n",
      "  df = df.append(pd.read_html(html, header=0)[0])\n"
     ]
    },
    {
     "name": "stdout",
     "output_type": "stream",
     "text": [
      "241\n",
      "242\n",
      "243\n"
     ]
    },
    {
     "name": "stderr",
     "output_type": "stream",
     "text": [
      "/var/folders/nh/3q0vdk7s383d4t34nv4_q89m0000gn/T/ipykernel_12753/2023940112.py:23: FutureWarning: The frame.append method is deprecated and will be removed from pandas in a future version. Use pandas.concat instead.\n",
      "  df = df.append(pd.read_html(html, header=0)[0])\n",
      "/var/folders/nh/3q0vdk7s383d4t34nv4_q89m0000gn/T/ipykernel_12753/2023940112.py:23: FutureWarning: The frame.append method is deprecated and will be removed from pandas in a future version. Use pandas.concat instead.\n",
      "  df = df.append(pd.read_html(html, header=0)[0])\n",
      "/var/folders/nh/3q0vdk7s383d4t34nv4_q89m0000gn/T/ipykernel_12753/2023940112.py:23: FutureWarning: The frame.append method is deprecated and will be removed from pandas in a future version. Use pandas.concat instead.\n",
      "  df = df.append(pd.read_html(html, header=0)[0])\n"
     ]
    },
    {
     "name": "stdout",
     "output_type": "stream",
     "text": [
      "244\n",
      "245\n",
      "246\n"
     ]
    },
    {
     "name": "stderr",
     "output_type": "stream",
     "text": [
      "/var/folders/nh/3q0vdk7s383d4t34nv4_q89m0000gn/T/ipykernel_12753/2023940112.py:23: FutureWarning: The frame.append method is deprecated and will be removed from pandas in a future version. Use pandas.concat instead.\n",
      "  df = df.append(pd.read_html(html, header=0)[0])\n",
      "/var/folders/nh/3q0vdk7s383d4t34nv4_q89m0000gn/T/ipykernel_12753/2023940112.py:23: FutureWarning: The frame.append method is deprecated and will be removed from pandas in a future version. Use pandas.concat instead.\n",
      "  df = df.append(pd.read_html(html, header=0)[0])\n",
      "/var/folders/nh/3q0vdk7s383d4t34nv4_q89m0000gn/T/ipykernel_12753/2023940112.py:23: FutureWarning: The frame.append method is deprecated and will be removed from pandas in a future version. Use pandas.concat instead.\n",
      "  df = df.append(pd.read_html(html, header=0)[0])\n"
     ]
    },
    {
     "name": "stdout",
     "output_type": "stream",
     "text": [
      "247\n",
      "248\n",
      "249\n"
     ]
    },
    {
     "name": "stderr",
     "output_type": "stream",
     "text": [
      "/var/folders/nh/3q0vdk7s383d4t34nv4_q89m0000gn/T/ipykernel_12753/2023940112.py:23: FutureWarning: The frame.append method is deprecated and will be removed from pandas in a future version. Use pandas.concat instead.\n",
      "  df = df.append(pd.read_html(html, header=0)[0])\n",
      "/var/folders/nh/3q0vdk7s383d4t34nv4_q89m0000gn/T/ipykernel_12753/2023940112.py:23: FutureWarning: The frame.append method is deprecated and will be removed from pandas in a future version. Use pandas.concat instead.\n",
      "  df = df.append(pd.read_html(html, header=0)[0])\n",
      "/var/folders/nh/3q0vdk7s383d4t34nv4_q89m0000gn/T/ipykernel_12753/2023940112.py:23: FutureWarning: The frame.append method is deprecated and will be removed from pandas in a future version. Use pandas.concat instead.\n",
      "  df = df.append(pd.read_html(html, header=0)[0])\n"
     ]
    },
    {
     "name": "stdout",
     "output_type": "stream",
     "text": [
      "250\n",
      "251\n",
      "252\n"
     ]
    },
    {
     "name": "stderr",
     "output_type": "stream",
     "text": [
      "/var/folders/nh/3q0vdk7s383d4t34nv4_q89m0000gn/T/ipykernel_12753/2023940112.py:23: FutureWarning: The frame.append method is deprecated and will be removed from pandas in a future version. Use pandas.concat instead.\n",
      "  df = df.append(pd.read_html(html, header=0)[0])\n",
      "/var/folders/nh/3q0vdk7s383d4t34nv4_q89m0000gn/T/ipykernel_12753/2023940112.py:23: FutureWarning: The frame.append method is deprecated and will be removed from pandas in a future version. Use pandas.concat instead.\n",
      "  df = df.append(pd.read_html(html, header=0)[0])\n",
      "/var/folders/nh/3q0vdk7s383d4t34nv4_q89m0000gn/T/ipykernel_12753/2023940112.py:23: FutureWarning: The frame.append method is deprecated and will be removed from pandas in a future version. Use pandas.concat instead.\n",
      "  df = df.append(pd.read_html(html, header=0)[0])\n"
     ]
    },
    {
     "name": "stdout",
     "output_type": "stream",
     "text": [
      "253\n",
      "254\n",
      "255\n"
     ]
    },
    {
     "name": "stderr",
     "output_type": "stream",
     "text": [
      "/var/folders/nh/3q0vdk7s383d4t34nv4_q89m0000gn/T/ipykernel_12753/2023940112.py:23: FutureWarning: The frame.append method is deprecated and will be removed from pandas in a future version. Use pandas.concat instead.\n",
      "  df = df.append(pd.read_html(html, header=0)[0])\n",
      "/var/folders/nh/3q0vdk7s383d4t34nv4_q89m0000gn/T/ipykernel_12753/2023940112.py:23: FutureWarning: The frame.append method is deprecated and will be removed from pandas in a future version. Use pandas.concat instead.\n",
      "  df = df.append(pd.read_html(html, header=0)[0])\n",
      "/var/folders/nh/3q0vdk7s383d4t34nv4_q89m0000gn/T/ipykernel_12753/2023940112.py:23: FutureWarning: The frame.append method is deprecated and will be removed from pandas in a future version. Use pandas.concat instead.\n",
      "  df = df.append(pd.read_html(html, header=0)[0])\n"
     ]
    },
    {
     "name": "stdout",
     "output_type": "stream",
     "text": [
      "256\n",
      "257\n",
      "258\n"
     ]
    },
    {
     "name": "stderr",
     "output_type": "stream",
     "text": [
      "/var/folders/nh/3q0vdk7s383d4t34nv4_q89m0000gn/T/ipykernel_12753/2023940112.py:23: FutureWarning: The frame.append method is deprecated and will be removed from pandas in a future version. Use pandas.concat instead.\n",
      "  df = df.append(pd.read_html(html, header=0)[0])\n",
      "/var/folders/nh/3q0vdk7s383d4t34nv4_q89m0000gn/T/ipykernel_12753/2023940112.py:23: FutureWarning: The frame.append method is deprecated and will be removed from pandas in a future version. Use pandas.concat instead.\n",
      "  df = df.append(pd.read_html(html, header=0)[0])\n",
      "/var/folders/nh/3q0vdk7s383d4t34nv4_q89m0000gn/T/ipykernel_12753/2023940112.py:23: FutureWarning: The frame.append method is deprecated and will be removed from pandas in a future version. Use pandas.concat instead.\n",
      "  df = df.append(pd.read_html(html, header=0)[0])\n",
      "/var/folders/nh/3q0vdk7s383d4t34nv4_q89m0000gn/T/ipykernel_12753/2023940112.py:23: FutureWarning: The frame.append method is deprecated and will be removed from pandas in a future version. Use pandas.concat instead.\n",
      "  df = df.append(pd.read_html(html, header=0)[0])\n"
     ]
    },
    {
     "name": "stdout",
     "output_type": "stream",
     "text": [
      "259\n",
      "260\n",
      "261\n",
      "262\n"
     ]
    },
    {
     "name": "stderr",
     "output_type": "stream",
     "text": [
      "/var/folders/nh/3q0vdk7s383d4t34nv4_q89m0000gn/T/ipykernel_12753/2023940112.py:23: FutureWarning: The frame.append method is deprecated and will be removed from pandas in a future version. Use pandas.concat instead.\n",
      "  df = df.append(pd.read_html(html, header=0)[0])\n",
      "/var/folders/nh/3q0vdk7s383d4t34nv4_q89m0000gn/T/ipykernel_12753/2023940112.py:23: FutureWarning: The frame.append method is deprecated and will be removed from pandas in a future version. Use pandas.concat instead.\n",
      "  df = df.append(pd.read_html(html, header=0)[0])\n",
      "/var/folders/nh/3q0vdk7s383d4t34nv4_q89m0000gn/T/ipykernel_12753/2023940112.py:23: FutureWarning: The frame.append method is deprecated and will be removed from pandas in a future version. Use pandas.concat instead.\n",
      "  df = df.append(pd.read_html(html, header=0)[0])\n"
     ]
    },
    {
     "name": "stdout",
     "output_type": "stream",
     "text": [
      "263\n",
      "264\n",
      "265\n"
     ]
    },
    {
     "name": "stderr",
     "output_type": "stream",
     "text": [
      "/var/folders/nh/3q0vdk7s383d4t34nv4_q89m0000gn/T/ipykernel_12753/2023940112.py:23: FutureWarning: The frame.append method is deprecated and will be removed from pandas in a future version. Use pandas.concat instead.\n",
      "  df = df.append(pd.read_html(html, header=0)[0])\n",
      "/var/folders/nh/3q0vdk7s383d4t34nv4_q89m0000gn/T/ipykernel_12753/2023940112.py:23: FutureWarning: The frame.append method is deprecated and will be removed from pandas in a future version. Use pandas.concat instead.\n",
      "  df = df.append(pd.read_html(html, header=0)[0])\n",
      "/var/folders/nh/3q0vdk7s383d4t34nv4_q89m0000gn/T/ipykernel_12753/2023940112.py:23: FutureWarning: The frame.append method is deprecated and will be removed from pandas in a future version. Use pandas.concat instead.\n",
      "  df = df.append(pd.read_html(html, header=0)[0])\n"
     ]
    },
    {
     "name": "stdout",
     "output_type": "stream",
     "text": [
      "266\n",
      "267\n",
      "268\n"
     ]
    },
    {
     "name": "stderr",
     "output_type": "stream",
     "text": [
      "/var/folders/nh/3q0vdk7s383d4t34nv4_q89m0000gn/T/ipykernel_12753/2023940112.py:23: FutureWarning: The frame.append method is deprecated and will be removed from pandas in a future version. Use pandas.concat instead.\n",
      "  df = df.append(pd.read_html(html, header=0)[0])\n",
      "/var/folders/nh/3q0vdk7s383d4t34nv4_q89m0000gn/T/ipykernel_12753/2023940112.py:23: FutureWarning: The frame.append method is deprecated and will be removed from pandas in a future version. Use pandas.concat instead.\n",
      "  df = df.append(pd.read_html(html, header=0)[0])\n",
      "/var/folders/nh/3q0vdk7s383d4t34nv4_q89m0000gn/T/ipykernel_12753/2023940112.py:23: FutureWarning: The frame.append method is deprecated and will be removed from pandas in a future version. Use pandas.concat instead.\n",
      "  df = df.append(pd.read_html(html, header=0)[0])\n"
     ]
    },
    {
     "name": "stdout",
     "output_type": "stream",
     "text": [
      "269\n",
      "270\n",
      "271\n"
     ]
    },
    {
     "name": "stderr",
     "output_type": "stream",
     "text": [
      "/var/folders/nh/3q0vdk7s383d4t34nv4_q89m0000gn/T/ipykernel_12753/2023940112.py:23: FutureWarning: The frame.append method is deprecated and will be removed from pandas in a future version. Use pandas.concat instead.\n",
      "  df = df.append(pd.read_html(html, header=0)[0])\n",
      "/var/folders/nh/3q0vdk7s383d4t34nv4_q89m0000gn/T/ipykernel_12753/2023940112.py:23: FutureWarning: The frame.append method is deprecated and will be removed from pandas in a future version. Use pandas.concat instead.\n",
      "  df = df.append(pd.read_html(html, header=0)[0])\n",
      "/var/folders/nh/3q0vdk7s383d4t34nv4_q89m0000gn/T/ipykernel_12753/2023940112.py:23: FutureWarning: The frame.append method is deprecated and will be removed from pandas in a future version. Use pandas.concat instead.\n",
      "  df = df.append(pd.read_html(html, header=0)[0])\n"
     ]
    },
    {
     "name": "stdout",
     "output_type": "stream",
     "text": [
      "272\n",
      "273\n",
      "274\n"
     ]
    },
    {
     "name": "stderr",
     "output_type": "stream",
     "text": [
      "/var/folders/nh/3q0vdk7s383d4t34nv4_q89m0000gn/T/ipykernel_12753/2023940112.py:23: FutureWarning: The frame.append method is deprecated and will be removed from pandas in a future version. Use pandas.concat instead.\n",
      "  df = df.append(pd.read_html(html, header=0)[0])\n",
      "/var/folders/nh/3q0vdk7s383d4t34nv4_q89m0000gn/T/ipykernel_12753/2023940112.py:23: FutureWarning: The frame.append method is deprecated and will be removed from pandas in a future version. Use pandas.concat instead.\n",
      "  df = df.append(pd.read_html(html, header=0)[0])\n",
      "/var/folders/nh/3q0vdk7s383d4t34nv4_q89m0000gn/T/ipykernel_12753/2023940112.py:23: FutureWarning: The frame.append method is deprecated and will be removed from pandas in a future version. Use pandas.concat instead.\n",
      "  df = df.append(pd.read_html(html, header=0)[0])\n"
     ]
    },
    {
     "name": "stdout",
     "output_type": "stream",
     "text": [
      "275\n",
      "276\n",
      "277\n"
     ]
    },
    {
     "name": "stderr",
     "output_type": "stream",
     "text": [
      "/var/folders/nh/3q0vdk7s383d4t34nv4_q89m0000gn/T/ipykernel_12753/2023940112.py:23: FutureWarning: The frame.append method is deprecated and will be removed from pandas in a future version. Use pandas.concat instead.\n",
      "  df = df.append(pd.read_html(html, header=0)[0])\n",
      "/var/folders/nh/3q0vdk7s383d4t34nv4_q89m0000gn/T/ipykernel_12753/2023940112.py:23: FutureWarning: The frame.append method is deprecated and will be removed from pandas in a future version. Use pandas.concat instead.\n",
      "  df = df.append(pd.read_html(html, header=0)[0])\n",
      "/var/folders/nh/3q0vdk7s383d4t34nv4_q89m0000gn/T/ipykernel_12753/2023940112.py:23: FutureWarning: The frame.append method is deprecated and will be removed from pandas in a future version. Use pandas.concat instead.\n",
      "  df = df.append(pd.read_html(html, header=0)[0])\n"
     ]
    },
    {
     "name": "stdout",
     "output_type": "stream",
     "text": [
      "278\n",
      "279\n",
      "280\n"
     ]
    },
    {
     "name": "stderr",
     "output_type": "stream",
     "text": [
      "/var/folders/nh/3q0vdk7s383d4t34nv4_q89m0000gn/T/ipykernel_12753/2023940112.py:23: FutureWarning: The frame.append method is deprecated and will be removed from pandas in a future version. Use pandas.concat instead.\n",
      "  df = df.append(pd.read_html(html, header=0)[0])\n",
      "/var/folders/nh/3q0vdk7s383d4t34nv4_q89m0000gn/T/ipykernel_12753/2023940112.py:23: FutureWarning: The frame.append method is deprecated and will be removed from pandas in a future version. Use pandas.concat instead.\n",
      "  df = df.append(pd.read_html(html, header=0)[0])\n",
      "/var/folders/nh/3q0vdk7s383d4t34nv4_q89m0000gn/T/ipykernel_12753/2023940112.py:23: FutureWarning: The frame.append method is deprecated and will be removed from pandas in a future version. Use pandas.concat instead.\n",
      "  df = df.append(pd.read_html(html, header=0)[0])\n"
     ]
    },
    {
     "name": "stdout",
     "output_type": "stream",
     "text": [
      "281\n",
      "282\n",
      "283\n"
     ]
    },
    {
     "name": "stderr",
     "output_type": "stream",
     "text": [
      "/var/folders/nh/3q0vdk7s383d4t34nv4_q89m0000gn/T/ipykernel_12753/2023940112.py:23: FutureWarning: The frame.append method is deprecated and will be removed from pandas in a future version. Use pandas.concat instead.\n",
      "  df = df.append(pd.read_html(html, header=0)[0])\n",
      "/var/folders/nh/3q0vdk7s383d4t34nv4_q89m0000gn/T/ipykernel_12753/2023940112.py:23: FutureWarning: The frame.append method is deprecated and will be removed from pandas in a future version. Use pandas.concat instead.\n",
      "  df = df.append(pd.read_html(html, header=0)[0])\n",
      "/var/folders/nh/3q0vdk7s383d4t34nv4_q89m0000gn/T/ipykernel_12753/2023940112.py:23: FutureWarning: The frame.append method is deprecated and will be removed from pandas in a future version. Use pandas.concat instead.\n",
      "  df = df.append(pd.read_html(html, header=0)[0])\n"
     ]
    },
    {
     "name": "stdout",
     "output_type": "stream",
     "text": [
      "284\n",
      "285\n",
      "286\n"
     ]
    },
    {
     "name": "stderr",
     "output_type": "stream",
     "text": [
      "/var/folders/nh/3q0vdk7s383d4t34nv4_q89m0000gn/T/ipykernel_12753/2023940112.py:23: FutureWarning: The frame.append method is deprecated and will be removed from pandas in a future version. Use pandas.concat instead.\n",
      "  df = df.append(pd.read_html(html, header=0)[0])\n",
      "/var/folders/nh/3q0vdk7s383d4t34nv4_q89m0000gn/T/ipykernel_12753/2023940112.py:23: FutureWarning: The frame.append method is deprecated and will be removed from pandas in a future version. Use pandas.concat instead.\n",
      "  df = df.append(pd.read_html(html, header=0)[0])\n",
      "/var/folders/nh/3q0vdk7s383d4t34nv4_q89m0000gn/T/ipykernel_12753/2023940112.py:23: FutureWarning: The frame.append method is deprecated and will be removed from pandas in a future version. Use pandas.concat instead.\n",
      "  df = df.append(pd.read_html(html, header=0)[0])\n"
     ]
    },
    {
     "name": "stdout",
     "output_type": "stream",
     "text": [
      "287\n",
      "288\n",
      "289\n"
     ]
    },
    {
     "name": "stderr",
     "output_type": "stream",
     "text": [
      "/var/folders/nh/3q0vdk7s383d4t34nv4_q89m0000gn/T/ipykernel_12753/2023940112.py:23: FutureWarning: The frame.append method is deprecated and will be removed from pandas in a future version. Use pandas.concat instead.\n",
      "  df = df.append(pd.read_html(html, header=0)[0])\n",
      "/var/folders/nh/3q0vdk7s383d4t34nv4_q89m0000gn/T/ipykernel_12753/2023940112.py:23: FutureWarning: The frame.append method is deprecated and will be removed from pandas in a future version. Use pandas.concat instead.\n",
      "  df = df.append(pd.read_html(html, header=0)[0])\n",
      "/var/folders/nh/3q0vdk7s383d4t34nv4_q89m0000gn/T/ipykernel_12753/2023940112.py:23: FutureWarning: The frame.append method is deprecated and will be removed from pandas in a future version. Use pandas.concat instead.\n",
      "  df = df.append(pd.read_html(html, header=0)[0])\n"
     ]
    },
    {
     "name": "stdout",
     "output_type": "stream",
     "text": [
      "290\n",
      "291\n",
      "292\n"
     ]
    },
    {
     "name": "stderr",
     "output_type": "stream",
     "text": [
      "/var/folders/nh/3q0vdk7s383d4t34nv4_q89m0000gn/T/ipykernel_12753/2023940112.py:23: FutureWarning: The frame.append method is deprecated and will be removed from pandas in a future version. Use pandas.concat instead.\n",
      "  df = df.append(pd.read_html(html, header=0)[0])\n",
      "/var/folders/nh/3q0vdk7s383d4t34nv4_q89m0000gn/T/ipykernel_12753/2023940112.py:23: FutureWarning: The frame.append method is deprecated and will be removed from pandas in a future version. Use pandas.concat instead.\n",
      "  df = df.append(pd.read_html(html, header=0)[0])\n",
      "/var/folders/nh/3q0vdk7s383d4t34nv4_q89m0000gn/T/ipykernel_12753/2023940112.py:23: FutureWarning: The frame.append method is deprecated and will be removed from pandas in a future version. Use pandas.concat instead.\n",
      "  df = df.append(pd.read_html(html, header=0)[0])\n"
     ]
    },
    {
     "name": "stdout",
     "output_type": "stream",
     "text": [
      "293\n",
      "294\n",
      "295\n"
     ]
    },
    {
     "name": "stderr",
     "output_type": "stream",
     "text": [
      "/var/folders/nh/3q0vdk7s383d4t34nv4_q89m0000gn/T/ipykernel_12753/2023940112.py:23: FutureWarning: The frame.append method is deprecated and will be removed from pandas in a future version. Use pandas.concat instead.\n",
      "  df = df.append(pd.read_html(html, header=0)[0])\n",
      "/var/folders/nh/3q0vdk7s383d4t34nv4_q89m0000gn/T/ipykernel_12753/2023940112.py:23: FutureWarning: The frame.append method is deprecated and will be removed from pandas in a future version. Use pandas.concat instead.\n",
      "  df = df.append(pd.read_html(html, header=0)[0])\n",
      "/var/folders/nh/3q0vdk7s383d4t34nv4_q89m0000gn/T/ipykernel_12753/2023940112.py:23: FutureWarning: The frame.append method is deprecated and will be removed from pandas in a future version. Use pandas.concat instead.\n",
      "  df = df.append(pd.read_html(html, header=0)[0])\n"
     ]
    },
    {
     "name": "stdout",
     "output_type": "stream",
     "text": [
      "296\n",
      "297\n",
      "298\n"
     ]
    },
    {
     "name": "stderr",
     "output_type": "stream",
     "text": [
      "/var/folders/nh/3q0vdk7s383d4t34nv4_q89m0000gn/T/ipykernel_12753/2023940112.py:23: FutureWarning: The frame.append method is deprecated and will be removed from pandas in a future version. Use pandas.concat instead.\n",
      "  df = df.append(pd.read_html(html, header=0)[0])\n",
      "/var/folders/nh/3q0vdk7s383d4t34nv4_q89m0000gn/T/ipykernel_12753/2023940112.py:23: FutureWarning: The frame.append method is deprecated and will be removed from pandas in a future version. Use pandas.concat instead.\n",
      "  df = df.append(pd.read_html(html, header=0)[0])\n",
      "/var/folders/nh/3q0vdk7s383d4t34nv4_q89m0000gn/T/ipykernel_12753/2023940112.py:23: FutureWarning: The frame.append method is deprecated and will be removed from pandas in a future version. Use pandas.concat instead.\n",
      "  df = df.append(pd.read_html(html, header=0)[0])\n"
     ]
    },
    {
     "name": "stdout",
     "output_type": "stream",
     "text": [
      "299\n",
      "300\n",
      "301\n"
     ]
    },
    {
     "name": "stderr",
     "output_type": "stream",
     "text": [
      "/var/folders/nh/3q0vdk7s383d4t34nv4_q89m0000gn/T/ipykernel_12753/2023940112.py:23: FutureWarning: The frame.append method is deprecated and will be removed from pandas in a future version. Use pandas.concat instead.\n",
      "  df = df.append(pd.read_html(html, header=0)[0])\n",
      "/var/folders/nh/3q0vdk7s383d4t34nv4_q89m0000gn/T/ipykernel_12753/2023940112.py:23: FutureWarning: The frame.append method is deprecated and will be removed from pandas in a future version. Use pandas.concat instead.\n",
      "  df = df.append(pd.read_html(html, header=0)[0])\n",
      "/var/folders/nh/3q0vdk7s383d4t34nv4_q89m0000gn/T/ipykernel_12753/2023940112.py:23: FutureWarning: The frame.append method is deprecated and will be removed from pandas in a future version. Use pandas.concat instead.\n",
      "  df = df.append(pd.read_html(html, header=0)[0])\n"
     ]
    },
    {
     "name": "stdout",
     "output_type": "stream",
     "text": [
      "302\n",
      "303\n",
      "304\n"
     ]
    },
    {
     "name": "stderr",
     "output_type": "stream",
     "text": [
      "/var/folders/nh/3q0vdk7s383d4t34nv4_q89m0000gn/T/ipykernel_12753/2023940112.py:23: FutureWarning: The frame.append method is deprecated and will be removed from pandas in a future version. Use pandas.concat instead.\n",
      "  df = df.append(pd.read_html(html, header=0)[0])\n",
      "/var/folders/nh/3q0vdk7s383d4t34nv4_q89m0000gn/T/ipykernel_12753/2023940112.py:23: FutureWarning: The frame.append method is deprecated and will be removed from pandas in a future version. Use pandas.concat instead.\n",
      "  df = df.append(pd.read_html(html, header=0)[0])\n",
      "/var/folders/nh/3q0vdk7s383d4t34nv4_q89m0000gn/T/ipykernel_12753/2023940112.py:23: FutureWarning: The frame.append method is deprecated and will be removed from pandas in a future version. Use pandas.concat instead.\n",
      "  df = df.append(pd.read_html(html, header=0)[0])\n"
     ]
    },
    {
     "name": "stdout",
     "output_type": "stream",
     "text": [
      "305\n",
      "306\n",
      "307\n"
     ]
    },
    {
     "name": "stderr",
     "output_type": "stream",
     "text": [
      "/var/folders/nh/3q0vdk7s383d4t34nv4_q89m0000gn/T/ipykernel_12753/2023940112.py:23: FutureWarning: The frame.append method is deprecated and will be removed from pandas in a future version. Use pandas.concat instead.\n",
      "  df = df.append(pd.read_html(html, header=0)[0])\n",
      "/var/folders/nh/3q0vdk7s383d4t34nv4_q89m0000gn/T/ipykernel_12753/2023940112.py:23: FutureWarning: The frame.append method is deprecated and will be removed from pandas in a future version. Use pandas.concat instead.\n",
      "  df = df.append(pd.read_html(html, header=0)[0])\n",
      "/var/folders/nh/3q0vdk7s383d4t34nv4_q89m0000gn/T/ipykernel_12753/2023940112.py:23: FutureWarning: The frame.append method is deprecated and will be removed from pandas in a future version. Use pandas.concat instead.\n",
      "  df = df.append(pd.read_html(html, header=0)[0])\n"
     ]
    },
    {
     "name": "stdout",
     "output_type": "stream",
     "text": [
      "308\n",
      "309\n",
      "310\n"
     ]
    },
    {
     "name": "stderr",
     "output_type": "stream",
     "text": [
      "/var/folders/nh/3q0vdk7s383d4t34nv4_q89m0000gn/T/ipykernel_12753/2023940112.py:23: FutureWarning: The frame.append method is deprecated and will be removed from pandas in a future version. Use pandas.concat instead.\n",
      "  df = df.append(pd.read_html(html, header=0)[0])\n",
      "/var/folders/nh/3q0vdk7s383d4t34nv4_q89m0000gn/T/ipykernel_12753/2023940112.py:23: FutureWarning: The frame.append method is deprecated and will be removed from pandas in a future version. Use pandas.concat instead.\n",
      "  df = df.append(pd.read_html(html, header=0)[0])\n",
      "/var/folders/nh/3q0vdk7s383d4t34nv4_q89m0000gn/T/ipykernel_12753/2023940112.py:23: FutureWarning: The frame.append method is deprecated and will be removed from pandas in a future version. Use pandas.concat instead.\n",
      "  df = df.append(pd.read_html(html, header=0)[0])\n"
     ]
    },
    {
     "name": "stdout",
     "output_type": "stream",
     "text": [
      "311\n",
      "312\n",
      "313\n"
     ]
    },
    {
     "name": "stderr",
     "output_type": "stream",
     "text": [
      "/var/folders/nh/3q0vdk7s383d4t34nv4_q89m0000gn/T/ipykernel_12753/2023940112.py:23: FutureWarning: The frame.append method is deprecated and will be removed from pandas in a future version. Use pandas.concat instead.\n",
      "  df = df.append(pd.read_html(html, header=0)[0])\n",
      "/var/folders/nh/3q0vdk7s383d4t34nv4_q89m0000gn/T/ipykernel_12753/2023940112.py:23: FutureWarning: The frame.append method is deprecated and will be removed from pandas in a future version. Use pandas.concat instead.\n",
      "  df = df.append(pd.read_html(html, header=0)[0])\n",
      "/var/folders/nh/3q0vdk7s383d4t34nv4_q89m0000gn/T/ipykernel_12753/2023940112.py:23: FutureWarning: The frame.append method is deprecated and will be removed from pandas in a future version. Use pandas.concat instead.\n",
      "  df = df.append(pd.read_html(html, header=0)[0])\n"
     ]
    },
    {
     "name": "stdout",
     "output_type": "stream",
     "text": [
      "314\n",
      "315\n",
      "316\n"
     ]
    },
    {
     "name": "stderr",
     "output_type": "stream",
     "text": [
      "/var/folders/nh/3q0vdk7s383d4t34nv4_q89m0000gn/T/ipykernel_12753/2023940112.py:23: FutureWarning: The frame.append method is deprecated and will be removed from pandas in a future version. Use pandas.concat instead.\n",
      "  df = df.append(pd.read_html(html, header=0)[0])\n",
      "/var/folders/nh/3q0vdk7s383d4t34nv4_q89m0000gn/T/ipykernel_12753/2023940112.py:23: FutureWarning: The frame.append method is deprecated and will be removed from pandas in a future version. Use pandas.concat instead.\n",
      "  df = df.append(pd.read_html(html, header=0)[0])\n",
      "/var/folders/nh/3q0vdk7s383d4t34nv4_q89m0000gn/T/ipykernel_12753/2023940112.py:23: FutureWarning: The frame.append method is deprecated and will be removed from pandas in a future version. Use pandas.concat instead.\n",
      "  df = df.append(pd.read_html(html, header=0)[0])\n"
     ]
    },
    {
     "name": "stdout",
     "output_type": "stream",
     "text": [
      "317\n",
      "318\n",
      "319\n"
     ]
    },
    {
     "name": "stderr",
     "output_type": "stream",
     "text": [
      "/var/folders/nh/3q0vdk7s383d4t34nv4_q89m0000gn/T/ipykernel_12753/2023940112.py:23: FutureWarning: The frame.append method is deprecated and will be removed from pandas in a future version. Use pandas.concat instead.\n",
      "  df = df.append(pd.read_html(html, header=0)[0])\n",
      "/var/folders/nh/3q0vdk7s383d4t34nv4_q89m0000gn/T/ipykernel_12753/2023940112.py:23: FutureWarning: The frame.append method is deprecated and will be removed from pandas in a future version. Use pandas.concat instead.\n",
      "  df = df.append(pd.read_html(html, header=0)[0])\n",
      "/var/folders/nh/3q0vdk7s383d4t34nv4_q89m0000gn/T/ipykernel_12753/2023940112.py:23: FutureWarning: The frame.append method is deprecated and will be removed from pandas in a future version. Use pandas.concat instead.\n",
      "  df = df.append(pd.read_html(html, header=0)[0])\n"
     ]
    },
    {
     "name": "stdout",
     "output_type": "stream",
     "text": [
      "320\n",
      "321\n",
      "322\n"
     ]
    },
    {
     "name": "stderr",
     "output_type": "stream",
     "text": [
      "/var/folders/nh/3q0vdk7s383d4t34nv4_q89m0000gn/T/ipykernel_12753/2023940112.py:23: FutureWarning: The frame.append method is deprecated and will be removed from pandas in a future version. Use pandas.concat instead.\n",
      "  df = df.append(pd.read_html(html, header=0)[0])\n",
      "/var/folders/nh/3q0vdk7s383d4t34nv4_q89m0000gn/T/ipykernel_12753/2023940112.py:23: FutureWarning: The frame.append method is deprecated and will be removed from pandas in a future version. Use pandas.concat instead.\n",
      "  df = df.append(pd.read_html(html, header=0)[0])\n",
      "/var/folders/nh/3q0vdk7s383d4t34nv4_q89m0000gn/T/ipykernel_12753/2023940112.py:23: FutureWarning: The frame.append method is deprecated and will be removed from pandas in a future version. Use pandas.concat instead.\n",
      "  df = df.append(pd.read_html(html, header=0)[0])\n"
     ]
    },
    {
     "name": "stdout",
     "output_type": "stream",
     "text": [
      "323\n",
      "324\n",
      "325\n"
     ]
    },
    {
     "name": "stderr",
     "output_type": "stream",
     "text": [
      "/var/folders/nh/3q0vdk7s383d4t34nv4_q89m0000gn/T/ipykernel_12753/2023940112.py:23: FutureWarning: The frame.append method is deprecated and will be removed from pandas in a future version. Use pandas.concat instead.\n",
      "  df = df.append(pd.read_html(html, header=0)[0])\n",
      "/var/folders/nh/3q0vdk7s383d4t34nv4_q89m0000gn/T/ipykernel_12753/2023940112.py:23: FutureWarning: The frame.append method is deprecated and will be removed from pandas in a future version. Use pandas.concat instead.\n",
      "  df = df.append(pd.read_html(html, header=0)[0])\n",
      "/var/folders/nh/3q0vdk7s383d4t34nv4_q89m0000gn/T/ipykernel_12753/2023940112.py:23: FutureWarning: The frame.append method is deprecated and will be removed from pandas in a future version. Use pandas.concat instead.\n",
      "  df = df.append(pd.read_html(html, header=0)[0])\n"
     ]
    },
    {
     "name": "stdout",
     "output_type": "stream",
     "text": [
      "326\n",
      "327\n",
      "328\n"
     ]
    },
    {
     "name": "stderr",
     "output_type": "stream",
     "text": [
      "/var/folders/nh/3q0vdk7s383d4t34nv4_q89m0000gn/T/ipykernel_12753/2023940112.py:23: FutureWarning: The frame.append method is deprecated and will be removed from pandas in a future version. Use pandas.concat instead.\n",
      "  df = df.append(pd.read_html(html, header=0)[0])\n",
      "/var/folders/nh/3q0vdk7s383d4t34nv4_q89m0000gn/T/ipykernel_12753/2023940112.py:23: FutureWarning: The frame.append method is deprecated and will be removed from pandas in a future version. Use pandas.concat instead.\n",
      "  df = df.append(pd.read_html(html, header=0)[0])\n",
      "/var/folders/nh/3q0vdk7s383d4t34nv4_q89m0000gn/T/ipykernel_12753/2023940112.py:23: FutureWarning: The frame.append method is deprecated and will be removed from pandas in a future version. Use pandas.concat instead.\n",
      "  df = df.append(pd.read_html(html, header=0)[0])\n"
     ]
    },
    {
     "name": "stdout",
     "output_type": "stream",
     "text": [
      "329\n",
      "330\n",
      "331\n"
     ]
    },
    {
     "name": "stderr",
     "output_type": "stream",
     "text": [
      "/var/folders/nh/3q0vdk7s383d4t34nv4_q89m0000gn/T/ipykernel_12753/2023940112.py:23: FutureWarning: The frame.append method is deprecated and will be removed from pandas in a future version. Use pandas.concat instead.\n",
      "  df = df.append(pd.read_html(html, header=0)[0])\n",
      "/var/folders/nh/3q0vdk7s383d4t34nv4_q89m0000gn/T/ipykernel_12753/2023940112.py:23: FutureWarning: The frame.append method is deprecated and will be removed from pandas in a future version. Use pandas.concat instead.\n",
      "  df = df.append(pd.read_html(html, header=0)[0])\n",
      "/var/folders/nh/3q0vdk7s383d4t34nv4_q89m0000gn/T/ipykernel_12753/2023940112.py:23: FutureWarning: The frame.append method is deprecated and will be removed from pandas in a future version. Use pandas.concat instead.\n",
      "  df = df.append(pd.read_html(html, header=0)[0])\n"
     ]
    },
    {
     "name": "stdout",
     "output_type": "stream",
     "text": [
      "332\n",
      "333\n",
      "334\n"
     ]
    },
    {
     "name": "stderr",
     "output_type": "stream",
     "text": [
      "/var/folders/nh/3q0vdk7s383d4t34nv4_q89m0000gn/T/ipykernel_12753/2023940112.py:23: FutureWarning: The frame.append method is deprecated and will be removed from pandas in a future version. Use pandas.concat instead.\n",
      "  df = df.append(pd.read_html(html, header=0)[0])\n",
      "/var/folders/nh/3q0vdk7s383d4t34nv4_q89m0000gn/T/ipykernel_12753/2023940112.py:23: FutureWarning: The frame.append method is deprecated and will be removed from pandas in a future version. Use pandas.concat instead.\n",
      "  df = df.append(pd.read_html(html, header=0)[0])\n",
      "/var/folders/nh/3q0vdk7s383d4t34nv4_q89m0000gn/T/ipykernel_12753/2023940112.py:23: FutureWarning: The frame.append method is deprecated and will be removed from pandas in a future version. Use pandas.concat instead.\n",
      "  df = df.append(pd.read_html(html, header=0)[0])\n"
     ]
    },
    {
     "name": "stdout",
     "output_type": "stream",
     "text": [
      "335\n",
      "336\n",
      "337\n"
     ]
    },
    {
     "name": "stderr",
     "output_type": "stream",
     "text": [
      "/var/folders/nh/3q0vdk7s383d4t34nv4_q89m0000gn/T/ipykernel_12753/2023940112.py:23: FutureWarning: The frame.append method is deprecated and will be removed from pandas in a future version. Use pandas.concat instead.\n",
      "  df = df.append(pd.read_html(html, header=0)[0])\n",
      "/var/folders/nh/3q0vdk7s383d4t34nv4_q89m0000gn/T/ipykernel_12753/2023940112.py:23: FutureWarning: The frame.append method is deprecated and will be removed from pandas in a future version. Use pandas.concat instead.\n",
      "  df = df.append(pd.read_html(html, header=0)[0])\n",
      "/var/folders/nh/3q0vdk7s383d4t34nv4_q89m0000gn/T/ipykernel_12753/2023940112.py:23: FutureWarning: The frame.append method is deprecated and will be removed from pandas in a future version. Use pandas.concat instead.\n",
      "  df = df.append(pd.read_html(html, header=0)[0])\n"
     ]
    },
    {
     "name": "stdout",
     "output_type": "stream",
     "text": [
      "338\n",
      "339\n",
      "340\n"
     ]
    },
    {
     "name": "stderr",
     "output_type": "stream",
     "text": [
      "/var/folders/nh/3q0vdk7s383d4t34nv4_q89m0000gn/T/ipykernel_12753/2023940112.py:23: FutureWarning: The frame.append method is deprecated and will be removed from pandas in a future version. Use pandas.concat instead.\n",
      "  df = df.append(pd.read_html(html, header=0)[0])\n",
      "/var/folders/nh/3q0vdk7s383d4t34nv4_q89m0000gn/T/ipykernel_12753/2023940112.py:23: FutureWarning: The frame.append method is deprecated and will be removed from pandas in a future version. Use pandas.concat instead.\n",
      "  df = df.append(pd.read_html(html, header=0)[0])\n",
      "/var/folders/nh/3q0vdk7s383d4t34nv4_q89m0000gn/T/ipykernel_12753/2023940112.py:23: FutureWarning: The frame.append method is deprecated and will be removed from pandas in a future version. Use pandas.concat instead.\n",
      "  df = df.append(pd.read_html(html, header=0)[0])\n"
     ]
    },
    {
     "name": "stdout",
     "output_type": "stream",
     "text": [
      "341\n",
      "342\n",
      "343\n"
     ]
    },
    {
     "name": "stderr",
     "output_type": "stream",
     "text": [
      "/var/folders/nh/3q0vdk7s383d4t34nv4_q89m0000gn/T/ipykernel_12753/2023940112.py:23: FutureWarning: The frame.append method is deprecated and will be removed from pandas in a future version. Use pandas.concat instead.\n",
      "  df = df.append(pd.read_html(html, header=0)[0])\n",
      "/var/folders/nh/3q0vdk7s383d4t34nv4_q89m0000gn/T/ipykernel_12753/2023940112.py:23: FutureWarning: The frame.append method is deprecated and will be removed from pandas in a future version. Use pandas.concat instead.\n",
      "  df = df.append(pd.read_html(html, header=0)[0])\n",
      "/var/folders/nh/3q0vdk7s383d4t34nv4_q89m0000gn/T/ipykernel_12753/2023940112.py:23: FutureWarning: The frame.append method is deprecated and will be removed from pandas in a future version. Use pandas.concat instead.\n",
      "  df = df.append(pd.read_html(html, header=0)[0])\n"
     ]
    },
    {
     "name": "stdout",
     "output_type": "stream",
     "text": [
      "344\n",
      "345\n",
      "346\n"
     ]
    },
    {
     "name": "stderr",
     "output_type": "stream",
     "text": [
      "/var/folders/nh/3q0vdk7s383d4t34nv4_q89m0000gn/T/ipykernel_12753/2023940112.py:23: FutureWarning: The frame.append method is deprecated and will be removed from pandas in a future version. Use pandas.concat instead.\n",
      "  df = df.append(pd.read_html(html, header=0)[0])\n",
      "/var/folders/nh/3q0vdk7s383d4t34nv4_q89m0000gn/T/ipykernel_12753/2023940112.py:23: FutureWarning: The frame.append method is deprecated and will be removed from pandas in a future version. Use pandas.concat instead.\n",
      "  df = df.append(pd.read_html(html, header=0)[0])\n",
      "/var/folders/nh/3q0vdk7s383d4t34nv4_q89m0000gn/T/ipykernel_12753/2023940112.py:23: FutureWarning: The frame.append method is deprecated and will be removed from pandas in a future version. Use pandas.concat instead.\n",
      "  df = df.append(pd.read_html(html, header=0)[0])\n"
     ]
    },
    {
     "name": "stdout",
     "output_type": "stream",
     "text": [
      "347\n",
      "348\n",
      "349\n"
     ]
    },
    {
     "name": "stderr",
     "output_type": "stream",
     "text": [
      "/var/folders/nh/3q0vdk7s383d4t34nv4_q89m0000gn/T/ipykernel_12753/2023940112.py:23: FutureWarning: The frame.append method is deprecated and will be removed from pandas in a future version. Use pandas.concat instead.\n",
      "  df = df.append(pd.read_html(html, header=0)[0])\n",
      "/var/folders/nh/3q0vdk7s383d4t34nv4_q89m0000gn/T/ipykernel_12753/2023940112.py:23: FutureWarning: The frame.append method is deprecated and will be removed from pandas in a future version. Use pandas.concat instead.\n",
      "  df = df.append(pd.read_html(html, header=0)[0])\n",
      "/var/folders/nh/3q0vdk7s383d4t34nv4_q89m0000gn/T/ipykernel_12753/2023940112.py:23: FutureWarning: The frame.append method is deprecated and will be removed from pandas in a future version. Use pandas.concat instead.\n",
      "  df = df.append(pd.read_html(html, header=0)[0])\n"
     ]
    },
    {
     "name": "stdout",
     "output_type": "stream",
     "text": [
      "350\n",
      "351\n",
      "352\n"
     ]
    },
    {
     "name": "stderr",
     "output_type": "stream",
     "text": [
      "/var/folders/nh/3q0vdk7s383d4t34nv4_q89m0000gn/T/ipykernel_12753/2023940112.py:23: FutureWarning: The frame.append method is deprecated and will be removed from pandas in a future version. Use pandas.concat instead.\n",
      "  df = df.append(pd.read_html(html, header=0)[0])\n",
      "/var/folders/nh/3q0vdk7s383d4t34nv4_q89m0000gn/T/ipykernel_12753/2023940112.py:23: FutureWarning: The frame.append method is deprecated and will be removed from pandas in a future version. Use pandas.concat instead.\n",
      "  df = df.append(pd.read_html(html, header=0)[0])\n",
      "/var/folders/nh/3q0vdk7s383d4t34nv4_q89m0000gn/T/ipykernel_12753/2023940112.py:23: FutureWarning: The frame.append method is deprecated and will be removed from pandas in a future version. Use pandas.concat instead.\n",
      "  df = df.append(pd.read_html(html, header=0)[0])\n"
     ]
    },
    {
     "name": "stdout",
     "output_type": "stream",
     "text": [
      "353\n",
      "354\n",
      "355\n"
     ]
    },
    {
     "name": "stderr",
     "output_type": "stream",
     "text": [
      "/var/folders/nh/3q0vdk7s383d4t34nv4_q89m0000gn/T/ipykernel_12753/2023940112.py:23: FutureWarning: The frame.append method is deprecated and will be removed from pandas in a future version. Use pandas.concat instead.\n",
      "  df = df.append(pd.read_html(html, header=0)[0])\n",
      "/var/folders/nh/3q0vdk7s383d4t34nv4_q89m0000gn/T/ipykernel_12753/2023940112.py:23: FutureWarning: The frame.append method is deprecated and will be removed from pandas in a future version. Use pandas.concat instead.\n",
      "  df = df.append(pd.read_html(html, header=0)[0])\n",
      "/var/folders/nh/3q0vdk7s383d4t34nv4_q89m0000gn/T/ipykernel_12753/2023940112.py:23: FutureWarning: The frame.append method is deprecated and will be removed from pandas in a future version. Use pandas.concat instead.\n",
      "  df = df.append(pd.read_html(html, header=0)[0])\n"
     ]
    },
    {
     "name": "stdout",
     "output_type": "stream",
     "text": [
      "356\n",
      "357\n",
      "358\n"
     ]
    },
    {
     "name": "stderr",
     "output_type": "stream",
     "text": [
      "/var/folders/nh/3q0vdk7s383d4t34nv4_q89m0000gn/T/ipykernel_12753/2023940112.py:23: FutureWarning: The frame.append method is deprecated and will be removed from pandas in a future version. Use pandas.concat instead.\n",
      "  df = df.append(pd.read_html(html, header=0)[0])\n",
      "/var/folders/nh/3q0vdk7s383d4t34nv4_q89m0000gn/T/ipykernel_12753/2023940112.py:23: FutureWarning: The frame.append method is deprecated and will be removed from pandas in a future version. Use pandas.concat instead.\n",
      "  df = df.append(pd.read_html(html, header=0)[0])\n",
      "/var/folders/nh/3q0vdk7s383d4t34nv4_q89m0000gn/T/ipykernel_12753/2023940112.py:23: FutureWarning: The frame.append method is deprecated and will be removed from pandas in a future version. Use pandas.concat instead.\n",
      "  df = df.append(pd.read_html(html, header=0)[0])\n"
     ]
    },
    {
     "name": "stdout",
     "output_type": "stream",
     "text": [
      "359\n",
      "360\n",
      "361\n"
     ]
    },
    {
     "name": "stderr",
     "output_type": "stream",
     "text": [
      "/var/folders/nh/3q0vdk7s383d4t34nv4_q89m0000gn/T/ipykernel_12753/2023940112.py:23: FutureWarning: The frame.append method is deprecated and will be removed from pandas in a future version. Use pandas.concat instead.\n",
      "  df = df.append(pd.read_html(html, header=0)[0])\n",
      "/var/folders/nh/3q0vdk7s383d4t34nv4_q89m0000gn/T/ipykernel_12753/2023940112.py:23: FutureWarning: The frame.append method is deprecated and will be removed from pandas in a future version. Use pandas.concat instead.\n",
      "  df = df.append(pd.read_html(html, header=0)[0])\n",
      "/var/folders/nh/3q0vdk7s383d4t34nv4_q89m0000gn/T/ipykernel_12753/2023940112.py:23: FutureWarning: The frame.append method is deprecated and will be removed from pandas in a future version. Use pandas.concat instead.\n",
      "  df = df.append(pd.read_html(html, header=0)[0])\n"
     ]
    },
    {
     "name": "stdout",
     "output_type": "stream",
     "text": [
      "362\n",
      "363\n",
      "364\n"
     ]
    },
    {
     "name": "stderr",
     "output_type": "stream",
     "text": [
      "/var/folders/nh/3q0vdk7s383d4t34nv4_q89m0000gn/T/ipykernel_12753/2023940112.py:23: FutureWarning: The frame.append method is deprecated and will be removed from pandas in a future version. Use pandas.concat instead.\n",
      "  df = df.append(pd.read_html(html, header=0)[0])\n",
      "/var/folders/nh/3q0vdk7s383d4t34nv4_q89m0000gn/T/ipykernel_12753/2023940112.py:23: FutureWarning: The frame.append method is deprecated and will be removed from pandas in a future version. Use pandas.concat instead.\n",
      "  df = df.append(pd.read_html(html, header=0)[0])\n",
      "/var/folders/nh/3q0vdk7s383d4t34nv4_q89m0000gn/T/ipykernel_12753/2023940112.py:23: FutureWarning: The frame.append method is deprecated and will be removed from pandas in a future version. Use pandas.concat instead.\n",
      "  df = df.append(pd.read_html(html, header=0)[0])\n"
     ]
    },
    {
     "name": "stdout",
     "output_type": "stream",
     "text": [
      "365\n",
      "366\n",
      "367\n"
     ]
    },
    {
     "name": "stderr",
     "output_type": "stream",
     "text": [
      "/var/folders/nh/3q0vdk7s383d4t34nv4_q89m0000gn/T/ipykernel_12753/2023940112.py:23: FutureWarning: The frame.append method is deprecated and will be removed from pandas in a future version. Use pandas.concat instead.\n",
      "  df = df.append(pd.read_html(html, header=0)[0])\n",
      "/var/folders/nh/3q0vdk7s383d4t34nv4_q89m0000gn/T/ipykernel_12753/2023940112.py:23: FutureWarning: The frame.append method is deprecated and will be removed from pandas in a future version. Use pandas.concat instead.\n",
      "  df = df.append(pd.read_html(html, header=0)[0])\n",
      "/var/folders/nh/3q0vdk7s383d4t34nv4_q89m0000gn/T/ipykernel_12753/2023940112.py:23: FutureWarning: The frame.append method is deprecated and will be removed from pandas in a future version. Use pandas.concat instead.\n",
      "  df = df.append(pd.read_html(html, header=0)[0])\n"
     ]
    },
    {
     "name": "stdout",
     "output_type": "stream",
     "text": [
      "368\n",
      "369\n",
      "370\n"
     ]
    },
    {
     "name": "stderr",
     "output_type": "stream",
     "text": [
      "/var/folders/nh/3q0vdk7s383d4t34nv4_q89m0000gn/T/ipykernel_12753/2023940112.py:23: FutureWarning: The frame.append method is deprecated and will be removed from pandas in a future version. Use pandas.concat instead.\n",
      "  df = df.append(pd.read_html(html, header=0)[0])\n",
      "/var/folders/nh/3q0vdk7s383d4t34nv4_q89m0000gn/T/ipykernel_12753/2023940112.py:23: FutureWarning: The frame.append method is deprecated and will be removed from pandas in a future version. Use pandas.concat instead.\n",
      "  df = df.append(pd.read_html(html, header=0)[0])\n",
      "/var/folders/nh/3q0vdk7s383d4t34nv4_q89m0000gn/T/ipykernel_12753/2023940112.py:23: FutureWarning: The frame.append method is deprecated and will be removed from pandas in a future version. Use pandas.concat instead.\n",
      "  df = df.append(pd.read_html(html, header=0)[0])\n"
     ]
    },
    {
     "name": "stdout",
     "output_type": "stream",
     "text": [
      "371\n",
      "372\n",
      "373\n"
     ]
    },
    {
     "name": "stderr",
     "output_type": "stream",
     "text": [
      "/var/folders/nh/3q0vdk7s383d4t34nv4_q89m0000gn/T/ipykernel_12753/2023940112.py:23: FutureWarning: The frame.append method is deprecated and will be removed from pandas in a future version. Use pandas.concat instead.\n",
      "  df = df.append(pd.read_html(html, header=0)[0])\n",
      "/var/folders/nh/3q0vdk7s383d4t34nv4_q89m0000gn/T/ipykernel_12753/2023940112.py:23: FutureWarning: The frame.append method is deprecated and will be removed from pandas in a future version. Use pandas.concat instead.\n",
      "  df = df.append(pd.read_html(html, header=0)[0])\n",
      "/var/folders/nh/3q0vdk7s383d4t34nv4_q89m0000gn/T/ipykernel_12753/2023940112.py:23: FutureWarning: The frame.append method is deprecated and will be removed from pandas in a future version. Use pandas.concat instead.\n",
      "  df = df.append(pd.read_html(html, header=0)[0])\n"
     ]
    },
    {
     "name": "stdout",
     "output_type": "stream",
     "text": [
      "374\n",
      "375\n",
      "376\n"
     ]
    },
    {
     "name": "stderr",
     "output_type": "stream",
     "text": [
      "/var/folders/nh/3q0vdk7s383d4t34nv4_q89m0000gn/T/ipykernel_12753/2023940112.py:23: FutureWarning: The frame.append method is deprecated and will be removed from pandas in a future version. Use pandas.concat instead.\n",
      "  df = df.append(pd.read_html(html, header=0)[0])\n",
      "/var/folders/nh/3q0vdk7s383d4t34nv4_q89m0000gn/T/ipykernel_12753/2023940112.py:23: FutureWarning: The frame.append method is deprecated and will be removed from pandas in a future version. Use pandas.concat instead.\n",
      "  df = df.append(pd.read_html(html, header=0)[0])\n",
      "/var/folders/nh/3q0vdk7s383d4t34nv4_q89m0000gn/T/ipykernel_12753/2023940112.py:23: FutureWarning: The frame.append method is deprecated and will be removed from pandas in a future version. Use pandas.concat instead.\n",
      "  df = df.append(pd.read_html(html, header=0)[0])\n"
     ]
    },
    {
     "name": "stdout",
     "output_type": "stream",
     "text": [
      "377\n",
      "378\n",
      "379\n"
     ]
    },
    {
     "name": "stderr",
     "output_type": "stream",
     "text": [
      "/var/folders/nh/3q0vdk7s383d4t34nv4_q89m0000gn/T/ipykernel_12753/2023940112.py:23: FutureWarning: The frame.append method is deprecated and will be removed from pandas in a future version. Use pandas.concat instead.\n",
      "  df = df.append(pd.read_html(html, header=0)[0])\n",
      "/var/folders/nh/3q0vdk7s383d4t34nv4_q89m0000gn/T/ipykernel_12753/2023940112.py:23: FutureWarning: The frame.append method is deprecated and will be removed from pandas in a future version. Use pandas.concat instead.\n",
      "  df = df.append(pd.read_html(html, header=0)[0])\n",
      "/var/folders/nh/3q0vdk7s383d4t34nv4_q89m0000gn/T/ipykernel_12753/2023940112.py:23: FutureWarning: The frame.append method is deprecated and will be removed from pandas in a future version. Use pandas.concat instead.\n",
      "  df = df.append(pd.read_html(html, header=0)[0])\n"
     ]
    },
    {
     "name": "stdout",
     "output_type": "stream",
     "text": [
      "380\n",
      "381\n",
      "382\n"
     ]
    },
    {
     "name": "stderr",
     "output_type": "stream",
     "text": [
      "/var/folders/nh/3q0vdk7s383d4t34nv4_q89m0000gn/T/ipykernel_12753/2023940112.py:23: FutureWarning: The frame.append method is deprecated and will be removed from pandas in a future version. Use pandas.concat instead.\n",
      "  df = df.append(pd.read_html(html, header=0)[0])\n",
      "/var/folders/nh/3q0vdk7s383d4t34nv4_q89m0000gn/T/ipykernel_12753/2023940112.py:23: FutureWarning: The frame.append method is deprecated and will be removed from pandas in a future version. Use pandas.concat instead.\n",
      "  df = df.append(pd.read_html(html, header=0)[0])\n",
      "/var/folders/nh/3q0vdk7s383d4t34nv4_q89m0000gn/T/ipykernel_12753/2023940112.py:23: FutureWarning: The frame.append method is deprecated and will be removed from pandas in a future version. Use pandas.concat instead.\n",
      "  df = df.append(pd.read_html(html, header=0)[0])\n"
     ]
    },
    {
     "name": "stdout",
     "output_type": "stream",
     "text": [
      "383\n",
      "384\n"
     ]
    },
    {
     "data": {
      "image/png": "[encoded data removed]",
      "text/plain": [
       "<Figure size 900x600 with 1 Axes>"
      ]
     },
     "metadata": {},
     "output_type": "display_data"
    }
   ],
   "source": [
    "#구버전 캔들 차트 그리기\n",
    "import pandas as pd\n",
    "import requests\n",
    "from bs4 import BeautifulSoup\n",
    "from matplotlib import pyplot as plt\n",
    "from matplotlib import dates as mdates\n",
    "from mpl_finance import candlestick_ohlc\n",
    "from datetime import datetime\n",
    "\n",
    "url = 'https://finance.naver.com/item/sise_day.naver?code=086520&amp;page=384'\n",
    "html = requests.get(url, headers = {'User-agent': 'Mozilla/5.0'}).text\n",
    "bs = BeautifulSoup(html, 'lxml')\n",
    "pgl = bs.find('td', class_= 'on')\n",
    "s = str(pgl.a['href']).split('=')\n",
    "last_page = s[-2][:3]\n",
    "\n",
    "df = pd.DataFrame()\n",
    "sise_url = 'https://finance.naver.com/item/sise_day.naver?code=086520'\n",
    "for page in range(1, int(last_page)+1):\n",
    "    print(page)\n",
    "    url = '{}&page={}'.format(sise_url, page)\n",
    "    html = requests.get(url, headers= {'User-agent':'Mozilla/5.0'}).text\n",
    "    df = df.append(pd.read_html(html, header=0)[0])\n",
    "\n",
    "df = df.dropna()\n",
    "df = df.iloc[:30]\n",
    "df = df.sort_values(by='날짜')\n",
    "for idx in range(0, len(df)):\n",
    "    dt = datetime.strptime(df['날짜'].values[idx],'%Y.%m.%d').date()\n",
    "    df['날짜'].values[idx] = mdates.date2num(dt)\n",
    "ohlc = df[['날짜','시가','고가','저가','종가']]\n",
    "\n",
    "plt.figure(figsize=(9,6))\n",
    "ax = plt.subplot(1,1,1)\n",
    "plt.title('Echo pro (mpl_finance candle stick)')\n",
    "candlestick_ohlc(ax, ohlc.values, width=0.7, colorup='red', colordown = 'blue')\n",
    "ax.xaxis.set_major_formatter(mdates.DateFormatter('%Y-%m-%d'))\n",
    "plt.xticks(rotation = 45)\n",
    "plt.grid(color = 'gray', linestyle='--')\n",
    "plt.show()"
   ]
  },
  {
   "cell_type": "code",
   "execution_count": 79,
   "id": "a4a539a9",
   "metadata": {},
   "outputs": [
    {
     "data": {
      "image/png": "[encoded data removed]",
      "text/plain": [
       "<Figure size 800x575 with 2 Axes>"
      ]
     },
     "metadata": {},
     "output_type": "display_data"
    }
   ],
   "source": [
    "#신버전으로 캔들 차트 그리기 \n",
    "#mpf.plot(OHLC dateframe [,title=차트제목][,type=차트형태][,mav=이동평균선]\n",
    "#                        [,volume=거래량 표시여부][,ylabel=y축 레이블])\n",
    "import mplfinance as mpf\n",
    "\n",
    "# df= df.rename(columns = {'날짜':'Date', '시가':'Open','고가':'High','저가':'Low','종가':'Close','거래량':'Volume'})\n",
    "# df= df.sort_values(by= 'Date')\n",
    "df.index= pd.to_datetime(df.Date)\n",
    "df_new = df[['Open','High','Low','Close','Volume']]\n",
    "mpf.plot(df_new, title= 'Echo pro candle chart',type = 'candle')"
   ]
  },
  {
   "cell_type": "code",
   "execution_count": 82,
   "id": "de15ac38",
   "metadata": {},
   "outputs": [
    {
     "data": {
      "image/png": "[encoded data removed]",
      "text/plain": [
       "<Figure size 800x575 with 2 Axes>"
      ]
     },
     "metadata": {},
     "output_type": "display_data"
    }
   ],
   "source": [
    "mpf.plot(df_new, title= 'Echo pro ohlc chart', type = 'ohlc')"
   ]
  }
 ],
 "metadata": {
  "kernelspec": {
   "display_name": "python_stock",
   "language": "python",
   "name": "python_stock"
  },
  "language_info": {
   "codemirror_mode": {
    "name": "ipython",
    "version": 3
   },
   "file_extension": ".py",
   "mimetype": "text/x-python",
   "name": "python",
   "nbconvert_exporter": "python",
   "pygments_lexer": "ipython3",
   "version": "3.9.5 (v3.9.5:0a7dcbdb13, May  3 2021, 13:17:02) \n[Clang 6.0 (clang-600.0.57)]"
  }
 },
 "nbformat": 4,
 "nbformat_minor": 5
}
