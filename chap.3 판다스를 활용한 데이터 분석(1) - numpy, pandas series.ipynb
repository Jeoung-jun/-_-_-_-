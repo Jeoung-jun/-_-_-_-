{
 "cells": [
  {
   "cell_type": "markdown",
   "id": "8f434155",
   "metadata": {},
   "source": [
    "# Numpy\n",
    "---\n",
    "- numpy : numerical python\n",
    "- ndarray라는 고성능 다차월 배열 객체와 이를 다루는 여러 함수를 제공한다. \n"
   ]
  },
  {
   "cell_type": "code",
   "execution_count": 1,
   "id": "b95ab8a5",
   "metadata": {},
   "outputs": [
    {
     "data": {
      "text/plain": [
       "array([[1, 2],\n",
       "       [3, 4]])"
      ]
     },
     "execution_count": 1,
     "metadata": {},
     "output_type": "execute_result"
    }
   ],
   "source": [
    "#배열 생성\n",
    "import numpy as np\n",
    "a = np.array([[1,2],[3,4]])\n",
    "a"
   ]
  },
  {
   "cell_type": "code",
   "execution_count": 3,
   "id": "ddea6422",
   "metadata": {},
   "outputs": [
    {
     "name": "stdout",
     "output_type": "stream",
     "text": [
      "<class 'numpy.ndarray'>\n",
      "2\n",
      "(2, 2)\n",
      "int64\n"
     ]
    }
   ],
   "source": [
    "#배열 정보보기\n",
    "print(type(a))\n",
    "\n",
    "#배열의 차원\n",
    "print(a.ndim)\n",
    "\n",
    "#배열의 크기\n",
    "print(a.shape)\n",
    "\n",
    "#원소 자료형\n",
    "print(a.dtype)"
   ]
  },
  {
   "cell_type": "code",
   "execution_count": 5,
   "id": "7e6e1c81",
   "metadata": {},
   "outputs": [
    {
     "name": "stdout",
     "output_type": "stream",
     "text": [
      "[1 2] [3 4]\n"
     ]
    }
   ],
   "source": [
    "#배열의 접근\n",
    "print(a[0], a[1])"
   ]
  },
  {
   "cell_type": "code",
   "execution_count": 7,
   "id": "659b24b8",
   "metadata": {},
   "outputs": [
    {
     "name": "stdout",
     "output_type": "stream",
     "text": [
      "1 2\n",
      "3 4\n"
     ]
    }
   ],
   "source": [
    "print(a[0][0], a[0][1])\n",
    "print(a[1][0], a[1][1])"
   ]
  },
  {
   "cell_type": "code",
   "execution_count": 12,
   "id": "4b336430",
   "metadata": {},
   "outputs": [
    {
     "name": "stdout",
     "output_type": "stream",
     "text": [
      "[[1 2]\n",
      " [3 4]]\n",
      "\n",
      "[[1 3]\n",
      " [2 4]]\n"
     ]
    }
   ],
   "source": [
    "#배열 형태 바꾸기\n",
    "#a.T는 transpose 이다. a.transpose() 를 사용해도 같은 결과를 가진다.\n",
    "print(a, end = '\\n\\n')\n",
    "print(a.T)"
   ]
  },
  {
   "cell_type": "code",
   "execution_count": 20,
   "id": "e3e8894d",
   "metadata": {},
   "outputs": [
    {
     "name": "stdout",
     "output_type": "stream",
     "text": [
      "[[1 2]\n",
      " [3 4]]\n",
      "\n",
      "[1 2 3 4]\n",
      "차원의 형태는 (4,)\n"
     ]
    }
   ],
   "source": [
    "#flatten은 다차원 배열을 1차원 배열 형태로 바꾸는데 사용하며, 평탄화라고 한다. \n",
    "print(a, end = '\\n\\n')\n",
    "print(a.flatten())\n",
    "print('차원의 형태는',a.flatten().shape)"
   ]
  },
  {
   "cell_type": "code",
   "execution_count": 22,
   "id": "c285e1f0",
   "metadata": {},
   "outputs": [
    {
     "data": {
      "text/plain": [
       "array([[ 10, 200],\n",
       "       [ 30, 400]])"
      ]
     },
     "execution_count": 22,
     "metadata": {},
     "output_type": "execute_result"
    }
   ],
   "source": [
    "#배열의 연산\n",
    "#사칙연산이 다 되지만 곱셈이랑 나눗셈은 각 배열의 위치 값들끼리 곱하고 나눈다. \n",
    "#차원이 다른 행렬끼리도 사칙연산이 가능하고 이를 브로드캐스팅이라고 한다. \n",
    "#아래의 경우 각 행별로 10,100 행렬이 곱해진 것을 볼 수 있다. \n",
    "b = np.array([10,100])\n",
    "a * b"
   ]
  },
  {
   "cell_type": "code",
   "execution_count": 24,
   "id": "f0df88d8",
   "metadata": {},
   "outputs": [
    {
     "data": {
      "text/plain": [
       "10100"
      ]
     },
     "execution_count": 24,
     "metadata": {},
     "output_type": "execute_result"
    }
   ],
   "source": [
    "#내적 구하기\n",
    "#10 * 10 + 100 * 100\n",
    "b.dot(b)"
   ]
  },
  {
   "cell_type": "code",
   "execution_count": 26,
   "id": "83cfe41d",
   "metadata": {},
   "outputs": [
    {
     "data": {
      "text/plain": [
       "array([210, 430])"
      ]
     },
     "execution_count": 26,
     "metadata": {},
     "output_type": "execute_result"
    }
   ],
   "source": [
    "# 1 * 10 + 2 * 100\n",
    "# 3 * 10 + 4 * 100\n",
    "a.dot(b)"
   ]
  },
  {
   "cell_type": "markdown",
   "id": "3f24a66f",
   "metadata": {},
   "source": [
    "# Pandas\n",
    "---\n",
    "- 판다스는 금융 데이터 분석을 목적으로 개발되었으며 구조화된 데이터를 쉽고 빠르게 가공할 수 있는 자료형과 함수를 제공한다. \n",
    "- 판다스의 이름은 panel data, python data analysis 에서 유래했다. \n",
    "- 넘파이를 기반으로 구현했기 때문에 유사하다. "
   ]
  },
  {
   "cell_type": "code",
   "execution_count": 1,
   "id": "20526066",
   "metadata": {},
   "outputs": [
    {
     "data": {
      "text/plain": [
       "0    0.0\n",
       "1    3.6\n",
       "2    2.0\n",
       "3    5.8\n",
       "4    4.2\n",
       "5    8.0\n",
       "dtype: float64"
      ]
     },
     "execution_count": 1,
     "metadata": {},
     "output_type": "execute_result"
    }
   ],
   "source": [
    "# 시리즈 생성\n",
    "import pandas as pd\n",
    "s= pd.Series([0.0,3.6,2.0,5.8,4.2,8.0])\n",
    "s"
   ]
  },
  {
   "cell_type": "code",
   "execution_count": 28,
   "id": "8a218597",
   "metadata": {},
   "outputs": [
    {
     "data": {
      "text/plain": [
       "MY_IDX\n",
       "0.0    0.0\n",
       "1.2    3.6\n",
       "1.8    2.0\n",
       "3.0    5.8\n",
       "3.6    4.2\n",
       "4.8    8.0\n",
       "dtype: float64"
      ]
     },
     "execution_count": 28,
     "metadata": {},
     "output_type": "execute_result"
    }
   ],
   "source": [
    "# 시리즈의 인덱스 변경\n",
    "# 인덱스의 값도 변경이 가능하고 이름도 설정이 가능하다. \n",
    "s.index = pd.Index([.0,1.2,1.8,3.0,3.6,4.8])\n",
    "s.index.name = 'MY_IDX'\n",
    "s"
   ]
  },
  {
   "cell_type": "code",
   "execution_count": 29,
   "id": "c19a9d37",
   "metadata": {},
   "outputs": [
    {
     "data": {
      "text/plain": [
       "MY_IDX\n",
       "0.0    0.0\n",
       "1.2    3.6\n",
       "1.8    2.0\n",
       "3.0    5.8\n",
       "3.6    4.2\n",
       "4.8    8.0\n",
       "Name: MY_SERIES, dtype: float64"
      ]
     },
     "execution_count": 29,
     "metadata": {},
     "output_type": "execute_result"
    }
   ],
   "source": [
    "# 시리즈의 이름을 설정할 수 있다. \n",
    "s.name = 'MY_SERIES'\n",
    "s"
   ]
  },
  {
   "cell_type": "code",
   "execution_count": 32,
   "id": "1abf4fe0",
   "metadata": {},
   "outputs": [
    {
     "data": {
      "text/plain": [
       "MY_IDX\n",
       "0.0    0.0\n",
       "1.2    3.6\n",
       "1.8    2.0\n",
       "3.0    5.8\n",
       "3.6    4.2\n",
       "4.8    8.0\n",
       "5.9    5.5\n",
       "Name: MY_SERIES, dtype: float64"
      ]
     },
     "execution_count": 32,
     "metadata": {},
     "output_type": "execute_result"
    }
   ],
   "source": [
    "#데이터 추가\n",
    "#새로운 인덱스에 새로운 값을 넣으면 추가되는 것을 볼 수 있다. \n",
    "s[5.9] = 5.5\n",
    "s"
   ]
  },
  {
   "cell_type": "code",
   "execution_count": 34,
   "id": "d9f64d40",
   "metadata": {},
   "outputs": [
    {
     "data": {
      "text/plain": [
       "0.0    0.0\n",
       "1.2    3.6\n",
       "1.8    2.0\n",
       "3.0    5.8\n",
       "3.6    4.2\n",
       "4.8    8.0\n",
       "5.9    5.5\n",
       "6.8    6.7\n",
       "8.0    4.2\n",
       "6.8    6.7\n",
       "8.0    4.2\n",
       "dtype: float64"
      ]
     },
     "execution_count": 34,
     "metadata": {},
     "output_type": "execute_result"
    }
   ],
   "source": [
    "#append 함수를 사용해서 기존의 시리즈에 값을 추가할 수 있다.\n",
    "ser = pd.Series([6.7,4.2], index = [6.8,8.0])\n",
    "s = s.append(ser)\n",
    "s"
   ]
  },
  {
   "cell_type": "code",
   "execution_count": 41,
   "id": "97445208",
   "metadata": {},
   "outputs": [
    {
     "name": "stdout",
     "output_type": "stream",
     "text": [
      "8.0\n",
      "4.2\n",
      "4.2\n",
      "[0.  3.6 2.  5.8 4.2 8.  5.5 6.7 4.2 6.7 4.2]\n"
     ]
    }
   ],
   "source": [
    "#데이터 인덱싱\n",
    "print(s.index[-1])\n",
    "print(s.values[-1])\n",
    "#print(s.loc[8.0])\n",
    "print(s.iloc[-1])\n",
    "print(s.values[:])"
   ]
  },
  {
   "cell_type": "code",
   "execution_count": 42,
   "id": "520e3e57",
   "metadata": {},
   "outputs": [
    {
     "data": {
      "text/plain": [
       "0.0    0.0\n",
       "1.2    3.6\n",
       "1.8    2.0\n",
       "3.0    5.8\n",
       "3.6    4.2\n",
       "4.8    8.0\n",
       "5.9    5.5\n",
       "6.8    6.7\n",
       "6.8    6.7\n",
       "dtype: float64"
      ]
     },
     "execution_count": 42,
     "metadata": {},
     "output_type": "execute_result"
    }
   ],
   "source": [
    "#데이터 삭제\n",
    "s.drop(8.0)"
   ]
  },
  {
   "cell_type": "code",
   "execution_count": 2,
   "id": "6261f9de",
   "metadata": {},
   "outputs": [
    {
     "ename": "ModuleNotFoundError",
     "evalue": "No module named 'matplotlib'",
     "output_type": "error",
     "traceback": [
      "\u001b[0;31m---------------------------------------------------------------------------\u001b[0m",
      "\u001b[0;31mModuleNotFoundError\u001b[0m                       Traceback (most recent call last)",
      "Cell \u001b[0;32mIn[2], line 2\u001b[0m\n\u001b[1;32m      1\u001b[0m \u001b[39m#시리즈 출력하기\u001b[39;00m\n\u001b[0;32m----> 2\u001b[0m \u001b[39mimport\u001b[39;00m \u001b[39mmatplotlib\u001b[39;00m\u001b[39m.\u001b[39;00m\u001b[39mpyplot\u001b[39;00m \u001b[39mas\u001b[39;00m \u001b[39mplt\u001b[39;00m\n\u001b[1;32m      3\u001b[0m plt\u001b[39m.\u001b[39mtitle(\u001b[39m'\u001b[39m\u001b[39mELLIOTT_WAVE\u001b[39m\u001b[39m'\u001b[39m)\n\u001b[1;32m      4\u001b[0m plt\u001b[39m.\u001b[39mplot(s, \u001b[39m'\u001b[39m\u001b[39mbs--\u001b[39m\u001b[39m'\u001b[39m)\n",
      "\u001b[0;31mModuleNotFoundError\u001b[0m: No module named 'matplotlib'"
     ]
    }
   ],
   "source": [
    "#시리즈 출력하기\n",
    "import matplotlib.pyplot as plt\n",
    "plt.title('ELLIOTT_WAVE')\n",
    "plt.plot(s, 'bs--')\n",
    "plt.xticks(s.index)\n",
    "plt.yticks(s.values)\n",
    "plt.grid(True)\n",
    "plt.show()"
   ]
  },
  {
   "cell_type": "code",
   "execution_count": null,
   "id": "c68002fd",
   "metadata": {},
   "outputs": [],
   "source": []
  }
 ],
 "metadata": {
  "kernelspec": {
   "display_name": "py_scraping",
   "language": "python",
   "name": "python3"
  },
  "language_info": {
   "codemirror_mode": {
    "name": "ipython",
    "version": 3
   },
   "file_extension": ".py",
   "mimetype": "text/x-python",
   "name": "python",
   "nbconvert_exporter": "python",
   "pygments_lexer": "ipython3",
   "version": "3.10.8 (main, Nov 24 2022, 08:09:04) [Clang 14.0.6 ]"
  },
  "vscode": {
   "interpreter": {
    "hash": "bdc1885b056135fe2db83caa3e9198dcf0c2a863d4a8098e805d289f67c532ee"
   }
  }
 },
 "nbformat": 4,
 "nbformat_minor": 5
}
