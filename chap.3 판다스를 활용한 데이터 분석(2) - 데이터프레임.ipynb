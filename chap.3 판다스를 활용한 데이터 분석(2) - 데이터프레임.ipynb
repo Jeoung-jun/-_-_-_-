{
 "cells": [
  {
   "cell_type": "markdown",
   "id": "8a9b5ff5",
   "metadata": {},
   "source": [
    "# Pandas DataFrame\n",
    "--- \n",
    "- 시리즈는 단일 변수의 관측값을 기록하기에 적합하다. \n",
    "- 여러 변수에 대한 관측값을 함께 기록하기에는 데이터프레임이 적합하다. \n",
    "- 데이터프레임은 간단히 설명하면 인덱스 하나와 여러 시리즈를 합친 자료형이라고 할 수 있다.\n",
    "- 판다스 라이브러리를 사용하면 엑셀, HTML, 데이터베이스로부터 데이터를 읽어와서 데이터프레임 형태로 가공할 수 있다. "
   ]
  },
  {
   "cell_type": "code",
   "execution_count": 2,
   "id": "9de7f723",
   "metadata": {},
   "outputs": [
    {
     "data": {
      "text/html": [
       "<div>\n",
       "<style scoped>\n",
       "    .dataframe tbody tr th:only-of-type {\n",
       "        vertical-align: middle;\n",
       "    }\n",
       "\n",
       "    .dataframe tbody tr th {\n",
       "        vertical-align: top;\n",
       "    }\n",
       "\n",
       "    .dataframe thead th {\n",
       "        text-align: right;\n",
       "    }\n",
       "</style>\n",
       "<table border=\"1\" class=\"dataframe\">\n",
       "  <thead>\n",
       "    <tr style=\"text-align: right;\">\n",
       "      <th></th>\n",
       "      <th>KOSPI</th>\n",
       "      <th>KOSDAQ</th>\n",
       "    </tr>\n",
       "  </thead>\n",
       "  <tbody>\n",
       "    <tr>\n",
       "      <th>2014</th>\n",
       "      <td>1915</td>\n",
       "      <td>542</td>\n",
       "    </tr>\n",
       "    <tr>\n",
       "      <th>2015</th>\n",
       "      <td>1961</td>\n",
       "      <td>682</td>\n",
       "    </tr>\n",
       "    <tr>\n",
       "      <th>2016</th>\n",
       "      <td>2026</td>\n",
       "      <td>631</td>\n",
       "    </tr>\n",
       "    <tr>\n",
       "      <th>2017</th>\n",
       "      <td>2467</td>\n",
       "      <td>798</td>\n",
       "    </tr>\n",
       "    <tr>\n",
       "      <th>2018</th>\n",
       "      <td>2041</td>\n",
       "      <td>675</td>\n",
       "    </tr>\n",
       "  </tbody>\n",
       "</table>\n",
       "</div>"
      ],
      "text/plain": [
       "      KOSPI  KOSDAQ\n",
       "2014   1915     542\n",
       "2015   1961     682\n",
       "2016   2026     631\n",
       "2017   2467     798\n",
       "2018   2041     675"
      ]
     },
     "execution_count": 2,
     "metadata": {},
     "output_type": "execute_result"
    }
   ],
   "source": [
    "#딕셔너리를 이용한 데이터프레임 생성\n",
    "import pandas as pd\n",
    "df = pd.DataFrame({'KOSPI' : [1915,1961,2026,2467,2041], \"KOSDAQ\" : [542,682,631,798,675]},\n",
    "                 index = [2014,2015,2016,2017,2018])\n",
    "df"
   ]
  },
  {
   "cell_type": "code",
   "execution_count": 4,
   "id": "256946dc",
   "metadata": {},
   "outputs": [
    {
     "data": {
      "text/plain": [
       "2014    1915\n",
       "2015    1961\n",
       "2016    2026\n",
       "2017    2467\n",
       "2018    2041\n",
       "Name: KOSPI, dtype: int64"
      ]
     },
     "execution_count": 4,
     "metadata": {},
     "output_type": "execute_result"
    }
   ],
   "source": [
    "#시리즈를 이용한 데이터프레임 생성\n",
    "kospi = pd.Series([1915,1961,2026,2467,2041],\n",
    "                 index = [2014,2015,2016,2017,2018], name = 'KOSPI')\n",
    "\n",
    "kosdaq = pd.Series([542,682,631,798,675],\n",
    "                  index = [2014,2015,2016,2017,2018], name = 'KOSDAQ')\n",
    "\n",
    "df = pd.DataFrame({kospi.name: kospi, kosdaq.name: kosdaq})\n",
    "df"
   ]
  },
  {
   "cell_type": "code",
   "execution_count": 9,
   "id": "4f1ad885",
   "metadata": {},
   "outputs": [
    {
     "name": "stdout",
     "output_type": "stream",
     "text": [
      "2014 1915 542\n",
      "2015 1961 682\n",
      "2016 2026 631\n",
      "2017 2467 798\n",
      "2018 2041 675\n"
     ]
    }
   ],
   "source": [
    "#데이터프레임 순회 처리\n",
    "for i in df.index:\n",
    "    print(i, df['KOSPI'][i], df['KOSDAQ'][i])"
   ]
  },
  {
   "cell_type": "code",
   "execution_count": 10,
   "id": "22d785fd",
   "metadata": {},
   "outputs": [
    {
     "name": "stdout",
     "output_type": "stream",
     "text": [
      "KRX(Index=2014, KOSPI=1915, KOSDAQ=542)\n",
      "KRX(Index=2015, KOSPI=1961, KOSDAQ=682)\n",
      "KRX(Index=2016, KOSPI=2026, KOSDAQ=631)\n",
      "KRX(Index=2017, KOSPI=2467, KOSDAQ=798)\n",
      "KRX(Index=2018, KOSPI=2041, KOSDAQ=675)\n"
     ]
    }
   ],
   "source": [
    "#itertuples메서드는 각 행을 이름있는 튜플 형태로 반환된다. \n",
    "#itertuples()메서드가 Iterrows()메서드를 사용할 때보다 더 빠르다고 알려져 있다. \n",
    "for row in df.itertuples(name = 'KRX'):\n",
    "    print(row)"
   ]
  },
  {
   "cell_type": "code",
   "execution_count": 11,
   "id": "64d6b422",
   "metadata": {},
   "outputs": [
    {
     "name": "stdout",
     "output_type": "stream",
     "text": [
      "2014 1915 542\n",
      "2015 1961 682\n",
      "2016 2026 631\n",
      "2017 2467 798\n",
      "2018 2041 675\n"
     ]
    }
   ],
   "source": [
    "for row in df.itertuples():\n",
    "    print(row[0],row[1],row[2])"
   ]
  },
  {
   "cell_type": "code",
   "execution_count": 12,
   "id": "00e42699",
   "metadata": {},
   "outputs": [
    {
     "name": "stdout",
     "output_type": "stream",
     "text": [
      "2014 1915 542\n",
      "2015 1961 682\n",
      "2016 2026 631\n",
      "2017 2467 798\n",
      "2018 2041 675\n"
     ]
    }
   ],
   "source": [
    "for idx, row in df.iterrows():\n",
    "    print(idx, row[0], row[1])"
   ]
  },
  {
   "cell_type": "markdown",
   "id": "5a22c4d2",
   "metadata": {},
   "source": [
    "# 주식 비교하기\n",
    "---\n",
    "- 야후 파이낸스를 사용해서 주식 가격을 비교한다.\n",
    "- 야후 파이낸스의 경우, 미국 주식의 데이터는 정확하지만 국내 주식의 경우 데이터가 누락되거나 값이 틀린 경우가 있으니 주의가 필요하다.\n",
    "- 여기서는 삼성전자와 마이크로소프트의 일별 주가 데이터를 야후 파이낸스로부터 다운로드받아서 어떤 종목의 수익률이 더 좋았는지 확인한다. \n",
    "- 사용하는 라이브러리: yfinance, pandas-datareader\n",
    "- get_data_yahoo(조회할 주식 종목 [,start = 조회 기간의 시작일] [,end = 조회 기간의 종료일])"
   ]
  },
  {
   "cell_type": "code",
   "execution_count": 2,
   "id": "18f8a135",
   "metadata": {},
   "outputs": [
    {
     "name": "stdout",
     "output_type": "stream",
     "text": [
      "[*********************100%***********************]  1 of 1 completed\n",
      "[*********************100%***********************]  1 of 1 completed\n"
     ]
    },
    {
     "data": {
      "text/html": [
       "<div>\n",
       "<style scoped>\n",
       "    .dataframe tbody tr th:only-of-type {\n",
       "        vertical-align: middle;\n",
       "    }\n",
       "\n",
       "    .dataframe tbody tr th {\n",
       "        vertical-align: top;\n",
       "    }\n",
       "\n",
       "    .dataframe thead th {\n",
       "        text-align: right;\n",
       "    }\n",
       "</style>\n",
       "<table border=\"1\" class=\"dataframe\">\n",
       "  <thead>\n",
       "    <tr style=\"text-align: right;\">\n",
       "      <th></th>\n",
       "      <th>Open</th>\n",
       "      <th>High</th>\n",
       "      <th>Low</th>\n",
       "      <th>Close</th>\n",
       "      <th>Adj Close</th>\n",
       "      <th>Volume</th>\n",
       "    </tr>\n",
       "    <tr>\n",
       "      <th>Date</th>\n",
       "      <th></th>\n",
       "      <th></th>\n",
       "      <th></th>\n",
       "      <th></th>\n",
       "      <th></th>\n",
       "      <th></th>\n",
       "    </tr>\n",
       "  </thead>\n",
       "  <tbody>\n",
       "    <tr>\n",
       "      <th>2018-05-04 00:00:00+09:00</th>\n",
       "      <td>53000.0</td>\n",
       "      <td>53900.0</td>\n",
       "      <td>51800.0</td>\n",
       "      <td>51900.0</td>\n",
       "      <td>45362.574219</td>\n",
       "      <td>39565391</td>\n",
       "    </tr>\n",
       "    <tr>\n",
       "      <th>2018-05-08 00:00:00+09:00</th>\n",
       "      <td>52600.0</td>\n",
       "      <td>53200.0</td>\n",
       "      <td>51900.0</td>\n",
       "      <td>52600.0</td>\n",
       "      <td>45974.398438</td>\n",
       "      <td>23104720</td>\n",
       "    </tr>\n",
       "    <tr>\n",
       "      <th>2018-05-09 00:00:00+09:00</th>\n",
       "      <td>52600.0</td>\n",
       "      <td>52800.0</td>\n",
       "      <td>50900.0</td>\n",
       "      <td>50900.0</td>\n",
       "      <td>44488.523438</td>\n",
       "      <td>16128305</td>\n",
       "    </tr>\n",
       "    <tr>\n",
       "      <th>2018-05-10 00:00:00+09:00</th>\n",
       "      <td>51700.0</td>\n",
       "      <td>51700.0</td>\n",
       "      <td>50600.0</td>\n",
       "      <td>51600.0</td>\n",
       "      <td>45100.355469</td>\n",
       "      <td>13905263</td>\n",
       "    </tr>\n",
       "    <tr>\n",
       "      <th>2018-05-11 00:00:00+09:00</th>\n",
       "      <td>52000.0</td>\n",
       "      <td>52200.0</td>\n",
       "      <td>51200.0</td>\n",
       "      <td>51300.0</td>\n",
       "      <td>44838.136719</td>\n",
       "      <td>10314997</td>\n",
       "    </tr>\n",
       "  </tbody>\n",
       "</table>\n",
       "</div>"
      ],
      "text/plain": [
       "                              Open     High      Low    Close     Adj Close  \\\n",
       "Date                                                                          \n",
       "2018-05-04 00:00:00+09:00  53000.0  53900.0  51800.0  51900.0  45362.574219   \n",
       "2018-05-08 00:00:00+09:00  52600.0  53200.0  51900.0  52600.0  45974.398438   \n",
       "2018-05-09 00:00:00+09:00  52600.0  52800.0  50900.0  50900.0  44488.523438   \n",
       "2018-05-10 00:00:00+09:00  51700.0  51700.0  50600.0  51600.0  45100.355469   \n",
       "2018-05-11 00:00:00+09:00  52000.0  52200.0  51200.0  51300.0  44838.136719   \n",
       "\n",
       "                             Volume  \n",
       "Date                                 \n",
       "2018-05-04 00:00:00+09:00  39565391  \n",
       "2018-05-08 00:00:00+09:00  23104720  \n",
       "2018-05-09 00:00:00+09:00  16128305  \n",
       "2018-05-10 00:00:00+09:00  13905263  \n",
       "2018-05-11 00:00:00+09:00  10314997  "
      ]
     },
     "execution_count": 2,
     "metadata": {},
     "output_type": "execute_result"
    }
   ],
   "source": [
    "# pandas_datareader는 오픈 데이터를 쉽게 가져올 수 있게 작성된 라이브러리다. \n",
    "# pdr_override()는 get_data_yahoo() 함수를 호출하면 야후에서 데이터를 획득하는 방식이 \n",
    "# 크롤링으로 변경되어 주가 데이터를 불러올 수 있게 하기 위함이다. \n",
    "# 원래는 종가와 수정종가가 같아야 하지만 데이터에 이상이 있어서 잘못 나와있다. 그래서 종가만 사용한다. \n",
    "\n",
    "from pandas_datareader import data as pdr\n",
    "import yfinance as yf\n",
    "yf.pdr_override()\n",
    "\n",
    "sec = pdr.get_data_yahoo('005930.KS', start = '2018-05-04')\n",
    "msft = pdr.get_data_yahoo('MSFT', start = '2018-05-04')\n",
    "sec.head()"
   ]
  },
  {
   "cell_type": "code",
   "execution_count": 3,
   "id": "ae209c6d",
   "metadata": {},
   "outputs": [
    {
     "data": {
      "text/html": [
       "<div>\n",
       "<style scoped>\n",
       "    .dataframe tbody tr th:only-of-type {\n",
       "        vertical-align: middle;\n",
       "    }\n",
       "\n",
       "    .dataframe tbody tr th {\n",
       "        vertical-align: top;\n",
       "    }\n",
       "\n",
       "    .dataframe thead th {\n",
       "        text-align: right;\n",
       "    }\n",
       "</style>\n",
       "<table border=\"1\" class=\"dataframe\">\n",
       "  <thead>\n",
       "    <tr style=\"text-align: right;\">\n",
       "      <th></th>\n",
       "      <th>Open</th>\n",
       "      <th>High</th>\n",
       "      <th>Low</th>\n",
       "      <th>Close</th>\n",
       "      <th>Adj Close</th>\n",
       "    </tr>\n",
       "    <tr>\n",
       "      <th>Date</th>\n",
       "      <th></th>\n",
       "      <th></th>\n",
       "      <th></th>\n",
       "      <th></th>\n",
       "      <th></th>\n",
       "    </tr>\n",
       "  </thead>\n",
       "  <tbody>\n",
       "    <tr>\n",
       "      <th>2023-01-12 00:00:00-05:00</th>\n",
       "      <td>235.259995</td>\n",
       "      <td>239.899994</td>\n",
       "      <td>233.559998</td>\n",
       "      <td>238.509995</td>\n",
       "      <td>238.509995</td>\n",
       "    </tr>\n",
       "    <tr>\n",
       "      <th>2023-01-13 00:00:00-05:00</th>\n",
       "      <td>237.000000</td>\n",
       "      <td>239.369995</td>\n",
       "      <td>234.919998</td>\n",
       "      <td>239.229996</td>\n",
       "      <td>239.229996</td>\n",
       "    </tr>\n",
       "    <tr>\n",
       "      <th>2023-01-17 00:00:00-05:00</th>\n",
       "      <td>237.970001</td>\n",
       "      <td>240.910004</td>\n",
       "      <td>237.089996</td>\n",
       "      <td>240.350006</td>\n",
       "      <td>240.350006</td>\n",
       "    </tr>\n",
       "    <tr>\n",
       "      <th>2023-01-18 00:00:00-05:00</th>\n",
       "      <td>241.570007</td>\n",
       "      <td>242.380005</td>\n",
       "      <td>235.520004</td>\n",
       "      <td>235.809998</td>\n",
       "      <td>235.809998</td>\n",
       "    </tr>\n",
       "    <tr>\n",
       "      <th>2023-01-19 00:00:00-05:00</th>\n",
       "      <td>233.779999</td>\n",
       "      <td>235.429993</td>\n",
       "      <td>231.589996</td>\n",
       "      <td>232.139999</td>\n",
       "      <td>232.139999</td>\n",
       "    </tr>\n",
       "  </tbody>\n",
       "</table>\n",
       "</div>"
      ],
      "text/plain": [
       "                                 Open        High         Low       Close  \\\n",
       "Date                                                                        \n",
       "2023-01-12 00:00:00-05:00  235.259995  239.899994  233.559998  238.509995   \n",
       "2023-01-13 00:00:00-05:00  237.000000  239.369995  234.919998  239.229996   \n",
       "2023-01-17 00:00:00-05:00  237.970001  240.910004  237.089996  240.350006   \n",
       "2023-01-18 00:00:00-05:00  241.570007  242.380005  235.520004  235.809998   \n",
       "2023-01-19 00:00:00-05:00  233.779999  235.429993  231.589996  232.139999   \n",
       "\n",
       "                            Adj Close  \n",
       "Date                                   \n",
       "2023-01-12 00:00:00-05:00  238.509995  \n",
       "2023-01-13 00:00:00-05:00  239.229996  \n",
       "2023-01-17 00:00:00-05:00  240.350006  \n",
       "2023-01-18 00:00:00-05:00  235.809998  \n",
       "2023-01-19 00:00:00-05:00  232.139999  "
      ]
     },
     "execution_count": 3,
     "metadata": {},
     "output_type": "execute_result"
    }
   ],
   "source": [
    "tmp_msft = msft.drop(columns = 'Volume')\n",
    "tmp_msft.tail()"
   ]
  },
  {
   "cell_type": "code",
   "execution_count": 5,
   "id": "e0e5c650",
   "metadata": {},
   "outputs": [
    {
     "data": {
      "image/png": "[encoded data removed]",
      "text/plain": [
       "<Figure size 640x480 with 1 Axes>"
      ]
     },
     "metadata": {},
     "output_type": "display_data"
    }
   ],
   "source": [
    "#원화와 달러의 스케일이 달라서 변동성이 보이지 않는다. \n",
    "import matplotlib.pyplot as plt\n",
    "plt.plot(sec.index, sec.Close, 'b', label = 'SAMSUNG Electronics')\n",
    "plt.plot(msft.index, msft.Close, 'r--', label = 'Microsoft')\n",
    "plt.legend(loc= 'best')\n",
    "plt.show()"
   ]
  },
  {
   "cell_type": "code",
   "execution_count": 10,
   "id": "2c2e95b3",
   "metadata": {},
   "outputs": [
    {
     "data": {
      "image/png": "[encoded data removed]",
      "text/plain": [
       "<Figure size 640x480 with 1 Axes>"
      ]
     },
     "metadata": {},
     "output_type": "display_data"
    }
   ],
   "source": [
    "#변동성이 보이지 않기에 일간 변동률로 주가를 비교한다.\n",
    "#오늘 변동률 = {(오늘 종가 - 어제종가)/어제종가 } * 100\n",
    "\n",
    "import matplotlib.pyplot as plt\n",
    "\n",
    "sec_dpc = (sec['Close']/sec['Close'].shift(1) -1) * 100\n",
    "sec_dpc.iloc[0] = 0\n",
    "plt.hist(sec_dpc,bins = 18)\n",
    "plt.grid(True)\n",
    "plt.show()"
   ]
  },
  {
   "cell_type": "code",
   "execution_count": 11,
   "id": "a8ffc3df",
   "metadata": {},
   "outputs": [
    {
     "data": {
      "text/plain": [
       "count    1160.000000\n",
       "mean        0.027672\n",
       "std         1.619427\n",
       "min        -6.387665\n",
       "25%        -0.977100\n",
       "50%         0.000000\n",
       "75%         0.852361\n",
       "max        10.470588\n",
       "Name: Close, dtype: float64"
      ]
     },
     "execution_count": 11,
     "metadata": {},
     "output_type": "execute_result"
    }
   ],
   "source": [
    "sec_dpc.describe()"
   ]
  },
  {
   "cell_type": "code",
   "execution_count": 17,
   "id": "639cc4e5",
   "metadata": {},
   "outputs": [],
   "source": [
    "#일간 변동률 누적곱 구하기\n",
    "#이 값의 의미는 2018-05-04에 구매하면 현재의 수익률을 볼 수 있게 해준다. \n",
    "#아래의 식은 누적 수익률을 구할 때 사용할 유용한 식이니 주의깊게 봐두자.\n",
    "sec_dpc_cp = ((100+sec_dpc)/100).cumprod()*100 - 100 "
   ]
  },
  {
   "cell_type": "code",
   "execution_count": 23,
   "id": "6fedfb6a",
   "metadata": {},
   "outputs": [
    {
     "name": "stdout",
     "output_type": "stream",
     "text": [
      "[*********************100%***********************]  1 of 1 completed\n",
      "[*********************100%***********************]  1 of 1 completed\n"
     ]
    },
    {
     "data": {
      "image/png": "[encoded data removed]",
      "text/plain": [
       "<Figure size 640x480 with 1 Axes>"
      ]
     },
     "metadata": {},
     "output_type": "display_data"
    }
   ],
   "source": [
    "#위에서 실습한 내용들을 바탕으로 MS와 삼성전자의 누적 수익률을 비교해본다.\n",
    "from pandas_datareader import data as pdr\n",
    "import yfinance as yf\n",
    "import matplotlib.pyplot as plt\n",
    "yf.pdr_override()\n",
    "\n",
    "sec = pdr.get_data_yahoo('005930.KS', start = '2018-05-04')\n",
    "sec_dpc = (sec['Close'] - sec['Close'].shift(1))/sec['Close'].shift(1) * 100\n",
    "sec_dpc.iloc[0] = 0\n",
    "sec_dpc_cp = ((100+sec_dpc)/100).cumprod() * 100 - 100 \n",
    "\n",
    "msft = pdr.get_data_yahoo('MSFT', start = '2018-05-04')\n",
    "msft_dpc = (msft['Close'] - msft['Close'].shift(1))/msft['Close'].shift(1) * 100\n",
    "msft_dpc.iloc[0] = 0\n",
    "msft_dpc_cp = ((100+msft_dpc)/100).cumprod() * 100 - 100 \n",
    "\n",
    "plt.plot(sec.index, sec_dpc_cp, 'b', label = 'SAMSUNG Electronics')\n",
    "plt.plot(msft.index, msft_dpc_cp, 'r--', label = 'Microsoft')\n",
    "plt.ylabel('Change %')\n",
    "plt.grid(True)\n",
    "plt.legend(loc ='best')\n",
    "plt.show()"
   ]
  },
  {
   "cell_type": "code",
   "execution_count": 20,
   "id": "21eabe96",
   "metadata": {},
   "outputs": [
    {
     "name": "stdout",
     "output_type": "stream",
     "text": [
      "[   1.2     1.56   -7.8   -70.2  -842.4 ]\n"
     ]
    }
   ],
   "source": []
  }
 ],
 "metadata": {
  "kernelspec": {
   "display_name": "python_stock",
   "language": "python",
   "name": "python_stock"
  },
  "language_info": {
   "codemirror_mode": {
    "name": "ipython",
    "version": 3
   },
   "file_extension": ".py",
   "mimetype": "text/x-python",
   "name": "python",
   "nbconvert_exporter": "python",
   "pygments_lexer": "ipython3",
   "version": "3.9.5"
  }
 },
 "nbformat": 4,
 "nbformat_minor": 5
}
